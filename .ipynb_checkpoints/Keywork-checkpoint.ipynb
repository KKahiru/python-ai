{
 "cells": [
  {
   "cell_type": "markdown",
   "id": "99737299",
   "metadata": {},
   "source": [
    "# MacKind"
   ]
  },
  {
   "cell_type": "markdown",
   "id": "a89479f2",
   "metadata": {},
   "source": [
    "## Imports"
   ]
  },
  {
   "cell_type": "code",
   "execution_count": 1,
   "id": "a117f6c7",
   "metadata": {},
   "outputs": [],
   "source": [
    "from keras.models import Sequential"
   ]
  },
  {
   "cell_type": "code",
   "execution_count": 2,
   "id": "f571f767",
   "metadata": {},
   "outputs": [],
   "source": [
    "from keras.layers import Activation, Dense"
   ]
  },
  {
   "cell_type": "code",
   "execution_count": 3,
   "id": "1c986f58",
   "metadata": {},
   "outputs": [],
   "source": [
    "from keras.layers import Conv2D, MaxPooling2D, Flatten"
   ]
  },
  {
   "cell_type": "code",
   "execution_count": 4,
   "id": "08c8fd0f",
   "metadata": {},
   "outputs": [],
   "source": [
    "from keras.preprocessing.image import ImageDataGenerator"
   ]
  },
  {
   "cell_type": "code",
   "execution_count": 5,
   "id": "a345d015",
   "metadata": {},
   "outputs": [],
   "source": [
    "import sys"
   ]
  },
  {
   "cell_type": "code",
   "execution_count": 6,
   "id": "c65e779a",
   "metadata": {},
   "outputs": [],
   "source": [
    "from PIL import Image"
   ]
  },
  {
   "cell_type": "code",
   "execution_count": 7,
   "id": "2ec1ec4b",
   "metadata": {},
   "outputs": [],
   "source": [
    "import numpy as np"
   ]
  },
  {
   "cell_type": "markdown",
   "id": "34d54687",
   "metadata": {},
   "source": [
    "## Make model"
   ]
  },
  {
   "cell_type": "code",
   "execution_count": 8,
   "id": "784e7428",
   "metadata": {},
   "outputs": [],
   "source": [
    "model = Sequential()\n",
    "model.add(Conv2D(64, (3, 3), input_shape=(64, 64, 3)))\n",
    "model.add(Activation(\"relu\"))\n",
    "model.add(MaxPooling2D(pool_size=(2, 2)))\n",
    "model.add(Conv2D(64, (3, 3)))\n",
    "model.add(Activation(\"relu\"))\n",
    "model.add(MaxPooling2D(pool_size=(2, 2)))\n",
    "model.add(Flatten())\n",
    "model.add(Dense(256))\n",
    "model.add(Activation(\"relu\"))\n",
    "model.add(Dense(2))\n",
    "model.add(Activation(\"softmax\"))\n",
    "# model.summary()"
   ]
  },
  {
   "cell_type": "markdown",
   "id": "2ff0e47e",
   "metadata": {},
   "source": [
    "## Train"
   ]
  },
  {
   "cell_type": "code",
   "execution_count": 9,
   "id": "655c814b",
   "metadata": {},
   "outputs": [
    {
     "name": "stdout",
     "output_type": "stream",
     "text": [
      "Found 140 images belonging to 2 classes.\n",
      "Found 20 images belonging to 2 classes.\n",
      "Epoch 1/50\n"
     ]
    },
    {
     "name": "stderr",
     "output_type": "stream",
     "text": [
      "2022-11-28 18:18:59.622448: W tensorflow/core/platform/profile_utils/cpu_utils.cc:128] Failed to get CPU frequency: 0 Hz\n"
     ]
    },
    {
     "name": "stdout",
     "output_type": "stream",
     "text": [
      " 9/10 [==========================>...] - ETA: 0s - loss: 0.9240 - accuracy: 0.5778WARNING:tensorflow:Your input ran out of data; interrupting training. Make sure that your dataset or generator can generate at least `steps_per_epoch * epochs` batches (in this case, 10 batches). You may need to use the repeat() function when building your dataset.\n",
      "10/10 [==============================] - 1s 54ms/step - loss: 0.8984 - accuracy: 0.5900 - val_loss: 0.6619 - val_accuracy: 0.7000\n",
      "Epoch 2/50\n",
      "10/10 [==============================] - 0s 21ms/step - loss: 0.5955 - accuracy: 0.7700\n",
      "Epoch 3/50\n",
      "10/10 [==============================] - 0s 21ms/step - loss: 0.4507 - accuracy: 0.7800\n",
      "Epoch 4/50\n",
      "10/10 [==============================] - 0s 21ms/step - loss: 0.2735 - accuracy: 0.9300\n",
      "Epoch 5/50\n",
      "10/10 [==============================] - 0s 22ms/step - loss: 0.1165 - accuracy: 0.9600\n",
      "Epoch 6/50\n",
      "10/10 [==============================] - 0s 22ms/step - loss: 0.1593 - accuracy: 0.9400\n",
      "Epoch 7/50\n",
      "10/10 [==============================] - 0s 22ms/step - loss: 0.1964 - accuracy: 0.9300\n",
      "Epoch 8/50\n",
      "10/10 [==============================] - 0s 22ms/step - loss: 0.1444 - accuracy: 0.9500\n",
      "Epoch 9/50\n",
      "10/10 [==============================] - 0s 23ms/step - loss: 0.0751 - accuracy: 0.9800\n",
      "Epoch 10/50\n",
      "10/10 [==============================] - 0s 21ms/step - loss: 0.0607 - accuracy: 0.9700\n",
      "Epoch 11/50\n",
      "10/10 [==============================] - 0s 22ms/step - loss: 0.0178 - accuracy: 1.0000\n",
      "Epoch 12/50\n",
      "10/10 [==============================] - 0s 22ms/step - loss: 0.0193 - accuracy: 0.9900\n",
      "Epoch 13/50\n",
      "10/10 [==============================] - 0s 22ms/step - loss: 0.0132 - accuracy: 1.0000\n",
      "Epoch 14/50\n",
      "10/10 [==============================] - 0s 23ms/step - loss: 0.0074 - accuracy: 1.0000\n",
      "Epoch 15/50\n",
      "10/10 [==============================] - 0s 22ms/step - loss: 0.0041 - accuracy: 1.0000\n",
      "Epoch 16/50\n",
      "10/10 [==============================] - 0s 24ms/step - loss: 0.0039 - accuracy: 1.0000\n",
      "Epoch 17/50\n",
      "10/10 [==============================] - 0s 24ms/step - loss: 8.3419e-04 - accuracy: 1.0000\n",
      "Epoch 18/50\n",
      "10/10 [==============================] - 0s 24ms/step - loss: 8.7778e-04 - accuracy: 1.0000\n",
      "Epoch 19/50\n",
      "10/10 [==============================] - 0s 22ms/step - loss: 4.9527e-04 - accuracy: 1.0000\n",
      "Epoch 20/50\n",
      "10/10 [==============================] - 0s 22ms/step - loss: 2.5249e-04 - accuracy: 1.0000\n",
      "Epoch 21/50\n",
      "10/10 [==============================] - 0s 22ms/step - loss: 3.0393e-04 - accuracy: 1.0000\n",
      "Epoch 22/50\n",
      "10/10 [==============================] - 0s 22ms/step - loss: 3.1046e-04 - accuracy: 1.0000\n",
      "Epoch 23/50\n",
      "10/10 [==============================] - 0s 23ms/step - loss: 2.2903e-04 - accuracy: 1.0000\n",
      "Epoch 24/50\n",
      "10/10 [==============================] - 0s 23ms/step - loss: 2.4398e-04 - accuracy: 1.0000\n",
      "Epoch 25/50\n",
      "10/10 [==============================] - 0s 22ms/step - loss: 1.7096e-04 - accuracy: 1.0000\n",
      "Epoch 26/50\n",
      "10/10 [==============================] - 0s 23ms/step - loss: 2.0825e-04 - accuracy: 1.0000\n",
      "Epoch 27/50\n",
      "10/10 [==============================] - 0s 22ms/step - loss: 2.4709e-04 - accuracy: 1.0000\n",
      "Epoch 28/50\n",
      "10/10 [==============================] - 0s 23ms/step - loss: 1.7275e-04 - accuracy: 1.0000\n",
      "Epoch 29/50\n",
      "10/10 [==============================] - 0s 23ms/step - loss: 1.8658e-04 - accuracy: 1.0000\n",
      "Epoch 30/50\n",
      "10/10 [==============================] - 0s 22ms/step - loss: 1.8329e-04 - accuracy: 1.0000\n",
      "Epoch 31/50\n",
      "10/10 [==============================] - 0s 23ms/step - loss: 1.7356e-04 - accuracy: 1.0000\n",
      "Epoch 32/50\n",
      "10/10 [==============================] - 0s 23ms/step - loss: 1.6219e-04 - accuracy: 1.0000\n",
      "Epoch 33/50\n",
      "10/10 [==============================] - 0s 23ms/step - loss: 1.5650e-04 - accuracy: 1.0000\n",
      "Epoch 34/50\n",
      "10/10 [==============================] - 0s 24ms/step - loss: 1.5384e-04 - accuracy: 1.0000\n",
      "Epoch 35/50\n",
      "10/10 [==============================] - 0s 24ms/step - loss: 1.5601e-04 - accuracy: 1.0000\n",
      "Epoch 36/50\n",
      "10/10 [==============================] - 0s 24ms/step - loss: 1.2100e-04 - accuracy: 1.0000\n",
      "Epoch 37/50\n",
      "10/10 [==============================] - 0s 25ms/step - loss: 1.2548e-04 - accuracy: 1.0000\n",
      "Epoch 38/50\n",
      "10/10 [==============================] - 0s 24ms/step - loss: 1.1779e-04 - accuracy: 1.0000\n",
      "Epoch 39/50\n",
      "10/10 [==============================] - 0s 23ms/step - loss: 1.1282e-04 - accuracy: 1.0000\n",
      "Epoch 40/50\n",
      "10/10 [==============================] - 0s 23ms/step - loss: 1.0979e-04 - accuracy: 1.0000\n",
      "Epoch 41/50\n",
      "10/10 [==============================] - 0s 23ms/step - loss: 1.1271e-04 - accuracy: 1.0000\n",
      "Epoch 42/50\n",
      "10/10 [==============================] - 0s 23ms/step - loss: 8.3877e-05 - accuracy: 1.0000\n",
      "Epoch 43/50\n",
      "10/10 [==============================] - 0s 23ms/step - loss: 9.3635e-05 - accuracy: 1.0000\n",
      "Epoch 44/50\n",
      "10/10 [==============================] - 0s 23ms/step - loss: 7.8199e-05 - accuracy: 1.0000\n",
      "Epoch 45/50\n",
      "10/10 [==============================] - 0s 24ms/step - loss: 8.7838e-05 - accuracy: 1.0000\n",
      "Epoch 46/50\n",
      "10/10 [==============================] - 0s 24ms/step - loss: 7.7659e-05 - accuracy: 1.0000\n",
      "Epoch 47/50\n",
      "10/10 [==============================] - 0s 24ms/step - loss: 9.6844e-05 - accuracy: 1.0000\n",
      "Epoch 48/50\n",
      "10/10 [==============================] - 0s 25ms/step - loss: 8.5383e-05 - accuracy: 1.0000\n",
      "Epoch 49/50\n",
      "10/10 [==============================] - 0s 24ms/step - loss: 7.9598e-05 - accuracy: 1.0000\n",
      "Epoch 50/50\n",
      "10/10 [==============================] - 0s 23ms/step - loss: 6.8223e-05 - accuracy: 1.0000\n"
     ]
    },
    {
     "data": {
      "text/plain": [
       "<keras.callbacks.History at 0x176c30fa0>"
      ]
     },
     "execution_count": 9,
     "metadata": {},
     "output_type": "execute_result"
    }
   ],
   "source": [
    "model.compile(\n",
    "        optimizer=\"adam\",\n",
    "        loss=\"categorical_crossentropy\",\n",
    "        metrics=[\"accuracy\"])\n",
    "train_datagen = ImageDataGenerator(rescale=1./255)\n",
    "test_datagen = ImageDataGenerator(rescale=1./255)\n",
    "train_generator = train_datagen.flow_from_directory(\"data/train/keywork\", target_size=(64, 64), batch_size=10)\n",
    "validation_generator= test_datagen.flow_from_directory(\"data/validation/keywork\", target_size=(64, 64), batch_size=10)\n",
    "model.fit(train_generator,\n",
    "        epochs=50,\n",
    "        steps_per_epoch=10,\n",
    "        validation_data=validation_generator,\n",
    "        validation_steps=10)"
   ]
  },
  {
   "cell_type": "markdown",
   "id": "403fcdb2",
   "metadata": {},
   "source": [
    "## Save"
   ]
  },
  {
   "cell_type": "code",
   "execution_count": 10,
   "id": "6f918ddd",
   "metadata": {},
   "outputs": [],
   "source": [
    "model.save('Keywork.h5')"
   ]
  },
  {
   "cell_type": "markdown",
   "id": "07f42a54",
   "metadata": {},
   "source": [
    "## Judge"
   ]
  },
  {
   "cell_type": "code",
   "execution_count": 11,
   "id": "005c7892",
   "metadata": {},
   "outputs": [
    {
     "name": "stdout",
     "output_type": "stream",
     "text": [
      "1/1 [==============================] - 0s 60ms/step\n",
      "[[1.0000000e+00 2.0653221e-08]]\n",
      "これはiMac\n"
     ]
    }
   ],
   "source": [
    "input_image = Image.open(\"/Users/12710037/Downloads/images-3.jpeg\")\n",
    "input_image = input_image.resize((64, 64))\n",
    "np_image = np.array(input_image)\n",
    "np_image = np_image / 255\n",
    "np_image = np_image[np.newaxis, :, :, :]\n",
    "result = model.predict(np_image)\n",
    "print(result)\n",
    "if result[0][0] > result[0][1]:\n",
    "    print(\"これはiMac\")\n",
    "else:\n",
    "    print(\"これはMacBook Air\")"
   ]
  }
 ],
 "metadata": {
  "interpreter": {
   "hash": "5764c666131615a43c4cfe0609f5f1838e9dd5d10e9382dea6cb1ef2c7e1931b"
  },
  "kernelspec": {
   "display_name": "Python 3 (ipykernel)",
   "language": "python",
   "name": "python3"
  },
  "language_info": {
   "codemirror_mode": {
    "name": "ipython",
    "version": 3
   },
   "file_extension": ".py",
   "mimetype": "text/x-python",
   "name": "python",
   "nbconvert_exporter": "python",
   "pygments_lexer": "ipython3",
   "version": "3.9.12"
  }
 },
 "nbformat": 4,
 "nbformat_minor": 5
}
