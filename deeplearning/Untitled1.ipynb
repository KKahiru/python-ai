{
 "cells": [
  {
   "cell_type": "code",
   "execution_count": 3,
   "id": "9dbb5069",
   "metadata": {},
   "outputs": [
    {
     "ename": "ImportError",
     "evalue": "cannot import name 'layer' from 'keras' (/Users/12710037/.local/bin/miniconda3/lib/python3.9/site-packages/keras/__init__.py)",
     "output_type": "error",
     "traceback": [
      "\u001b[0;31m---------------------------------------------------------------------------\u001b[0m",
      "\u001b[0;31mImportError\u001b[0m                               Traceback (most recent call last)",
      "Cell \u001b[0;32mIn [3], line 1\u001b[0m\n\u001b[0;32m----> 1\u001b[0m \u001b[38;5;28;01mfrom\u001b[39;00m \u001b[38;5;21;01mkeras\u001b[39;00m \u001b[38;5;28;01mimport\u001b[39;00m layer\n",
      "\u001b[0;31mImportError\u001b[0m: cannot import name 'layer' from 'keras' (/Users/12710037/.local/bin/miniconda3/lib/python3.9/site-packages/keras/__init__.py)"
     ]
    }
   ],
   "source": [
    "from keras import layer"
   ]
  },
  {
   "cell_type": "code",
   "execution_count": null,
   "id": "9e93a5fd",
   "metadata": {},
   "outputs": [],
   "source": []
  }
 ],
 "metadata": {
  "kernelspec": {
   "display_name": "Python 3 (ipykernel)",
   "language": "python",
   "name": "python3"
  },
  "language_info": {
   "codemirror_mode": {
    "name": "ipython",
    "version": 3
   },
   "file_extension": ".py",
   "mimetype": "text/x-python",
   "name": "python",
   "nbconvert_exporter": "python",
   "pygments_lexer": "ipython3",
   "version": "3.9.12"
  }
 },
 "nbformat": 4,
 "nbformat_minor": 5
}
