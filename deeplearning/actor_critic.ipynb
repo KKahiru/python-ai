{
 "cells": [
  {
   "cell_type": "markdown",
   "source": [
    "##### Copyright 2020 The TensorFlow Authors."
   ],
   "metadata": {
    "id": "_jQ1tEQCxwRx"
   }
  },
  {
   "cell_type": "code",
   "execution_count": 2,
   "source": [
    "#@title Licensed under the Apache License, Version 2.0 (the \"License\");\n",
    "# you may not use this file except in compliance with the License.\n",
    "# You may obtain a copy of the License at\n",
    "#\n",
    "# https://www.apache.org/licenses/LICENSE-2.0\n",
    "#\n",
    "# Unless required by applicable law or agreed to in writing, software\n",
    "# distributed under the License is distributed on an \"AS IS\" BASIS,\n",
    "# WITHOUT WARRANTIES OR CONDITIONS OF ANY KIND, either express or implied.\n",
    "# See the License for the specific language governing permissions and\n",
    "# limitations under the License."
   ],
   "outputs": [],
   "metadata": {
    "cellView": "form",
    "execution": {
     "iopub.execute_input": "2022-10-28T01:24:35.906624Z",
     "iopub.status.busy": "2022-10-28T01:24:35.906179Z",
     "iopub.status.idle": "2022-10-28T01:24:35.910035Z",
     "shell.execute_reply": "2022-10-28T01:24:35.909452Z"
    },
    "id": "V_sgB_5dx1f1"
   }
  },
  {
   "cell_type": "markdown",
   "source": [
    "# Playing CartPole with the Actor-Critic method\n"
   ],
   "metadata": {
    "id": "p62G8M_viUJp"
   }
  },
  {
   "cell_type": "markdown",
   "source": [
    "<table class=\"tfo-notebook-buttons\" align=\"left\">\n",
    "  <td>\n",
    "    <a target=\"_blank\" href=\"https://www.tensorflow.org/tutorials/reinforcement_learning/actor_critic\">\n",
    "    <img src=\"https://www.tensorflow.org/images/tf_logo_32px.png\" />\n",
    "    View on TensorFlow.org</a>\n",
    "  </td>\n",
    "  <td>\n",
    "    <a target=\"_blank\" href=\"https://colab.research.google.com/github/tensorflow/docs/blob/master/site/en/tutorials/reinforcement_learning/actor_critic.ipynb\">\n",
    "    <img src=\"https://www.tensorflow.org/images/colab_logo_32px.png\" />\n",
    "    Run in Google Colab</a>\n",
    "  </td>\n",
    "  <td>\n",
    "    <a target=\"_blank\" href=\"https://github.com/tensorflow/docs/blob/master/site/en/tutorials/reinforcement_learning/actor_critic.ipynb\">\n",
    "    <img src=\"https://www.tensorflow.org/images/GitHub-Mark-32px.png\" />\n",
    "    View source on GitHub</a>\n",
    "  </td>\n",
    "  <td>\n",
    "    <a href=\"https://storage.googleapis.com/tensorflow_docs/docs/site/en/tutorials/reinforcement_learning/actor_critic.ipynb\"><img src=\"https://www.tensorflow.org/images/download_logo_32px.png\" />Download notebook</a>\n",
    "  </td>\n",
    "</table>"
   ],
   "metadata": {
    "id": "-mJ2i6jvZ3sK"
   }
  },
  {
   "cell_type": "markdown",
   "source": [
    "This tutorial demonstrates how to implement the [Actor-Critic](https://papers.nips.cc/paper/1786-actor-critic-algorithms.pdf) method using TensorFlow to train an agent on the [Open AI Gym](https://gym.openai.com/) [`CartPole-v0`](https://www.gymlibrary.dev/environments/classic_control/cart_pole/) environment.\n",
    "The reader is assumed to have some familiarity with [policy gradient methods](https://papers.nips.cc/paper/1713-policy-gradient-methods-for-reinforcement-learning-with-function-approximation.pdf) of [(deep) reinforcement learning](https://en.wikipedia.org/wiki/Deep_reinforcement_learning). \n"
   ],
   "metadata": {
    "id": "kFgN7h_wiUJq"
   }
  },
  {
   "cell_type": "markdown",
   "source": [
    "**Actor-Critic methods**\n",
    "\n",
    "Actor-Critic methods are [temporal difference (TD) learning](https://en.wikipedia.org/wiki/Temporal_difference_learning) methods that represent the policy function independent of the value function.\n",
    "\n",
    "A policy function (or policy) returns a probability distribution over actions that the agent can take based on the given state.\n",
    "A value function determines the expected return for an agent starting at a given state and acting according to a particular policy forever after.\n",
    "\n",
    "In the Actor-Critic method, the policy is referred to as the *actor* that proposes a set of possible actions given a state, and the estimated value function is referred to as the *critic*, which evaluates actions taken by the *actor* based on the given policy.\n",
    "\n",
    "In this tutorial, both the *Actor* and *Critic* will be represented using one neural network with two outputs.\n"
   ],
   "metadata": {
    "id": "_kA10ZKRR0hi"
   }
  },
  {
   "cell_type": "markdown",
   "source": [
    "**`CartPole-v0`**\n",
    "\n",
    "In the [`CartPole-v0` environment](https://www.gymlibrary.dev/environments/classic_control/cart_pole/), a pole is attached to a cart moving along a frictionless track.\n",
    "The pole starts upright and the goal of the agent is to prevent it from falling over by applying a force of `-1` or `+1` to the cart.\n",
    "A reward of `+1` is given for every time step the pole remains upright.\n",
    "An episode ends when: 1) the pole is more than 15 degrees from vertical; or 2) the cart moves more than 2.4 units from the center.\n",
    "\n",
    "<center>\n",
    "  <figure>\n",
    "    <image src=\"https://tensorflow.org/tutorials/reinforcement_learning/images/cartpole-v0.gif\">\n",
    "    <figcaption>\n",
    "      Trained actor-critic model in Cartpole-v0 environment\n",
    "    </figcaption>\n",
    "  </figure>\n",
    "</center>\n"
   ],
   "metadata": {
    "id": "rBfiafKSRs2k"
   }
  },
  {
   "cell_type": "markdown",
   "source": [
    "The problem is considered \"solved\" when the average total reward for the episode reaches 195 over 100 consecutive trials."
   ],
   "metadata": {
    "id": "XSNVK0AeRoJd"
   }
  },
  {
   "cell_type": "markdown",
   "source": [
    "## Setup\n",
    "\n",
    "Import necessary packages and configure global settings.\n"
   ],
   "metadata": {
    "id": "glLwIctHiUJq"
   }
  },
  {
   "cell_type": "code",
   "execution_count": 3,
   "source": [
    "!pip install gym[classic_control]\n",
    "!pip install pyglet"
   ],
   "outputs": [
    {
     "output_type": "stream",
     "name": "stdout",
     "text": [
      "zsh:1: no matches found: gym[classic_control]\n",
      "Collecting pyglet\n",
      "  Downloading pyglet-2.0.0-py3-none-any.whl (966 kB)\n",
      "\u001b[K     |████████████████████████████████| 966 kB 90 kB/s \n",
      "\u001b[?25hInstalling collected packages: pyglet\n",
      "Successfully installed pyglet-2.0.0\n"
     ]
    }
   ],
   "metadata": {
    "execution": {
     "iopub.execute_input": "2022-10-28T01:24:35.915098Z",
     "iopub.status.busy": "2022-10-28T01:24:35.914692Z",
     "iopub.status.idle": "2022-10-28T01:24:44.730694Z",
     "shell.execute_reply": "2022-10-28T01:24:44.729869Z"
    },
    "id": "13l6BbxKhCKp"
   }
  },
  {
   "cell_type": "code",
   "execution_count": 4,
   "source": [
    "%%bash\n",
    "# Install additional packages for visualization\n",
    "sudo apt-get install -y python-opengl > /dev/null 2>&1\n",
    "pip install git+https://github.com/tensorflow/docs > /dev/null 2>&1"
   ],
   "outputs": [],
   "metadata": {
    "execution": {
     "iopub.execute_input": "2022-10-28T01:24:44.735393Z",
     "iopub.status.busy": "2022-10-28T01:24:44.734769Z",
     "iopub.status.idle": "2022-10-28T01:24:57.423807Z",
     "shell.execute_reply": "2022-10-28T01:24:57.422763Z"
    },
    "id": "WBeQhPi2S4m5"
   }
  },
  {
   "cell_type": "code",
   "execution_count": 5,
   "source": [
    "import collections\n",
    "import gym\n",
    "import numpy as np\n",
    "import statistics\n",
    "import tensorflow as tf\n",
    "import tqdm\n",
    "\n",
    "from matplotlib import pyplot as plt\n",
    "from tensorflow.keras import layers\n",
    "from typing import Any, List, Sequence, Tuple\n",
    "\n",
    "\n",
    "# Create the environment\n",
    "env = gym.make(\"CartPole-v1\")\n",
    "\n",
    "# Set seed for experiment reproducibility\n",
    "seed = 42\n",
    "tf.random.set_seed(seed)\n",
    "np.random.seed(seed)\n",
    "\n",
    "# Small epsilon value for stabilizing division operations\n",
    "eps = np.finfo(np.float32).eps.item()"
   ],
   "outputs": [
    {
     "output_type": "error",
     "ename": "ModuleNotFoundError",
     "evalue": "No module named 'gym'",
     "traceback": [
      "\u001b[0;31m---------------------------------------------------------------------------\u001b[0m",
      "\u001b[0;31mModuleNotFoundError\u001b[0m                       Traceback (most recent call last)",
      "Cell \u001b[0;32mIn [5], line 2\u001b[0m\n\u001b[1;32m      1\u001b[0m \u001b[38;5;28;01mimport\u001b[39;00m \u001b[38;5;21;01mcollections\u001b[39;00m\n\u001b[0;32m----> 2\u001b[0m \u001b[38;5;28;01mimport\u001b[39;00m \u001b[38;5;21;01mgym\u001b[39;00m\n\u001b[1;32m      3\u001b[0m \u001b[38;5;28;01mimport\u001b[39;00m \u001b[38;5;21;01mnumpy\u001b[39;00m \u001b[38;5;28;01mas\u001b[39;00m \u001b[38;5;21;01mnp\u001b[39;00m\n\u001b[1;32m      4\u001b[0m \u001b[38;5;28;01mimport\u001b[39;00m \u001b[38;5;21;01mstatistics\u001b[39;00m\n",
      "\u001b[0;31mModuleNotFoundError\u001b[0m: No module named 'gym'"
     ]
    }
   ],
   "metadata": {
    "execution": {
     "iopub.execute_input": "2022-10-28T01:24:57.428421Z",
     "iopub.status.busy": "2022-10-28T01:24:57.427885Z",
     "iopub.status.idle": "2022-10-28T01:24:59.907580Z",
     "shell.execute_reply": "2022-10-28T01:24:59.906615Z"
    },
    "id": "tT4N3qYviUJr"
   }
  },
  {
   "cell_type": "markdown",
   "source": [
    "## The model\n",
    "\n",
    "The *Actor* and *Critic* will be modeled using one neural network that generates the action probabilities and Critic value respectively. This tutorial uses model subclassing to define the model. \n",
    "\n",
    "During the forward pass, the model will take in the state as the input and will output both action probabilities and critic value $V$, which models the state-dependent [value function](https://spinningup.openai.com/en/latest/spinningup/rl_intro.html#value-functions). The goal is to train a model that chooses actions based on a policy $\\pi$ that maximizes expected [return](https://spinningup.openai.com/en/latest/spinningup/rl_intro.html#reward-and-return).\n",
    "\n",
    "For `CartPole-v0`, there are four values representing the state: cart position, cart-velocity, pole angle and pole velocity respectively. The agent can take two actions to push the cart left (`0`) and right (`1`), respectively.\n",
    "\n",
    "Refer to [Gym's Cart Pole documentation page](https://www.gymlibrary.dev/environments/classic_control/cart_pole/) and [_Neuronlike adaptive elements that can solve difficult learning control problems_](http://www.derongliu.org/adp/adp-cdrom/Barto1983.pdf) by Barto, Sutton and Anderson (1983) for more information.\n"
   ],
   "metadata": {
    "id": "AOUCe2D0iUJu"
   }
  },
  {
   "cell_type": "code",
   "execution_count": null,
   "source": [
    "class ActorCritic(tf.keras.Model):\n",
    "  \"\"\"Combined actor-critic network.\"\"\"\n",
    "\n",
    "  def __init__(\n",
    "      self, \n",
    "      num_actions: int, \n",
    "      num_hidden_units: int):\n",
    "    \"\"\"Initialize.\"\"\"\n",
    "    super().__init__()\n",
    "\n",
    "    self.common = layers.Dense(num_hidden_units, activation=\"relu\")\n",
    "    self.actor = layers.Dense(num_actions)\n",
    "    self.critic = layers.Dense(1)\n",
    "\n",
    "  def call(self, inputs: tf.Tensor) -> Tuple[tf.Tensor, tf.Tensor]:\n",
    "    x = self.common(inputs)\n",
    "    return self.actor(x), self.critic(x)"
   ],
   "outputs": [
    {
     "output_type": "error",
     "ename": "NameError",
     "evalue": "name 'tf' is not defined",
     "traceback": [
      "\u001b[0;31m---------------------------------------------------------------------------\u001b[0m",
      "\u001b[0;31mNameError\u001b[0m                                 Traceback (most recent call last)",
      "Cell \u001b[0;32mIn [1], line 1\u001b[0m\n\u001b[0;32m----> 1\u001b[0m \u001b[38;5;28;01mclass\u001b[39;00m \u001b[38;5;21;01mActorCritic\u001b[39;00m(\u001b[43mtf\u001b[49m\u001b[38;5;241m.\u001b[39mkeras\u001b[38;5;241m.\u001b[39mModel):\n\u001b[1;32m      2\u001b[0m   \u001b[38;5;124;03m\"\"\"Combined actor-critic network.\"\"\"\u001b[39;00m\n\u001b[1;32m      4\u001b[0m   \u001b[38;5;28;01mdef\u001b[39;00m \u001b[38;5;21m__init__\u001b[39m(\n\u001b[1;32m      5\u001b[0m       \u001b[38;5;28mself\u001b[39m, \n\u001b[1;32m      6\u001b[0m       num_actions: \u001b[38;5;28mint\u001b[39m, \n\u001b[1;32m      7\u001b[0m       num_hidden_units: \u001b[38;5;28mint\u001b[39m):\n",
      "\u001b[0;31mNameError\u001b[0m: name 'tf' is not defined"
     ]
    }
   ],
   "metadata": {
    "execution": {
     "iopub.execute_input": "2022-10-28T01:24:59.912668Z",
     "iopub.status.busy": "2022-10-28T01:24:59.911829Z",
     "iopub.status.idle": "2022-10-28T01:24:59.917659Z",
     "shell.execute_reply": "2022-10-28T01:24:59.916915Z"
    },
    "id": "aXKbbMC-kmuv"
   }
  },
  {
   "cell_type": "code",
   "execution_count": null,
   "source": [
    "num_actions = env.action_space.n  # 2\n",
    "num_hidden_units = 128\n",
    "\n",
    "model = ActorCritic(num_actions, num_hidden_units)"
   ],
   "outputs": [],
   "metadata": {
    "execution": {
     "iopub.execute_input": "2022-10-28T01:24:59.920824Z",
     "iopub.status.busy": "2022-10-28T01:24:59.920581Z",
     "iopub.status.idle": "2022-10-28T01:25:03.213503Z",
     "shell.execute_reply": "2022-10-28T01:25:03.212825Z"
    },
    "id": "nWyxJgjLn68c"
   }
  },
  {
   "cell_type": "markdown",
   "source": [
    "## Train the agent\n",
    "\n",
    "To train the agent, you will follow these steps:\n",
    "\n",
    "1. Run the agent on the environment to collect training data per episode.\n",
    "2. Compute expected return at each time step.\n",
    "3. Compute the loss for the combined Actor-Critic model.\n",
    "4. Compute gradients and update network parameters.\n",
    "5. Repeat 1-4 until either success criterion or max episodes has been reached.\n"
   ],
   "metadata": {
    "id": "hk92njFziUJw"
   }
  },
  {
   "cell_type": "markdown",
   "source": [
    "### 1. Collect training data\n",
    "\n",
    "As in supervised learning, in order to train the actor-critic model, you need\n",
    "to have training data. However, in order to collect such data, the model would\n",
    "need to be \"run\" in the environment.\n",
    "\n",
    "Training data is collected for each episode. Then at each time step, the model's forward pass will be run on the environment's state in order to generate action probabilities and the critic value based on the current policy parameterized by the model's weights.\n",
    "\n",
    "The next action will be sampled from the action probabilities generated by the model, which would then be applied to the environment, causing the next state and reward to be generated.\n",
    "\n",
    "This process is implemented in the `run_episode` function, which uses TensorFlow operations so that it can later be compiled into a TensorFlow graph for faster training. Note that `tf.TensorArray`s were used to support Tensor iteration on variable length arrays."
   ],
   "metadata": {
    "id": "R2nde2XDs8Gh"
   }
  },
  {
   "cell_type": "code",
   "execution_count": null,
   "source": [
    "# Wrap Gym's `env.step` call as an operation in a TensorFlow function.\n",
    "# This would allow it to be included in a callable TensorFlow graph.\n",
    "\n",
    "def env_step(action: np.ndarray) -> Tuple[np.ndarray, np.ndarray, np.ndarray]:\n",
    "  \"\"\"Returns state, reward and done flag given an action.\"\"\"\n",
    "\n",
    "  state, reward, done, truncated, info = env.step(action)\n",
    "  return (state.astype(np.float32), \n",
    "          np.array(reward, np.int32), \n",
    "          np.array(done, np.int32))\n",
    "\n",
    "\n",
    "def tf_env_step(action: tf.Tensor) -> List[tf.Tensor]:\n",
    "  return tf.numpy_function(env_step, [action], \n",
    "                           [tf.float32, tf.int32, tf.int32])"
   ],
   "outputs": [],
   "metadata": {
    "execution": {
     "iopub.execute_input": "2022-10-28T01:25:03.217460Z",
     "iopub.status.busy": "2022-10-28T01:25:03.217197Z",
     "iopub.status.idle": "2022-10-28T01:25:03.222220Z",
     "shell.execute_reply": "2022-10-28T01:25:03.221661Z"
    },
    "id": "5URrbGlDSAGx"
   }
  },
  {
   "cell_type": "code",
   "execution_count": null,
   "source": [
    "def run_episode(\n",
    "    initial_state: tf.Tensor,  \n",
    "    model: tf.keras.Model, \n",
    "    max_steps: int) -> Tuple[tf.Tensor, tf.Tensor, tf.Tensor]:\n",
    "  \"\"\"Runs a single episode to collect training data.\"\"\"\n",
    "\n",
    "  action_probs = tf.TensorArray(dtype=tf.float32, size=0, dynamic_size=True)\n",
    "  values = tf.TensorArray(dtype=tf.float32, size=0, dynamic_size=True)\n",
    "  rewards = tf.TensorArray(dtype=tf.int32, size=0, dynamic_size=True)\n",
    "\n",
    "  initial_state_shape = initial_state.shape\n",
    "  state = initial_state\n",
    "\n",
    "  for t in tf.range(max_steps):\n",
    "    # Convert state into a batched tensor (batch size = 1)\n",
    "    state = tf.expand_dims(state, 0)\n",
    "  \n",
    "    # Run the model and to get action probabilities and critic value\n",
    "    action_logits_t, value = model(state)\n",
    "  \n",
    "    # Sample next action from the action probability distribution\n",
    "    action = tf.random.categorical(action_logits_t, 1)[0, 0]\n",
    "    action_probs_t = tf.nn.softmax(action_logits_t)\n",
    "\n",
    "    # Store critic values\n",
    "    values = values.write(t, tf.squeeze(value))\n",
    "\n",
    "    # Store log probability of the action chosen\n",
    "    action_probs = action_probs.write(t, action_probs_t[0, action])\n",
    "  \n",
    "    # Apply action to the environment to get next state and reward\n",
    "    state, reward, done = tf_env_step(action)\n",
    "    state.set_shape(initial_state_shape)\n",
    "  \n",
    "    # Store reward\n",
    "    rewards = rewards.write(t, reward)\n",
    "\n",
    "    if tf.cast(done, tf.bool):\n",
    "      break\n",
    "\n",
    "  action_probs = action_probs.stack()\n",
    "  values = values.stack()\n",
    "  rewards = rewards.stack()\n",
    "  \n",
    "  return action_probs, values, rewards"
   ],
   "outputs": [],
   "metadata": {
    "execution": {
     "iopub.execute_input": "2022-10-28T01:25:03.225571Z",
     "iopub.status.busy": "2022-10-28T01:25:03.224950Z",
     "iopub.status.idle": "2022-10-28T01:25:03.231358Z",
     "shell.execute_reply": "2022-10-28T01:25:03.230813Z"
    },
    "id": "a4qVRV063Cl9"
   }
  },
  {
   "cell_type": "markdown",
   "source": [
    "### 2. Compute the expected returns\n",
    "\n",
    "The sequence of rewards for each timestep $t$, $\\{r_{t}\\}^{T}_{t=1}$ collected during one episode is converted into a sequence of expected returns $\\{G_{t}\\}^{T}_{t=1}$ in which the sum of rewards is taken from the current timestep $t$ to $T$ and each reward is multiplied with an exponentially decaying discount factor $\\gamma$:\n",
    "\n",
    "$$G_{t} = \\sum^{T}_{t'=t} \\gamma^{t'-t}r_{t'}$$\n",
    "\n",
    "Since $\\gamma\\in(0,1)$, rewards further out from the current timestep are given less weight.\n",
    "\n",
    "Intuitively, expected return simply implies that rewards now are better than rewards later. In a mathematical sense, it is to ensure that the sum of the rewards converges.\n",
    "\n",
    "To stabilize training, the resulting sequence of returns is also standardized (i.e. to have zero mean and unit standard deviation).\n"
   ],
   "metadata": {
    "id": "lBnIHdz22dIx"
   }
  },
  {
   "cell_type": "code",
   "execution_count": null,
   "source": [
    "def get_expected_return(\n",
    "    rewards: tf.Tensor, \n",
    "    gamma: float, \n",
    "    standardize: bool = True) -> tf.Tensor:\n",
    "  \"\"\"Compute expected returns per timestep.\"\"\"\n",
    "\n",
    "  n = tf.shape(rewards)[0]\n",
    "  returns = tf.TensorArray(dtype=tf.float32, size=n)\n",
    "\n",
    "  # Start from the end of `rewards` and accumulate reward sums\n",
    "  # into the `returns` array\n",
    "  rewards = tf.cast(rewards[::-1], dtype=tf.float32)\n",
    "  discounted_sum = tf.constant(0.0)\n",
    "  discounted_sum_shape = discounted_sum.shape\n",
    "  for i in tf.range(n):\n",
    "    reward = rewards[i]\n",
    "    discounted_sum = reward + gamma * discounted_sum\n",
    "    discounted_sum.set_shape(discounted_sum_shape)\n",
    "    returns = returns.write(i, discounted_sum)\n",
    "  returns = returns.stack()[::-1]\n",
    "\n",
    "  if standardize:\n",
    "    returns = ((returns - tf.math.reduce_mean(returns)) / \n",
    "               (tf.math.reduce_std(returns) + eps))\n",
    "\n",
    "  return returns"
   ],
   "outputs": [],
   "metadata": {
    "execution": {
     "iopub.execute_input": "2022-10-28T01:25:03.234859Z",
     "iopub.status.busy": "2022-10-28T01:25:03.234243Z",
     "iopub.status.idle": "2022-10-28T01:25:03.239403Z",
     "shell.execute_reply": "2022-10-28T01:25:03.238864Z"
    },
    "id": "jpEwFyl315dl"
   }
  },
  {
   "cell_type": "markdown",
   "source": [
    "### 3. The Actor-Critic loss\n",
    "\n",
    "Since you're using a hybrid Actor-Critic model, the chosen loss function is a combination of Actor and Critic losses for training, as shown below:\n",
    "\n",
    "$$L = L_{actor} + L_{critic}$$"
   ],
   "metadata": {
    "id": "qhr50_Czxazw"
   }
  },
  {
   "cell_type": "markdown",
   "source": [
    "#### The Actor loss\n",
    "\n",
    "The Actor loss is based on [policy gradients with the Critic as a state dependent baseline](https://www.youtube.com/watch?v=EKqxumCuAAY&t=62m23s) and computed with single-sample (per-episode) estimates.\n",
    "\n",
    "$$L_{actor} = -\\sum^{T}_{t=1} \\log\\pi_{\\theta}(a_{t} | s_{t})[G(s_{t}, a_{t})  - V^{\\pi}_{\\theta}(s_{t})]$$\n",
    "\n",
    "where:\n",
    "- $T$: the number of timesteps per episode, which can vary per episode\n",
    "- $s_{t}$: the state at timestep $t$\n",
    "- $a_{t}$: chosen action at timestep $t$ given state $s$\n",
    "- $\\pi_{\\theta}$: is the policy (Actor) parameterized by $\\theta$\n",
    "- $V^{\\pi}_{\\theta}$: is the value function (Critic) also parameterized by $\\theta$\n",
    "- $G = G_{t}$: the expected return for a given state, action pair at timestep $t$\n",
    "\n",
    "A negative term is added to the sum since the idea is to maximize the probabilities of actions yielding higher rewards by minimizing the combined loss.\n",
    "\n",
    "<br>"
   ],
   "metadata": {
    "id": "nOQIJuG1xdTH"
   }
  },
  {
   "cell_type": "markdown",
   "source": [
    "##### The Advantage\n",
    "\n",
    "The $G - V$ term in our $L_{actor}$ formulation is called the [Advantage](https://spinningup.openai.com/en/latest/spinningup/rl_intro.html#advantage-functions), which indicates how much better an action is given a particular state over a random action selected according to the policy $\\pi$ for that state.\n",
    "\n",
    "While it's possible to exclude a baseline, this may result in high variance during training. And the nice thing about choosing the critic $V$ as a baseline is that it trained to be as close as possible to $G$, leading to a lower variance.\n",
    "\n",
    "In addition, without the Critic, the algorithm would try to increase probabilities for actions taken on a particular state based on expected return, which may not make much of a difference if the relative probabilities between actions remain the same.\n",
    "\n",
    "For instance, suppose that two actions for a given state would yield the same expected return. Without the Critic, the algorithm would try to raise the probability of these actions based on the objective $J$. With the Critic, it may turn out that there's no Advantage ($G - V = 0$), and thus no benefit gained in increasing the actions' probabilities and the algorithm would set the gradients to zero.\n",
    "\n",
    "<br>"
   ],
   "metadata": {
    "id": "Y304O4OAxiAv"
   }
  },
  {
   "cell_type": "markdown",
   "source": [
    "#### The Critic loss\n",
    "\n",
    "Training $V$ to be as close possible to $G$ can be set up as a regression problem with the following loss function:\n",
    "\n",
    "$$L_{critic} = L_{\\delta}(G, V^{\\pi}_{\\theta})$$\n",
    "\n",
    "where $L_{\\delta}$ is the [Huber loss](https://en.wikipedia.org/wiki/Huber_loss), which is less sensitive to outliers in data than squared-error loss.\n"
   ],
   "metadata": {
    "id": "1hrPLrgGxlvb"
   }
  },
  {
   "cell_type": "code",
   "execution_count": null,
   "source": [
    "huber_loss = tf.keras.losses.Huber(reduction=tf.keras.losses.Reduction.SUM)\n",
    "\n",
    "def compute_loss(\n",
    "    action_probs: tf.Tensor,  \n",
    "    values: tf.Tensor,  \n",
    "    returns: tf.Tensor) -> tf.Tensor:\n",
    "  \"\"\"Computes the combined Actor-Critic loss.\"\"\"\n",
    "\n",
    "  advantage = returns - values\n",
    "\n",
    "  action_log_probs = tf.math.log(action_probs)\n",
    "  actor_loss = -tf.math.reduce_sum(action_log_probs * advantage)\n",
    "\n",
    "  critic_loss = huber_loss(values, returns)\n",
    "\n",
    "  return actor_loss + critic_loss"
   ],
   "outputs": [],
   "metadata": {
    "execution": {
     "iopub.execute_input": "2022-10-28T01:25:03.243554Z",
     "iopub.status.busy": "2022-10-28T01:25:03.243075Z",
     "iopub.status.idle": "2022-10-28T01:25:03.247201Z",
     "shell.execute_reply": "2022-10-28T01:25:03.246671Z"
    },
    "id": "9EXwbEez6n9m"
   }
  },
  {
   "cell_type": "markdown",
   "source": [
    "### 4. Define the training step to update parameters\n",
    "\n",
    "All of the steps above are combined into a training step that is run every episode. All steps leading up to the loss function are executed with the `tf.GradientTape` context to enable automatic differentiation.\n",
    "\n",
    "This tutorial uses the Adam optimizer to apply the gradients to the model parameters.\n",
    "\n",
    "The sum of the undiscounted rewards, `episode_reward`, is also computed in this step. This value will be used later on to evaluate if the success criterion is met.\n",
    "\n",
    "The `tf.function` context is applied to the `train_step` function so that it can be compiled into a callable TensorFlow graph, which can lead to 10x speedup in training.\n"
   ],
   "metadata": {
    "id": "HSYkQOmRfV75"
   }
  },
  {
   "cell_type": "code",
   "execution_count": null,
   "source": [
    "optimizer = tf.keras.optimizers.Adam(learning_rate=0.01)\n",
    "\n",
    "\n",
    "@tf.function\n",
    "def train_step(\n",
    "    initial_state: tf.Tensor, \n",
    "    model: tf.keras.Model, \n",
    "    optimizer: tf.keras.optimizers.Optimizer, \n",
    "    gamma: float, \n",
    "    max_steps_per_episode: int) -> tf.Tensor:\n",
    "  \"\"\"Runs a model training step.\"\"\"\n",
    "\n",
    "  with tf.GradientTape() as tape:\n",
    "\n",
    "    # Run the model for one episode to collect training data\n",
    "    action_probs, values, rewards = run_episode(\n",
    "        initial_state, model, max_steps_per_episode) \n",
    "\n",
    "    # Calculate the expected returns\n",
    "    returns = get_expected_return(rewards, gamma)\n",
    "\n",
    "    # Convert training data to appropriate TF tensor shapes\n",
    "    action_probs, values, returns = [\n",
    "        tf.expand_dims(x, 1) for x in [action_probs, values, returns]] \n",
    "\n",
    "    # Calculate the loss values to update our network\n",
    "    loss = compute_loss(action_probs, values, returns)\n",
    "\n",
    "  # Compute the gradients from the loss\n",
    "  grads = tape.gradient(loss, model.trainable_variables)\n",
    "\n",
    "  # Apply the gradients to the model's parameters\n",
    "  optimizer.apply_gradients(zip(grads, model.trainable_variables))\n",
    "\n",
    "  episode_reward = tf.math.reduce_sum(rewards)\n",
    "\n",
    "  return episode_reward"
   ],
   "outputs": [],
   "metadata": {
    "execution": {
     "iopub.execute_input": "2022-10-28T01:25:03.250879Z",
     "iopub.status.busy": "2022-10-28T01:25:03.250351Z",
     "iopub.status.idle": "2022-10-28T01:25:03.259617Z",
     "shell.execute_reply": "2022-10-28T01:25:03.259082Z"
    },
    "id": "QoccrkF3IFCg"
   }
  },
  {
   "cell_type": "markdown",
   "source": [
    "### 5. Run the training loop\n",
    "\n",
    "Training is executed by running the training step until either the success criterion or maximum number of episodes is reached.  \n",
    "\n",
    "A running record of episode rewards is kept in a queue. Once 100 trials are reached, the oldest reward is removed at the left (tail) end of the queue and the newest one is added at the head (right). A running sum of the rewards is also maintained for computational efficiency.\n",
    "\n",
    "Depending on your runtime, training can finish in less than a minute."
   ],
   "metadata": {
    "id": "HFvZiDoAflGK"
   }
  },
  {
   "cell_type": "code",
   "execution_count": null,
   "source": [
    "%%time\n",
    "\n",
    "min_episodes_criterion = 100\n",
    "max_episodes = 10000\n",
    "max_steps_per_episode = 500\n",
    "\n",
    "# `CartPole-v1` is considered solved if average reward is >= 475 over 500 \n",
    "# consecutive trials\n",
    "reward_threshold = 475\n",
    "running_reward = 0\n",
    "\n",
    "# The discount factor for future rewards\n",
    "gamma = 0.99\n",
    "\n",
    "# Keep the last episodes reward\n",
    "episodes_reward: collections.deque = collections.deque(maxlen=min_episodes_criterion)\n",
    "\n",
    "t = tqdm.trange(max_episodes)\n",
    "for i in t:\n",
    "    initial_state, info = env.reset()\n",
    "    initial_state = tf.constant(initial_state, dtype=tf.float32)\n",
    "    episode_reward = int(train_step(\n",
    "        initial_state, model, optimizer, gamma, max_steps_per_episode))\n",
    "    \n",
    "    episodes_reward.append(episode_reward)\n",
    "    running_reward = statistics.mean(episodes_reward)\n",
    "  \n",
    "\n",
    "    t.set_postfix(\n",
    "        episode_reward=episode_reward, running_reward=running_reward)\n",
    "  \n",
    "    # Show the average episode reward every 10 episodes\n",
    "    if i % 10 == 0:\n",
    "      pass # print(f'Episode {i}: average reward: {avg_reward}')\n",
    "  \n",
    "    if running_reward > reward_threshold and i >= min_episodes_criterion:  \n",
    "        break\n",
    "\n",
    "print(f'\\nSolved at episode {i}: average reward: {running_reward:.2f}!')"
   ],
   "outputs": [
    {
     "output_type": "stream",
     "name": "stderr",
     "text": [
      "\r\n",
      "  0%|          | 0/10000 [00:00<?, ?it/s]"
     ]
    },
    {
     "output_type": "stream",
     "name": "stderr",
     "text": [
      "\r\n",
      "  0%|          | 0/10000 [00:04<?, ?it/s, episode_reward=16, running_reward=16]"
     ]
    },
    {
     "output_type": "stream",
     "name": "stderr",
     "text": [
      "\r\n",
      "  0%|          | 1/10000 [00:04<11:20:17,  4.08s/it, episode_reward=16, running_reward=16]"
     ]
    },
    {
     "output_type": "stream",
     "name": "stderr",
     "text": [
      "\r\n",
      "  0%|          | 1/10000 [00:04<11:20:17,  4.08s/it, episode_reward=11, running_reward=13.5]"
     ]
    },
    {
     "output_type": "stream",
     "name": "stderr",
     "text": [
      "\r\n",
      "  0%|          | 1/10000 [00:04<11:20:17,  4.08s/it, episode_reward=17, running_reward=14.7]"
     ]
    },
    {
     "output_type": "stream",
     "name": "stderr",
     "text": [
      "\r\n",
      "  0%|          | 1/10000 [00:04<11:20:17,  4.08s/it, episode_reward=152, running_reward=49] "
     ]
    },
    {
     "output_type": "stream",
     "name": "stderr",
     "text": [
      "\r\n",
      "  0%|          | 4/10000 [00:04<2:19:25,  1.19it/s, episode_reward=152, running_reward=49] "
     ]
    },
    {
     "output_type": "stream",
     "name": "stderr",
     "text": [
      "\r\n",
      "  0%|          | 4/10000 [00:04<2:19:25,  1.19it/s, episode_reward=12, running_reward=41.6]"
     ]
    },
    {
     "output_type": "stream",
     "name": "stderr",
     "text": [
      "\r\n",
      "  0%|          | 4/10000 [00:04<2:19:25,  1.19it/s, episode_reward=38, running_reward=41]  "
     ]
    },
    {
     "output_type": "stream",
     "name": "stderr",
     "text": [
      "\r\n",
      "  0%|          | 4/10000 [00:04<2:19:25,  1.19it/s, episode_reward=39, running_reward=40.7]"
     ]
    },
    {
     "output_type": "stream",
     "name": "stderr",
     "text": [
      "\r\n",
      "  0%|          | 7/10000 [00:04<1:08:02,  2.45it/s, episode_reward=39, running_reward=40.7]"
     ]
    },
    {
     "output_type": "stream",
     "name": "stderr",
     "text": [
      "\r\n",
      "  0%|          | 7/10000 [00:04<1:08:02,  2.45it/s, episode_reward=10, running_reward=36.9]"
     ]
    },
    {
     "output_type": "stream",
     "name": "stderr",
     "text": [
      "\r\n",
      "  0%|          | 7/10000 [00:04<1:08:02,  2.45it/s, episode_reward=28, running_reward=35.9]"
     ]
    },
    {
     "output_type": "stream",
     "name": "stderr",
     "text": [
      "\r\n",
      "  0%|          | 7/10000 [00:04<1:08:02,  2.45it/s, episode_reward=29, running_reward=35.2]"
     ]
    },
    {
     "output_type": "stream",
     "name": "stderr",
     "text": [
      "\r\n",
      "  0%|          | 7/10000 [00:04<1:08:02,  2.45it/s, episode_reward=42, running_reward=35.8]"
     ]
    },
    {
     "output_type": "stream",
     "name": "stderr",
     "text": [
      "\r\n",
      "  0%|          | 11/10000 [00:04<36:38,  4.54it/s, episode_reward=42, running_reward=35.8] "
     ]
    },
    {
     "output_type": "stream",
     "name": "stderr",
     "text": [
      "\r\n",
      "  0%|          | 11/10000 [00:04<36:38,  4.54it/s, episode_reward=19, running_reward=34.4]"
     ]
    },
    {
     "output_type": "stream",
     "name": "stderr",
     "text": [
      "\r\n",
      "  0%|          | 11/10000 [00:04<36:38,  4.54it/s, episode_reward=24, running_reward=33.6]"
     ]
    },
    {
     "output_type": "stream",
     "name": "stderr",
     "text": [
      "\r\n",
      "  0%|          | 11/10000 [00:04<36:38,  4.54it/s, episode_reward=21, running_reward=32.7]"
     ]
    },
    {
     "output_type": "stream",
     "name": "stderr",
     "text": [
      "\r\n",
      "  0%|          | 11/10000 [00:04<36:38,  4.54it/s, episode_reward=15, running_reward=31.5]"
     ]
    },
    {
     "output_type": "stream",
     "name": "stderr",
     "text": [
      "\r\n",
      "  0%|          | 15/10000 [00:04<23:05,  7.20it/s, episode_reward=15, running_reward=31.5]"
     ]
    },
    {
     "output_type": "stream",
     "name": "stderr",
     "text": [
      "\r\n",
      "  0%|          | 15/10000 [00:04<23:05,  7.20it/s, episode_reward=9, running_reward=30.1] "
     ]
    },
    {
     "output_type": "stream",
     "name": "stderr",
     "text": [
      "\r\n",
      "  0%|          | 15/10000 [00:04<23:05,  7.20it/s, episode_reward=48, running_reward=31.2]"
     ]
    },
    {
     "output_type": "stream",
     "name": "stderr",
     "text": [
      "\r\n",
      "  0%|          | 15/10000 [00:04<23:05,  7.20it/s, episode_reward=20, running_reward=30.6]"
     ]
    },
    {
     "output_type": "stream",
     "name": "stderr",
     "text": [
      "\r\n",
      "  0%|          | 18/10000 [00:04<17:44,  9.38it/s, episode_reward=20, running_reward=30.6]"
     ]
    },
    {
     "output_type": "stream",
     "name": "stderr",
     "text": [
      "\r\n",
      "  0%|          | 18/10000 [00:04<17:44,  9.38it/s, episode_reward=16, running_reward=29.8]"
     ]
    },
    {
     "output_type": "stream",
     "name": "stderr",
     "text": [
      "\r\n",
      "  0%|          | 18/10000 [00:04<17:44,  9.38it/s, episode_reward=22, running_reward=29.4]"
     ]
    },
    {
     "output_type": "stream",
     "name": "stderr",
     "text": [
      "\r\n",
      "  0%|          | 18/10000 [00:04<17:44,  9.38it/s, episode_reward=16, running_reward=28.8]"
     ]
    },
    {
     "output_type": "stream",
     "name": "stderr",
     "text": [
      "\r\n",
      "  0%|          | 18/10000 [00:04<17:44,  9.38it/s, episode_reward=35, running_reward=29]  "
     ]
    },
    {
     "output_type": "stream",
     "name": "stderr",
     "text": [
      "\r\n",
      "  0%|          | 22/10000 [00:04<13:00, 12.79it/s, episode_reward=35, running_reward=29]"
     ]
    },
    {
     "output_type": "stream",
     "name": "stderr",
     "text": [
      "\r\n",
      "  0%|          | 22/10000 [00:04<13:00, 12.79it/s, episode_reward=63, running_reward=30.5]"
     ]
    },
    {
     "output_type": "stream",
     "name": "stderr",
     "text": [
      "\r\n",
      "  0%|          | 22/10000 [00:05<13:00, 12.79it/s, episode_reward=65, running_reward=32]  "
     ]
    },
    {
     "output_type": "stream",
     "name": "stderr",
     "text": [
      "\r\n",
      "  0%|          | 22/10000 [00:05<13:00, 12.79it/s, episode_reward=23, running_reward=31.6]"
     ]
    },
    {
     "output_type": "stream",
     "name": "stderr",
     "text": [
      "\r\n",
      "  0%|          | 25/10000 [00:05<12:28, 13.32it/s, episode_reward=23, running_reward=31.6]"
     ]
    },
    {
     "output_type": "stream",
     "name": "stderr",
     "text": [
      "\r\n",
      "  0%|          | 25/10000 [00:05<12:28, 13.32it/s, episode_reward=10, running_reward=30.8]"
     ]
    },
    {
     "output_type": "stream",
     "name": "stderr",
     "text": [
      "\r\n",
      "  0%|          | 25/10000 [00:05<12:28, 13.32it/s, episode_reward=17, running_reward=30.3]"
     ]
    },
    {
     "output_type": "stream",
     "name": "stderr",
     "text": [
      "\r\n",
      "  0%|          | 25/10000 [00:05<12:28, 13.32it/s, episode_reward=21, running_reward=29.9]"
     ]
    },
    {
     "output_type": "stream",
     "name": "stderr",
     "text": [
      "\r\n",
      "  0%|          | 25/10000 [00:05<12:28, 13.32it/s, episode_reward=20, running_reward=29.6]"
     ]
    },
    {
     "output_type": "stream",
     "name": "stderr",
     "text": [
      "\r\n",
      "  0%|          | 25/10000 [00:05<12:28, 13.32it/s, episode_reward=10, running_reward=28.9]"
     ]
    },
    {
     "output_type": "stream",
     "name": "stderr",
     "text": [
      "\r\n",
      "  0%|          | 25/10000 [00:05<12:28, 13.32it/s, episode_reward=19, running_reward=28.6]"
     ]
    },
    {
     "output_type": "stream",
     "name": "stderr",
     "text": [
      "\r\n",
      "  0%|          | 31/10000 [00:05<08:24, 19.78it/s, episode_reward=19, running_reward=28.6]"
     ]
    },
    {
     "output_type": "stream",
     "name": "stderr",
     "text": [
      "\r\n",
      "  0%|          | 31/10000 [00:05<08:24, 19.78it/s, episode_reward=31, running_reward=28.7]"
     ]
    },
    {
     "output_type": "stream",
     "name": "stderr",
     "text": [
      "\r\n",
      "  0%|          | 31/10000 [00:05<08:24, 19.78it/s, episode_reward=30, running_reward=28.7]"
     ]
    },
    {
     "output_type": "stream",
     "name": "stderr",
     "text": [
      "\r\n",
      "  0%|          | 31/10000 [00:05<08:24, 19.78it/s, episode_reward=34, running_reward=28.9]"
     ]
    },
    {
     "output_type": "stream",
     "name": "stderr",
     "text": [
      "\r\n",
      "  0%|          | 31/10000 [00:05<08:24, 19.78it/s, episode_reward=109, running_reward=31.2]"
     ]
    },
    {
     "output_type": "stream",
     "name": "stderr",
     "text": [
      "\r\n",
      "  0%|          | 35/10000 [00:05<09:03, 18.33it/s, episode_reward=109, running_reward=31.2]"
     ]
    },
    {
     "output_type": "stream",
     "name": "stderr",
     "text": [
      "\r\n",
      "  0%|          | 35/10000 [00:05<09:03, 18.33it/s, episode_reward=33, running_reward=31.2] "
     ]
    },
    {
     "output_type": "stream",
     "name": "stderr",
     "text": [
      "\r\n",
      "  0%|          | 35/10000 [00:05<09:03, 18.33it/s, episode_reward=34, running_reward=31.3]"
     ]
    },
    {
     "output_type": "stream",
     "name": "stderr",
     "text": [
      "\r\n",
      "  0%|          | 35/10000 [00:05<09:03, 18.33it/s, episode_reward=19, running_reward=31]  "
     ]
    },
    {
     "output_type": "stream",
     "name": "stderr",
     "text": [
      "\r\n",
      "  0%|          | 38/10000 [00:05<08:28, 19.60it/s, episode_reward=19, running_reward=31]"
     ]
    },
    {
     "output_type": "stream",
     "name": "stderr",
     "text": [
      "\r\n",
      "  0%|          | 38/10000 [00:05<08:28, 19.60it/s, episode_reward=17, running_reward=30.6]"
     ]
    },
    {
     "output_type": "stream",
     "name": "stderr",
     "text": [
      "\r\n",
      "  0%|          | 38/10000 [00:05<08:28, 19.60it/s, episode_reward=136, running_reward=33.2]"
     ]
    },
    {
     "output_type": "stream",
     "name": "stderr",
     "text": [
      "\r\n",
      "  0%|          | 38/10000 [00:05<08:28, 19.60it/s, episode_reward=16, running_reward=32.8] "
     ]
    },
    {
     "output_type": "stream",
     "name": "stderr",
     "text": [
      "\r\n",
      "  0%|          | 41/10000 [00:05<09:12, 18.04it/s, episode_reward=16, running_reward=32.8]"
     ]
    },
    {
     "output_type": "stream",
     "name": "stderr",
     "text": [
      "\r\n",
      "  0%|          | 41/10000 [00:05<09:12, 18.04it/s, episode_reward=12, running_reward=32.3]"
     ]
    },
    {
     "output_type": "stream",
     "name": "stderr",
     "text": [
      "\r\n",
      "  0%|          | 41/10000 [00:05<09:12, 18.04it/s, episode_reward=21, running_reward=32.1]"
     ]
    },
    {
     "output_type": "stream",
     "name": "stderr",
     "text": [
      "\r\n",
      "  0%|          | 41/10000 [00:05<09:12, 18.04it/s, episode_reward=30, running_reward=32]  "
     ]
    },
    {
     "output_type": "stream",
     "name": "stderr",
     "text": [
      "\r\n",
      "  0%|          | 41/10000 [00:06<09:12, 18.04it/s, episode_reward=86, running_reward=33.2]"
     ]
    },
    {
     "output_type": "stream",
     "name": "stderr",
     "text": [
      "\r\n",
      "  0%|          | 45/10000 [00:06<08:48, 18.84it/s, episode_reward=86, running_reward=33.2]"
     ]
    },
    {
     "output_type": "stream",
     "name": "stderr",
     "text": [
      "\r\n",
      "  0%|          | 45/10000 [00:06<08:48, 18.84it/s, episode_reward=12, running_reward=32.8]"
     ]
    },
    {
     "output_type": "stream",
     "name": "stderr",
     "text": [
      "\r\n",
      "  0%|          | 45/10000 [00:06<08:48, 18.84it/s, episode_reward=24, running_reward=32.6]"
     ]
    },
    {
     "output_type": "stream",
     "name": "stderr",
     "text": [
      "\r\n",
      "  0%|          | 45/10000 [00:06<08:48, 18.84it/s, episode_reward=106, running_reward=34.1]"
     ]
    },
    {
     "output_type": "stream",
     "name": "stderr",
     "text": [
      "\r\n",
      "  0%|          | 48/10000 [00:06<09:14, 17.95it/s, episode_reward=106, running_reward=34.1]"
     ]
    },
    {
     "output_type": "stream",
     "name": "stderr",
     "text": [
      "\r\n",
      "  0%|          | 48/10000 [00:06<09:14, 17.95it/s, episode_reward=62, running_reward=34.7] "
     ]
    },
    {
     "output_type": "stream",
     "name": "stderr",
     "text": [
      "\r\n",
      "  0%|          | 48/10000 [00:06<09:14, 17.95it/s, episode_reward=58, running_reward=35.1]"
     ]
    },
    {
     "output_type": "stream",
     "name": "stderr",
     "text": [
      "\r\n",
      "  0%|          | 48/10000 [00:06<09:14, 17.95it/s, episode_reward=28, running_reward=35]  "
     ]
    },
    {
     "output_type": "stream",
     "name": "stderr",
     "text": [
      "\r\n",
      "  1%|          | 51/10000 [00:06<09:42, 17.09it/s, episode_reward=28, running_reward=35]"
     ]
    },
    {
     "output_type": "stream",
     "name": "stderr",
     "text": [
      "\r\n",
      "  1%|          | 51/10000 [00:06<09:42, 17.09it/s, episode_reward=73, running_reward=35.7]"
     ]
    },
    {
     "output_type": "stream",
     "name": "stderr",
     "text": [
      "\r\n",
      "  1%|          | 51/10000 [00:06<09:42, 17.09it/s, episode_reward=143, running_reward=37.8]"
     ]
    },
    {
     "output_type": "stream",
     "name": "stderr",
     "text": [
      "\r\n",
      "  1%|          | 53/10000 [00:06<12:32, 13.22it/s, episode_reward=143, running_reward=37.8]"
     ]
    },
    {
     "output_type": "stream",
     "name": "stderr",
     "text": [
      "\r\n",
      "  1%|          | 53/10000 [00:06<12:32, 13.22it/s, episode_reward=97, running_reward=38.9] "
     ]
    },
    {
     "output_type": "stream",
     "name": "stderr",
     "text": [
      "\r\n",
      "  1%|          | 53/10000 [00:06<12:32, 13.22it/s, episode_reward=19, running_reward=38.5]"
     ]
    },
    {
     "output_type": "stream",
     "name": "stderr",
     "text": [
      "\r\n",
      "  1%|          | 55/10000 [00:06<12:33, 13.21it/s, episode_reward=19, running_reward=38.5]"
     ]
    },
    {
     "output_type": "stream",
     "name": "stderr",
     "text": [
      "\r\n",
      "  1%|          | 55/10000 [00:06<12:33, 13.21it/s, episode_reward=40, running_reward=38.5]"
     ]
    },
    {
     "output_type": "stream",
     "name": "stderr",
     "text": [
      "\r\n",
      "  1%|          | 55/10000 [00:06<12:33, 13.21it/s, episode_reward=13, running_reward=38.1]"
     ]
    },
    {
     "output_type": "stream",
     "name": "stderr",
     "text": [
      "\r\n",
      "  1%|          | 55/10000 [00:06<12:33, 13.21it/s, episode_reward=10, running_reward=37.6]"
     ]
    },
    {
     "output_type": "stream",
     "name": "stderr",
     "text": [
      "\r\n",
      "  1%|          | 55/10000 [00:06<12:33, 13.21it/s, episode_reward=14, running_reward=37.2]"
     ]
    },
    {
     "output_type": "stream",
     "name": "stderr",
     "text": [
      "\r\n",
      "  1%|          | 59/10000 [00:06<09:23, 17.64it/s, episode_reward=14, running_reward=37.2]"
     ]
    },
    {
     "output_type": "stream",
     "name": "stderr",
     "text": [
      "\r\n",
      "  1%|          | 59/10000 [00:06<09:23, 17.64it/s, episode_reward=11, running_reward=36.8]"
     ]
    },
    {
     "output_type": "stream",
     "name": "stderr",
     "text": [
      "\r\n",
      "  1%|          | 59/10000 [00:07<09:23, 17.64it/s, episode_reward=46, running_reward=36.9]"
     ]
    },
    {
     "output_type": "stream",
     "name": "stderr",
     "text": [
      "\r\n",
      "  1%|          | 59/10000 [00:07<09:23, 17.64it/s, episode_reward=32, running_reward=36.8]"
     ]
    },
    {
     "output_type": "stream",
     "name": "stderr",
     "text": [
      "\r\n",
      "  1%|          | 62/10000 [00:07<08:39, 19.15it/s, episode_reward=32, running_reward=36.8]"
     ]
    },
    {
     "output_type": "stream",
     "name": "stderr",
     "text": [
      "\r\n",
      "  1%|          | 62/10000 [00:07<08:39, 19.15it/s, episode_reward=32, running_reward=36.7]"
     ]
    },
    {
     "output_type": "stream",
     "name": "stderr",
     "text": [
      "\r\n",
      "  1%|          | 62/10000 [00:07<08:39, 19.15it/s, episode_reward=47, running_reward=36.9]"
     ]
    },
    {
     "output_type": "stream",
     "name": "stderr",
     "text": [
      "\r\n",
      "  1%|          | 62/10000 [00:07<08:39, 19.15it/s, episode_reward=31, running_reward=36.8]"
     ]
    },
    {
     "output_type": "stream",
     "name": "stderr",
     "text": [
      "\r\n",
      "  1%|          | 65/10000 [00:07<08:36, 19.24it/s, episode_reward=31, running_reward=36.8]"
     ]
    },
    {
     "output_type": "stream",
     "name": "stderr",
     "text": [
      "\r\n",
      "  1%|          | 65/10000 [00:07<08:36, 19.24it/s, episode_reward=12, running_reward=36.4]"
     ]
    },
    {
     "output_type": "stream",
     "name": "stderr",
     "text": [
      "\r\n",
      "  1%|          | 65/10000 [00:07<08:36, 19.24it/s, episode_reward=37, running_reward=36.4]"
     ]
    },
    {
     "output_type": "stream",
     "name": "stderr",
     "text": [
      "\r\n",
      "  1%|          | 65/10000 [00:07<08:36, 19.24it/s, episode_reward=17, running_reward=36.2]"
     ]
    },
    {
     "output_type": "stream",
     "name": "stderr",
     "text": [
      "\r\n",
      "  1%|          | 65/10000 [00:07<08:36, 19.24it/s, episode_reward=61, running_reward=36.5]"
     ]
    },
    {
     "output_type": "stream",
     "name": "stderr",
     "text": [
      "\r\n",
      "  1%|          | 69/10000 [00:07<08:03, 20.55it/s, episode_reward=61, running_reward=36.5]"
     ]
    },
    {
     "output_type": "stream",
     "name": "stderr",
     "text": [
      "\r\n",
      "  1%|          | 69/10000 [00:07<08:03, 20.55it/s, episode_reward=147, running_reward=38.1]"
     ]
    },
    {
     "output_type": "stream",
     "name": "stderr",
     "text": [
      "\r\n",
      "  1%|          | 69/10000 [00:07<08:03, 20.55it/s, episode_reward=94, running_reward=38.9] "
     ]
    },
    {
     "output_type": "stream",
     "name": "stderr",
     "text": [
      "\r\n",
      "  1%|          | 69/10000 [00:07<08:03, 20.55it/s, episode_reward=125, running_reward=40.1]"
     ]
    },
    {
     "output_type": "stream",
     "name": "stderr",
     "text": [
      "\r\n",
      "  1%|          | 72/10000 [00:07<13:05, 12.63it/s, episode_reward=125, running_reward=40.1]"
     ]
    },
    {
     "output_type": "stream",
     "name": "stderr",
     "text": [
      "\r\n",
      "  1%|          | 72/10000 [00:08<13:05, 12.63it/s, episode_reward=110, running_reward=41]  "
     ]
    },
    {
     "output_type": "stream",
     "name": "stderr",
     "text": [
      "\r\n",
      "  1%|          | 72/10000 [00:08<13:05, 12.63it/s, episode_reward=37, running_reward=41] "
     ]
    },
    {
     "output_type": "stream",
     "name": "stderr",
     "text": [
      "\r\n",
      "  1%|          | 74/10000 [00:08<13:41, 12.09it/s, episode_reward=37, running_reward=41]"
     ]
    },
    {
     "output_type": "stream",
     "name": "stderr",
     "text": [
      "\r\n",
      "  1%|          | 74/10000 [00:08<13:41, 12.09it/s, episode_reward=113, running_reward=41.9]"
     ]
    },
    {
     "output_type": "stream",
     "name": "stderr",
     "text": [
      "\r\n",
      "  1%|          | 74/10000 [00:08<13:41, 12.09it/s, episode_reward=44, running_reward=42]   "
     ]
    },
    {
     "output_type": "stream",
     "name": "stderr",
     "text": [
      "\r\n",
      "  1%|          | 76/10000 [00:08<14:30, 11.39it/s, episode_reward=44, running_reward=42]"
     ]
    },
    {
     "output_type": "stream",
     "name": "stderr",
     "text": [
      "\r\n",
      "  1%|          | 76/10000 [00:08<14:30, 11.39it/s, episode_reward=42, running_reward=42]"
     ]
    },
    {
     "output_type": "stream",
     "name": "stderr",
     "text": [
      "\r\n",
      "  1%|          | 76/10000 [00:08<14:30, 11.39it/s, episode_reward=106, running_reward=42.8]"
     ]
    },
    {
     "output_type": "stream",
     "name": "stderr",
     "text": [
      "\r\n",
      "  1%|          | 78/10000 [00:08<15:04, 10.96it/s, episode_reward=106, running_reward=42.8]"
     ]
    },
    {
     "output_type": "stream",
     "name": "stderr",
     "text": [
      "\r\n",
      "  1%|          | 78/10000 [00:08<15:04, 10.96it/s, episode_reward=206, running_reward=44.9]"
     ]
    },
    {
     "output_type": "stream",
     "name": "stderr",
     "text": [
      "\r\n",
      "  1%|          | 78/10000 [00:08<15:04, 10.96it/s, episode_reward=128, running_reward=45.9]"
     ]
    },
    {
     "output_type": "stream",
     "name": "stderr",
     "text": [
      "\r\n",
      "  1%|          | 80/10000 [00:08<20:40,  8.00it/s, episode_reward=128, running_reward=45.9]"
     ]
    },
    {
     "output_type": "stream",
     "name": "stderr",
     "text": [
      "\r\n",
      "  1%|          | 80/10000 [00:09<20:40,  8.00it/s, episode_reward=348, running_reward=49.6]"
     ]
    },
    {
     "output_type": "stream",
     "name": "stderr",
     "text": [
      "\r\n",
      "  1%|          | 80/10000 [00:09<20:40,  8.00it/s, episode_reward=105, running_reward=50.3]"
     ]
    },
    {
     "output_type": "stream",
     "name": "stderr",
     "text": [
      "\r\n",
      "  1%|          | 82/10000 [00:09<26:59,  6.12it/s, episode_reward=105, running_reward=50.3]"
     ]
    },
    {
     "output_type": "stream",
     "name": "stderr",
     "text": [
      "\r\n",
      "  1%|          | 82/10000 [00:09<26:59,  6.12it/s, episode_reward=314, running_reward=53.5]"
     ]
    },
    {
     "output_type": "stream",
     "name": "stderr",
     "text": [
      "\r\n",
      "  1%|          | 83/10000 [00:09<32:34,  5.07it/s, episode_reward=314, running_reward=53.5]"
     ]
    },
    {
     "output_type": "stream",
     "name": "stderr",
     "text": [
      "\r\n",
      "  1%|          | 83/10000 [00:09<32:34,  5.07it/s, episode_reward=160, running_reward=54.8]"
     ]
    },
    {
     "output_type": "stream",
     "name": "stderr",
     "text": [
      "\r\n",
      "  1%|          | 84/10000 [00:09<32:10,  5.14it/s, episode_reward=160, running_reward=54.8]"
     ]
    },
    {
     "output_type": "stream",
     "name": "stderr",
     "text": [
      "\r\n",
      "  1%|          | 84/10000 [00:10<32:10,  5.14it/s, episode_reward=211, running_reward=56.6]"
     ]
    },
    {
     "output_type": "stream",
     "name": "stderr",
     "text": [
      "\r\n",
      "  1%|          | 85/10000 [00:10<33:51,  4.88it/s, episode_reward=211, running_reward=56.6]"
     ]
    },
    {
     "output_type": "stream",
     "name": "stderr",
     "text": [
      "\r\n",
      "  1%|          | 85/10000 [00:10<33:51,  4.88it/s, episode_reward=226, running_reward=58.6]"
     ]
    },
    {
     "output_type": "stream",
     "name": "stderr",
     "text": [
      "\r\n",
      "  1%|          | 86/10000 [00:10<35:41,  4.63it/s, episode_reward=226, running_reward=58.6]"
     ]
    },
    {
     "output_type": "stream",
     "name": "stderr",
     "text": [
      "\r\n",
      "  1%|          | 86/10000 [00:10<35:41,  4.63it/s, episode_reward=159, running_reward=59.7]"
     ]
    },
    {
     "output_type": "stream",
     "name": "stderr",
     "text": [
      "\r\n",
      "  1%|          | 87/10000 [00:10<34:32,  4.78it/s, episode_reward=159, running_reward=59.7]"
     ]
    },
    {
     "output_type": "stream",
     "name": "stderr",
     "text": [
      "\r\n",
      "  1%|          | 87/10000 [00:10<34:32,  4.78it/s, episode_reward=256, running_reward=61.9]"
     ]
    },
    {
     "output_type": "stream",
     "name": "stderr",
     "text": [
      "\r\n",
      "  1%|          | 88/10000 [00:10<38:27,  4.30it/s, episode_reward=256, running_reward=61.9]"
     ]
    },
    {
     "output_type": "stream",
     "name": "stderr",
     "text": [
      "\r\n",
      "  1%|          | 88/10000 [00:11<38:27,  4.30it/s, episode_reward=113, running_reward=62.5]"
     ]
    },
    {
     "output_type": "stream",
     "name": "stderr",
     "text": [
      "\r\n",
      "  1%|          | 89/10000 [00:11<34:19,  4.81it/s, episode_reward=113, running_reward=62.5]"
     ]
    },
    {
     "output_type": "stream",
     "name": "stderr",
     "text": [
      "\r\n",
      "  1%|          | 89/10000 [00:11<34:19,  4.81it/s, episode_reward=161, running_reward=63.6]"
     ]
    },
    {
     "output_type": "stream",
     "name": "stderr",
     "text": [
      "\r\n",
      "  1%|          | 90/10000 [00:11<33:39,  4.91it/s, episode_reward=161, running_reward=63.6]"
     ]
    },
    {
     "output_type": "stream",
     "name": "stderr",
     "text": [
      "\r\n",
      "  1%|          | 90/10000 [00:11<33:39,  4.91it/s, episode_reward=134, running_reward=64.4]"
     ]
    },
    {
     "output_type": "stream",
     "name": "stderr",
     "text": [
      "\r\n",
      "  1%|          | 91/10000 [00:11<31:44,  5.20it/s, episode_reward=134, running_reward=64.4]"
     ]
    },
    {
     "output_type": "stream",
     "name": "stderr",
     "text": [
      "\r\n",
      "  1%|          | 91/10000 [00:11<31:44,  5.20it/s, episode_reward=182, running_reward=65.7]"
     ]
    },
    {
     "output_type": "stream",
     "name": "stderr",
     "text": [
      "\r\n",
      "  1%|          | 92/10000 [00:11<32:50,  5.03it/s, episode_reward=182, running_reward=65.7]"
     ]
    },
    {
     "output_type": "stream",
     "name": "stderr",
     "text": [
      "\r\n",
      "  1%|          | 92/10000 [00:12<32:50,  5.03it/s, episode_reward=319, running_reward=68.4]"
     ]
    },
    {
     "output_type": "stream",
     "name": "stderr",
     "text": [
      "\r\n",
      "  1%|          | 93/10000 [00:12<40:30,  4.08it/s, episode_reward=319, running_reward=68.4]"
     ]
    },
    {
     "output_type": "stream",
     "name": "stderr",
     "text": [
      "\r\n",
      "  1%|          | 93/10000 [00:12<40:30,  4.08it/s, episode_reward=367, running_reward=71.6]"
     ]
    },
    {
     "output_type": "stream",
     "name": "stderr",
     "text": [
      "\r\n",
      "  1%|          | 94/10000 [00:12<48:27,  3.41it/s, episode_reward=367, running_reward=71.6]"
     ]
    },
    {
     "output_type": "stream",
     "name": "stderr",
     "text": [
      "\r\n",
      "  1%|          | 94/10000 [00:12<48:27,  3.41it/s, episode_reward=321, running_reward=74.2]"
     ]
    },
    {
     "output_type": "stream",
     "name": "stderr",
     "text": [
      "\r\n",
      "  1%|          | 95/10000 [00:12<53:11,  3.10it/s, episode_reward=321, running_reward=74.2]"
     ]
    },
    {
     "output_type": "stream",
     "name": "stderr",
     "text": [
      "\r\n",
      "  1%|          | 95/10000 [00:13<53:11,  3.10it/s, episode_reward=270, running_reward=76.2]"
     ]
    },
    {
     "output_type": "stream",
     "name": "stderr",
     "text": [
      "\r\n",
      "  1%|          | 96/10000 [00:13<52:30,  3.14it/s, episode_reward=270, running_reward=76.2]"
     ]
    },
    {
     "output_type": "stream",
     "name": "stderr",
     "text": [
      "\r\n",
      "  1%|          | 96/10000 [00:13<52:30,  3.14it/s, episode_reward=500, running_reward=80.6]"
     ]
    },
    {
     "output_type": "stream",
     "name": "stderr",
     "text": [
      "\r\n",
      "  1%|          | 97/10000 [00:13<1:07:20,  2.45it/s, episode_reward=500, running_reward=80.6]"
     ]
    },
    {
     "output_type": "stream",
     "name": "stderr",
     "text": [
      "\r\n",
      "  1%|          | 97/10000 [00:13<1:07:20,  2.45it/s, episode_reward=70, running_reward=80.5] "
     ]
    },
    {
     "output_type": "stream",
     "name": "stderr",
     "text": [
      "\r\n",
      "  1%|          | 97/10000 [00:14<1:07:20,  2.45it/s, episode_reward=500, running_reward=84.7]"
     ]
    },
    {
     "output_type": "stream",
     "name": "stderr",
     "text": [
      "\r\n",
      "  1%|          | 99/10000 [00:14<1:01:58,  2.66it/s, episode_reward=500, running_reward=84.7]"
     ]
    },
    {
     "output_type": "stream",
     "name": "stderr",
     "text": [
      "\r\n",
      "  1%|          | 99/10000 [00:14<1:01:58,  2.66it/s, episode_reward=419, running_reward=88.1]"
     ]
    },
    {
     "output_type": "stream",
     "name": "stderr",
     "text": [
      "\r\n",
      "  1%|          | 100/10000 [00:14<1:08:33,  2.41it/s, episode_reward=419, running_reward=88.1]"
     ]
    },
    {
     "output_type": "stream",
     "name": "stderr",
     "text": [
      "\r\n",
      "  1%|          | 100/10000 [00:15<1:08:33,  2.41it/s, episode_reward=185, running_reward=89.8]"
     ]
    },
    {
     "output_type": "stream",
     "name": "stderr",
     "text": [
      "\r\n",
      "  1%|          | 101/10000 [00:15<59:56,  2.75it/s, episode_reward=185, running_reward=89.8]  "
     ]
    },
    {
     "output_type": "stream",
     "name": "stderr",
     "text": [
      "\r\n",
      "  1%|          | 101/10000 [00:15<59:56,  2.75it/s, episode_reward=55, running_reward=90.2] "
     ]
    },
    {
     "output_type": "stream",
     "name": "stderr",
     "text": [
      "\r\n",
      "  1%|          | 101/10000 [00:15<59:56,  2.75it/s, episode_reward=451, running_reward=94.5]"
     ]
    },
    {
     "output_type": "stream",
     "name": "stderr",
     "text": [
      "\r\n",
      "  1%|          | 103/10000 [00:15<56:37,  2.91it/s, episode_reward=451, running_reward=94.5]"
     ]
    },
    {
     "output_type": "stream",
     "name": "stderr",
     "text": [
      "\r\n",
      "  1%|          | 103/10000 [00:16<56:37,  2.91it/s, episode_reward=152, running_reward=94.5]"
     ]
    },
    {
     "output_type": "stream",
     "name": "stderr",
     "text": [
      "\r\n",
      "  1%|          | 104/10000 [00:16<50:13,  3.28it/s, episode_reward=152, running_reward=94.5]"
     ]
    },
    {
     "output_type": "stream",
     "name": "stderr",
     "text": [
      "\r\n",
      "  1%|          | 104/10000 [00:16<50:13,  3.28it/s, episode_reward=374, running_reward=98.2]"
     ]
    },
    {
     "output_type": "stream",
     "name": "stderr",
     "text": [
      "\r\n",
      "  1%|          | 105/10000 [00:16<55:52,  2.95it/s, episode_reward=374, running_reward=98.2]"
     ]
    },
    {
     "output_type": "stream",
     "name": "stderr",
     "text": [
      "\r\n",
      "  1%|          | 105/10000 [00:16<55:52,  2.95it/s, episode_reward=435, running_reward=102] "
     ]
    },
    {
     "output_type": "stream",
     "name": "stderr",
     "text": [
      "\r\n",
      "  1%|          | 106/10000 [00:16<1:03:40,  2.59it/s, episode_reward=435, running_reward=102]"
     ]
    },
    {
     "output_type": "stream",
     "name": "stderr",
     "text": [
      "\r\n",
      "  1%|          | 106/10000 [00:17<1:03:40,  2.59it/s, episode_reward=155, running_reward=103]"
     ]
    },
    {
     "output_type": "stream",
     "name": "stderr",
     "text": [
      "\r\n",
      "  1%|          | 107/10000 [00:17<54:19,  3.04it/s, episode_reward=155, running_reward=103]  "
     ]
    },
    {
     "output_type": "stream",
     "name": "stderr",
     "text": [
      "\r\n",
      "  1%|          | 107/10000 [00:17<54:19,  3.04it/s, episode_reward=163, running_reward=105]"
     ]
    },
    {
     "output_type": "stream",
     "name": "stderr",
     "text": [
      "\r\n",
      "  1%|          | 108/10000 [00:17<47:36,  3.46it/s, episode_reward=163, running_reward=105]"
     ]
    },
    {
     "output_type": "stream",
     "name": "stderr",
     "text": [
      "\r\n",
      "  1%|          | 108/10000 [00:17<47:36,  3.46it/s, episode_reward=292, running_reward=107]"
     ]
    },
    {
     "output_type": "stream",
     "name": "stderr",
     "text": [
      "\r\n",
      "  1%|          | 109/10000 [00:17<49:28,  3.33it/s, episode_reward=292, running_reward=107]"
     ]
    },
    {
     "output_type": "stream",
     "name": "stderr",
     "text": [
      "\r\n",
      "  1%|          | 109/10000 [00:17<49:28,  3.33it/s, episode_reward=154, running_reward=109]"
     ]
    },
    {
     "output_type": "stream",
     "name": "stderr",
     "text": [
      "\r\n",
      "  1%|          | 110/10000 [00:17<43:46,  3.76it/s, episode_reward=154, running_reward=109]"
     ]
    },
    {
     "output_type": "stream",
     "name": "stderr",
     "text": [
      "\r\n",
      "  1%|          | 110/10000 [00:18<43:46,  3.76it/s, episode_reward=455, running_reward=113]"
     ]
    },
    {
     "output_type": "stream",
     "name": "stderr",
     "text": [
      "\r\n",
      "  1%|          | 111/10000 [00:18<55:27,  2.97it/s, episode_reward=455, running_reward=113]"
     ]
    },
    {
     "output_type": "stream",
     "name": "stderr",
     "text": [
      "\r\n",
      "  1%|          | 111/10000 [00:18<55:27,  2.97it/s, episode_reward=144, running_reward=114]"
     ]
    },
    {
     "output_type": "stream",
     "name": "stderr",
     "text": [
      "\r\n",
      "  1%|          | 112/10000 [00:18<47:03,  3.50it/s, episode_reward=144, running_reward=114]"
     ]
    },
    {
     "output_type": "stream",
     "name": "stderr",
     "text": [
      "\r\n",
      "  1%|          | 112/10000 [00:19<47:03,  3.50it/s, episode_reward=447, running_reward=118]"
     ]
    },
    {
     "output_type": "stream",
     "name": "stderr",
     "text": [
      "\r\n",
      "  1%|          | 113/10000 [00:19<58:31,  2.82it/s, episode_reward=447, running_reward=118]"
     ]
    },
    {
     "output_type": "stream",
     "name": "stderr",
     "text": [
      "\r\n",
      "  1%|          | 113/10000 [00:19<58:31,  2.82it/s, episode_reward=303, running_reward=121]"
     ]
    },
    {
     "output_type": "stream",
     "name": "stderr",
     "text": [
      "\r\n",
      "  1%|          | 114/10000 [00:19<58:02,  2.84it/s, episode_reward=303, running_reward=121]"
     ]
    },
    {
     "output_type": "stream",
     "name": "stderr",
     "text": [
      "\r\n",
      "  1%|          | 114/10000 [00:19<58:02,  2.84it/s, episode_reward=423, running_reward=125]"
     ]
    },
    {
     "output_type": "stream",
     "name": "stderr",
     "text": [
      "\r\n",
      "  1%|          | 115/10000 [00:19<1:03:35,  2.59it/s, episode_reward=423, running_reward=125]"
     ]
    },
    {
     "output_type": "stream",
     "name": "stderr",
     "text": [
      "\r\n",
      "  1%|          | 115/10000 [00:20<1:03:35,  2.59it/s, episode_reward=430, running_reward=129]"
     ]
    },
    {
     "output_type": "stream",
     "name": "stderr",
     "text": [
      "\r\n",
      "  1%|          | 116/10000 [00:20<1:07:44,  2.43it/s, episode_reward=430, running_reward=129]"
     ]
    },
    {
     "output_type": "stream",
     "name": "stderr",
     "text": [
      "\r\n",
      "  1%|          | 116/10000 [00:20<1:07:44,  2.43it/s, episode_reward=187, running_reward=131]"
     ]
    },
    {
     "output_type": "stream",
     "name": "stderr",
     "text": [
      "\r\n",
      "  1%|          | 117/10000 [00:20<58:04,  2.84it/s, episode_reward=187, running_reward=131]  "
     ]
    },
    {
     "output_type": "stream",
     "name": "stderr",
     "text": [
      "\r\n",
      "  1%|          | 117/10000 [00:21<58:04,  2.84it/s, episode_reward=424, running_reward=135]"
     ]
    },
    {
     "output_type": "stream",
     "name": "stderr",
     "text": [
      "\r\n",
      "  1%|          | 118/10000 [00:21<1:05:12,  2.53it/s, episode_reward=424, running_reward=135]"
     ]
    },
    {
     "output_type": "stream",
     "name": "stderr",
     "text": [
      "\r\n",
      "  1%|          | 118/10000 [00:21<1:05:12,  2.53it/s, episode_reward=209, running_reward=137]"
     ]
    },
    {
     "output_type": "stream",
     "name": "stderr",
     "text": [
      "\r\n",
      "  1%|          | 119/10000 [00:21<57:47,  2.85it/s, episode_reward=209, running_reward=137]  "
     ]
    },
    {
     "output_type": "stream",
     "name": "stderr",
     "text": [
      "\r\n",
      "  1%|          | 119/10000 [00:21<57:47,  2.85it/s, episode_reward=121, running_reward=138]"
     ]
    },
    {
     "output_type": "stream",
     "name": "stderr",
     "text": [
      "\r\n",
      "  1%|          | 120/10000 [00:21<48:11,  3.42it/s, episode_reward=121, running_reward=138]"
     ]
    },
    {
     "output_type": "stream",
     "name": "stderr",
     "text": [
      "\r\n",
      "  1%|          | 120/10000 [00:21<48:11,  3.42it/s, episode_reward=253, running_reward=140]"
     ]
    },
    {
     "output_type": "stream",
     "name": "stderr",
     "text": [
      "\r\n",
      "  1%|          | 121/10000 [00:21<48:00,  3.43it/s, episode_reward=253, running_reward=140]"
     ]
    },
    {
     "output_type": "stream",
     "name": "stderr",
     "text": [
      "\r\n",
      "  1%|          | 121/10000 [00:21<48:00,  3.43it/s, episode_reward=184, running_reward=142]"
     ]
    },
    {
     "output_type": "stream",
     "name": "stderr",
     "text": [
      "\r\n",
      "  1%|          | 122/10000 [00:21<43:58,  3.74it/s, episode_reward=184, running_reward=142]"
     ]
    },
    {
     "output_type": "stream",
     "name": "stderr",
     "text": [
      "\r\n",
      "  1%|          | 122/10000 [00:22<43:58,  3.74it/s, episode_reward=253, running_reward=144]"
     ]
    },
    {
     "output_type": "stream",
     "name": "stderr",
     "text": [
      "\r\n",
      "  1%|          | 123/10000 [00:22<44:45,  3.68it/s, episode_reward=253, running_reward=144]"
     ]
    },
    {
     "output_type": "stream",
     "name": "stderr",
     "text": [
      "\r\n",
      "  1%|          | 123/10000 [00:22<44:45,  3.68it/s, episode_reward=213, running_reward=145]"
     ]
    },
    {
     "output_type": "stream",
     "name": "stderr",
     "text": [
      "\r\n",
      "  1%|          | 124/10000 [00:22<43:12,  3.81it/s, episode_reward=213, running_reward=145]"
     ]
    },
    {
     "output_type": "stream",
     "name": "stderr",
     "text": [
      "\r\n",
      "  1%|          | 124/10000 [00:22<43:12,  3.81it/s, episode_reward=289, running_reward=148]"
     ]
    },
    {
     "output_type": "stream",
     "name": "stderr",
     "text": [
      "\r\n",
      "  1%|▏         | 125/10000 [00:22<46:17,  3.56it/s, episode_reward=289, running_reward=148]"
     ]
    },
    {
     "output_type": "stream",
     "name": "stderr",
     "text": [
      "\r\n",
      "  1%|▏         | 125/10000 [00:23<46:17,  3.56it/s, episode_reward=395, running_reward=152]"
     ]
    },
    {
     "output_type": "stream",
     "name": "stderr",
     "text": [
      "\r\n",
      "  1%|▏         | 126/10000 [00:23<53:58,  3.05it/s, episode_reward=395, running_reward=152]"
     ]
    },
    {
     "output_type": "stream",
     "name": "stderr",
     "text": [
      "\r\n",
      "  1%|▏         | 126/10000 [00:23<53:58,  3.05it/s, episode_reward=500, running_reward=156]"
     ]
    },
    {
     "output_type": "stream",
     "name": "stderr",
     "text": [
      "\r\n",
      "  1%|▏         | 127/10000 [00:23<1:05:22,  2.52it/s, episode_reward=500, running_reward=156]"
     ]
    },
    {
     "output_type": "stream",
     "name": "stderr",
     "text": [
      "\r\n",
      "  1%|▏         | 127/10000 [00:24<1:05:22,  2.52it/s, episode_reward=289, running_reward=159]"
     ]
    },
    {
     "output_type": "stream",
     "name": "stderr",
     "text": [
      "\r\n",
      "  1%|▏         | 128/10000 [00:24<1:02:03,  2.65it/s, episode_reward=289, running_reward=159]"
     ]
    },
    {
     "output_type": "stream",
     "name": "stderr",
     "text": [
      "\r\n",
      "  1%|▏         | 128/10000 [00:24<1:02:03,  2.65it/s, episode_reward=500, running_reward=164]"
     ]
    },
    {
     "output_type": "stream",
     "name": "stderr",
     "text": [
      "\r\n",
      "  1%|▏         | 129/10000 [00:24<1:11:33,  2.30it/s, episode_reward=500, running_reward=164]"
     ]
    },
    {
     "output_type": "stream",
     "name": "stderr",
     "text": [
      "\r\n",
      "  1%|▏         | 129/10000 [00:25<1:11:33,  2.30it/s, episode_reward=500, running_reward=169]"
     ]
    },
    {
     "output_type": "stream",
     "name": "stderr",
     "text": [
      "\r\n",
      "  1%|▏         | 130/10000 [00:25<1:17:05,  2.13it/s, episode_reward=500, running_reward=169]"
     ]
    },
    {
     "output_type": "stream",
     "name": "stderr",
     "text": [
      "\r\n",
      "  1%|▏         | 130/10000 [00:25<1:17:05,  2.13it/s, episode_reward=500, running_reward=174]"
     ]
    },
    {
     "output_type": "stream",
     "name": "stderr",
     "text": [
      "\r\n",
      "  1%|▏         | 131/10000 [00:25<1:22:15,  2.00it/s, episode_reward=500, running_reward=174]"
     ]
    },
    {
     "output_type": "stream",
     "name": "stderr",
     "text": [
      "\r\n",
      "  1%|▏         | 131/10000 [00:26<1:22:15,  2.00it/s, episode_reward=500, running_reward=178]"
     ]
    },
    {
     "output_type": "stream",
     "name": "stderr",
     "text": [
      "\r\n",
      "  1%|▏         | 132/10000 [00:26<1:25:53,  1.91it/s, episode_reward=500, running_reward=178]"
     ]
    },
    {
     "output_type": "stream",
     "name": "stderr",
     "text": [
      "\r\n",
      "  1%|▏         | 132/10000 [00:26<1:25:53,  1.91it/s, episode_reward=500, running_reward=183]"
     ]
    },
    {
     "output_type": "stream",
     "name": "stderr",
     "text": [
      "\r\n",
      "  1%|▏         | 133/10000 [00:26<1:27:13,  1.89it/s, episode_reward=500, running_reward=183]"
     ]
    },
    {
     "output_type": "stream",
     "name": "stderr",
     "text": [
      "\r\n",
      "  1%|▏         | 133/10000 [00:27<1:27:13,  1.89it/s, episode_reward=277, running_reward=185]"
     ]
    },
    {
     "output_type": "stream",
     "name": "stderr",
     "text": [
      "\r\n",
      "  1%|▏         | 134/10000 [00:27<1:16:24,  2.15it/s, episode_reward=277, running_reward=185]"
     ]
    },
    {
     "output_type": "stream",
     "name": "stderr",
     "text": [
      "\r\n",
      "  1%|▏         | 134/10000 [00:27<1:16:24,  2.15it/s, episode_reward=290, running_reward=187]"
     ]
    },
    {
     "output_type": "stream",
     "name": "stderr",
     "text": [
      "\r\n",
      "  1%|▏         | 135/10000 [00:27<1:09:50,  2.35it/s, episode_reward=290, running_reward=187]"
     ]
    },
    {
     "output_type": "stream",
     "name": "stderr",
     "text": [
      "\r\n",
      "  1%|▏         | 135/10000 [00:27<1:09:50,  2.35it/s, episode_reward=209, running_reward=189]"
     ]
    },
    {
     "output_type": "stream",
     "name": "stderr",
     "text": [
      "\r\n",
      "  1%|▏         | 136/10000 [00:27<1:00:31,  2.72it/s, episode_reward=209, running_reward=189]"
     ]
    },
    {
     "output_type": "stream",
     "name": "stderr",
     "text": [
      "\r\n",
      "  1%|▏         | 136/10000 [00:28<1:00:31,  2.72it/s, episode_reward=206, running_reward=191]"
     ]
    },
    {
     "output_type": "stream",
     "name": "stderr",
     "text": [
      "\r\n",
      "  1%|▏         | 137/10000 [00:28<53:56,  3.05it/s, episode_reward=206, running_reward=191]  "
     ]
    },
    {
     "output_type": "stream",
     "name": "stderr",
     "text": [
      "\r\n",
      "  1%|▏         | 137/10000 [00:28<53:56,  3.05it/s, episode_reward=151, running_reward=192]"
     ]
    },
    {
     "output_type": "stream",
     "name": "stderr",
     "text": [
      "\r\n",
      "  1%|▏         | 138/10000 [00:28<46:15,  3.55it/s, episode_reward=151, running_reward=192]"
     ]
    },
    {
     "output_type": "stream",
     "name": "stderr",
     "text": [
      "\r\n",
      "  1%|▏         | 138/10000 [00:28<46:15,  3.55it/s, episode_reward=149, running_reward=193]"
     ]
    },
    {
     "output_type": "stream",
     "name": "stderr",
     "text": [
      "\r\n",
      "  1%|▏         | 139/10000 [00:28<41:07,  4.00it/s, episode_reward=149, running_reward=193]"
     ]
    },
    {
     "output_type": "stream",
     "name": "stderr",
     "text": [
      "\r\n",
      "  1%|▏         | 139/10000 [00:28<41:07,  4.00it/s, episode_reward=165, running_reward=194]"
     ]
    },
    {
     "output_type": "stream",
     "name": "stderr",
     "text": [
      "\r\n",
      "  1%|▏         | 140/10000 [00:28<38:45,  4.24it/s, episode_reward=165, running_reward=194]"
     ]
    },
    {
     "output_type": "stream",
     "name": "stderr",
     "text": [
      "\r\n",
      "  1%|▏         | 140/10000 [00:28<38:45,  4.24it/s, episode_reward=188, running_reward=195]"
     ]
    },
    {
     "output_type": "stream",
     "name": "stderr",
     "text": [
      "\r\n",
      "  1%|▏         | 141/10000 [00:28<38:16,  4.29it/s, episode_reward=188, running_reward=195]"
     ]
    },
    {
     "output_type": "stream",
     "name": "stderr",
     "text": [
      "\r\n",
      "  1%|▏         | 141/10000 [00:29<38:16,  4.29it/s, episode_reward=177, running_reward=197]"
     ]
    },
    {
     "output_type": "stream",
     "name": "stderr",
     "text": [
      "\r\n",
      "  1%|▏         | 142/10000 [00:29<37:05,  4.43it/s, episode_reward=177, running_reward=197]"
     ]
    },
    {
     "output_type": "stream",
     "name": "stderr",
     "text": [
      "\r\n",
      "  1%|▏         | 142/10000 [00:29<37:05,  4.43it/s, episode_reward=226, running_reward=199]"
     ]
    },
    {
     "output_type": "stream",
     "name": "stderr",
     "text": [
      "\r\n",
      "  1%|▏         | 143/10000 [00:29<38:38,  4.25it/s, episode_reward=226, running_reward=199]"
     ]
    },
    {
     "output_type": "stream",
     "name": "stderr",
     "text": [
      "\r\n",
      "  1%|▏         | 143/10000 [00:29<38:38,  4.25it/s, episode_reward=271, running_reward=201]"
     ]
    },
    {
     "output_type": "stream",
     "name": "stderr",
     "text": [
      "\r\n",
      "  1%|▏         | 144/10000 [00:29<42:10,  3.90it/s, episode_reward=271, running_reward=201]"
     ]
    },
    {
     "output_type": "stream",
     "name": "stderr",
     "text": [
      "\r\n",
      "  1%|▏         | 144/10000 [00:29<42:10,  3.90it/s, episode_reward=273, running_reward=203]"
     ]
    },
    {
     "output_type": "stream",
     "name": "stderr",
     "text": [
      "\r\n",
      "  1%|▏         | 145/10000 [00:29<44:50,  3.66it/s, episode_reward=273, running_reward=203]"
     ]
    },
    {
     "output_type": "stream",
     "name": "stderr",
     "text": [
      "\r\n",
      "  1%|▏         | 145/10000 [00:30<44:50,  3.66it/s, episode_reward=218, running_reward=205]"
     ]
    },
    {
     "output_type": "stream",
     "name": "stderr",
     "text": [
      "\r\n",
      "  1%|▏         | 146/10000 [00:30<43:36,  3.77it/s, episode_reward=218, running_reward=205]"
     ]
    },
    {
     "output_type": "stream",
     "name": "stderr",
     "text": [
      "\r\n",
      "  1%|▏         | 146/10000 [00:30<43:36,  3.77it/s, episode_reward=279, running_reward=208]"
     ]
    },
    {
     "output_type": "stream",
     "name": "stderr",
     "text": [
      "\r\n",
      "  1%|▏         | 147/10000 [00:30<45:47,  3.59it/s, episode_reward=279, running_reward=208]"
     ]
    },
    {
     "output_type": "stream",
     "name": "stderr",
     "text": [
      "\r\n",
      "  1%|▏         | 147/10000 [00:30<45:47,  3.59it/s, episode_reward=307, running_reward=210]"
     ]
    },
    {
     "output_type": "stream",
     "name": "stderr",
     "text": [
      "\r\n",
      "  1%|▏         | 148/10000 [00:30<49:10,  3.34it/s, episode_reward=307, running_reward=210]"
     ]
    },
    {
     "output_type": "stream",
     "name": "stderr",
     "text": [
      "\r\n",
      "  1%|▏         | 148/10000 [00:31<49:10,  3.34it/s, episode_reward=303, running_reward=212]"
     ]
    },
    {
     "output_type": "stream",
     "name": "stderr",
     "text": [
      "\r\n",
      "  1%|▏         | 149/10000 [00:31<51:10,  3.21it/s, episode_reward=303, running_reward=212]"
     ]
    },
    {
     "output_type": "stream",
     "name": "stderr",
     "text": [
      "\r\n",
      "  1%|▏         | 149/10000 [00:31<51:10,  3.21it/s, episode_reward=44, running_reward=212] "
     ]
    },
    {
     "output_type": "stream",
     "name": "stderr",
     "text": [
      "\r\n",
      "  1%|▏         | 149/10000 [00:31<51:10,  3.21it/s, episode_reward=246, running_reward=214]"
     ]
    },
    {
     "output_type": "stream",
     "name": "stderr",
     "text": [
      "\r\n",
      "  2%|▏         | 151/10000 [00:31<40:08,  4.09it/s, episode_reward=246, running_reward=214]"
     ]
    },
    {
     "output_type": "stream",
     "name": "stderr",
     "text": [
      "\r\n",
      "  2%|▏         | 151/10000 [00:31<40:08,  4.09it/s, episode_reward=225, running_reward=216]"
     ]
    },
    {
     "output_type": "stream",
     "name": "stderr",
     "text": [
      "\r\n",
      "  2%|▏         | 152/10000 [00:31<40:48,  4.02it/s, episode_reward=225, running_reward=216]"
     ]
    },
    {
     "output_type": "stream",
     "name": "stderr",
     "text": [
      "\r\n",
      "  2%|▏         | 152/10000 [00:32<40:48,  4.02it/s, episode_reward=239, running_reward=217]"
     ]
    },
    {
     "output_type": "stream",
     "name": "stderr",
     "text": [
      "\r\n",
      "  2%|▏         | 153/10000 [00:32<42:20,  3.88it/s, episode_reward=239, running_reward=217]"
     ]
    },
    {
     "output_type": "stream",
     "name": "stderr",
     "text": [
      "\r\n",
      "  2%|▏         | 153/10000 [00:32<42:20,  3.88it/s, episode_reward=219, running_reward=218]"
     ]
    },
    {
     "output_type": "stream",
     "name": "stderr",
     "text": [
      "\r\n",
      "  2%|▏         | 154/10000 [00:32<42:17,  3.88it/s, episode_reward=219, running_reward=218]"
     ]
    },
    {
     "output_type": "stream",
     "name": "stderr",
     "text": [
      "\r\n",
      "  2%|▏         | 154/10000 [00:32<42:17,  3.88it/s, episode_reward=196, running_reward=220]"
     ]
    },
    {
     "output_type": "stream",
     "name": "stderr",
     "text": [
      "\r\n",
      "  2%|▏         | 155/10000 [00:32<40:41,  4.03it/s, episode_reward=196, running_reward=220]"
     ]
    },
    {
     "output_type": "stream",
     "name": "stderr",
     "text": [
      "\r\n",
      "  2%|▏         | 155/10000 [00:32<40:41,  4.03it/s, episode_reward=216, running_reward=222]"
     ]
    },
    {
     "output_type": "stream",
     "name": "stderr",
     "text": [
      "\r\n",
      "  2%|▏         | 156/10000 [00:32<40:49,  4.02it/s, episode_reward=216, running_reward=222]"
     ]
    },
    {
     "output_type": "stream",
     "name": "stderr",
     "text": [
      "\r\n",
      "  2%|▏         | 156/10000 [00:32<40:49,  4.02it/s, episode_reward=204, running_reward=224]"
     ]
    },
    {
     "output_type": "stream",
     "name": "stderr",
     "text": [
      "\r\n",
      "  2%|▏         | 157/10000 [00:32<40:10,  4.08it/s, episode_reward=204, running_reward=224]"
     ]
    },
    {
     "output_type": "stream",
     "name": "stderr",
     "text": [
      "\r\n",
      "  2%|▏         | 157/10000 [00:33<40:10,  4.08it/s, episode_reward=208, running_reward=225]"
     ]
    },
    {
     "output_type": "stream",
     "name": "stderr",
     "text": [
      "\r\n",
      "  2%|▏         | 158/10000 [00:33<39:40,  4.13it/s, episode_reward=208, running_reward=225]"
     ]
    },
    {
     "output_type": "stream",
     "name": "stderr",
     "text": [
      "\r\n",
      "  2%|▏         | 158/10000 [00:33<39:40,  4.13it/s, episode_reward=209, running_reward=227]"
     ]
    },
    {
     "output_type": "stream",
     "name": "stderr",
     "text": [
      "\r\n",
      "  2%|▏         | 159/10000 [00:33<39:39,  4.14it/s, episode_reward=209, running_reward=227]"
     ]
    },
    {
     "output_type": "stream",
     "name": "stderr",
     "text": [
      "\r\n",
      "  2%|▏         | 159/10000 [00:33<39:39,  4.14it/s, episode_reward=183, running_reward=229]"
     ]
    },
    {
     "output_type": "stream",
     "name": "stderr",
     "text": [
      "\r\n",
      "  2%|▏         | 160/10000 [00:33<38:25,  4.27it/s, episode_reward=183, running_reward=229]"
     ]
    },
    {
     "output_type": "stream",
     "name": "stderr",
     "text": [
      "\r\n",
      "  2%|▏         | 160/10000 [00:33<38:25,  4.27it/s, episode_reward=213, running_reward=231]"
     ]
    },
    {
     "output_type": "stream",
     "name": "stderr",
     "text": [
      "\r\n",
      "  2%|▏         | 161/10000 [00:33<39:58,  4.10it/s, episode_reward=213, running_reward=231]"
     ]
    },
    {
     "output_type": "stream",
     "name": "stderr",
     "text": [
      "\r\n",
      "  2%|▏         | 161/10000 [00:34<39:58,  4.10it/s, episode_reward=192, running_reward=232]"
     ]
    },
    {
     "output_type": "stream",
     "name": "stderr",
     "text": [
      "\r\n",
      "  2%|▏         | 162/10000 [00:34<39:31,  4.15it/s, episode_reward=192, running_reward=232]"
     ]
    },
    {
     "output_type": "stream",
     "name": "stderr",
     "text": [
      "\r\n",
      "  2%|▏         | 162/10000 [00:34<39:31,  4.15it/s, episode_reward=164, running_reward=234]"
     ]
    },
    {
     "output_type": "stream",
     "name": "stderr",
     "text": [
      "\r\n",
      "  2%|▏         | 163/10000 [00:34<37:25,  4.38it/s, episode_reward=164, running_reward=234]"
     ]
    },
    {
     "output_type": "stream",
     "name": "stderr",
     "text": [
      "\r\n",
      "  2%|▏         | 163/10000 [00:34<37:25,  4.38it/s, episode_reward=168, running_reward=235]"
     ]
    },
    {
     "output_type": "stream",
     "name": "stderr",
     "text": [
      "\r\n",
      "  2%|▏         | 164/10000 [00:34<35:43,  4.59it/s, episode_reward=168, running_reward=235]"
     ]
    },
    {
     "output_type": "stream",
     "name": "stderr",
     "text": [
      "\r\n",
      "  2%|▏         | 164/10000 [00:34<35:43,  4.59it/s, episode_reward=192, running_reward=237]"
     ]
    },
    {
     "output_type": "stream",
     "name": "stderr",
     "text": [
      "\r\n",
      "  2%|▏         | 165/10000 [00:34<36:18,  4.52it/s, episode_reward=192, running_reward=237]"
     ]
    },
    {
     "output_type": "stream",
     "name": "stderr",
     "text": [
      "\r\n",
      "  2%|▏         | 165/10000 [00:35<36:18,  4.52it/s, episode_reward=201, running_reward=238]"
     ]
    },
    {
     "output_type": "stream",
     "name": "stderr",
     "text": [
      "\r\n",
      "  2%|▏         | 166/10000 [00:35<36:46,  4.46it/s, episode_reward=201, running_reward=238]"
     ]
    },
    {
     "output_type": "stream",
     "name": "stderr",
     "text": [
      "\r\n",
      "  2%|▏         | 166/10000 [00:35<36:46,  4.46it/s, episode_reward=236, running_reward=240]"
     ]
    },
    {
     "output_type": "stream",
     "name": "stderr",
     "text": [
      "\r\n",
      "  2%|▏         | 167/10000 [00:35<38:56,  4.21it/s, episode_reward=236, running_reward=240]"
     ]
    },
    {
     "output_type": "stream",
     "name": "stderr",
     "text": [
      "\r\n",
      "  2%|▏         | 167/10000 [00:35<38:56,  4.21it/s, episode_reward=229, running_reward=243]"
     ]
    },
    {
     "output_type": "stream",
     "name": "stderr",
     "text": [
      "\r\n",
      "  2%|▏         | 168/10000 [00:35<40:40,  4.03it/s, episode_reward=229, running_reward=243]"
     ]
    },
    {
     "output_type": "stream",
     "name": "stderr",
     "text": [
      "\r\n",
      "  2%|▏         | 168/10000 [00:35<40:40,  4.03it/s, episode_reward=192, running_reward=244]"
     ]
    },
    {
     "output_type": "stream",
     "name": "stderr",
     "text": [
      "\r\n",
      "  2%|▏         | 169/10000 [00:35<39:19,  4.17it/s, episode_reward=192, running_reward=244]"
     ]
    },
    {
     "output_type": "stream",
     "name": "stderr",
     "text": [
      "\r\n",
      "  2%|▏         | 169/10000 [00:36<39:19,  4.17it/s, episode_reward=213, running_reward=245]"
     ]
    },
    {
     "output_type": "stream",
     "name": "stderr",
     "text": [
      "\r\n",
      "  2%|▏         | 170/10000 [00:36<40:19,  4.06it/s, episode_reward=213, running_reward=245]"
     ]
    },
    {
     "output_type": "stream",
     "name": "stderr",
     "text": [
      "\r\n",
      "  2%|▏         | 170/10000 [00:36<40:19,  4.06it/s, episode_reward=182, running_reward=245]"
     ]
    },
    {
     "output_type": "stream",
     "name": "stderr",
     "text": [
      "\r\n",
      "  2%|▏         | 171/10000 [00:36<38:53,  4.21it/s, episode_reward=182, running_reward=245]"
     ]
    },
    {
     "output_type": "stream",
     "name": "stderr",
     "text": [
      "\r\n",
      "  2%|▏         | 171/10000 [00:36<38:53,  4.21it/s, episode_reward=218, running_reward=246]"
     ]
    },
    {
     "output_type": "stream",
     "name": "stderr",
     "text": [
      "\r\n",
      "  2%|▏         | 172/10000 [00:36<40:05,  4.09it/s, episode_reward=218, running_reward=246]"
     ]
    },
    {
     "output_type": "stream",
     "name": "stderr",
     "text": [
      "\r\n",
      "  2%|▏         | 172/10000 [00:36<40:05,  4.09it/s, episode_reward=191, running_reward=247]"
     ]
    },
    {
     "output_type": "stream",
     "name": "stderr",
     "text": [
      "\r\n",
      "  2%|▏         | 173/10000 [00:36<39:00,  4.20it/s, episode_reward=191, running_reward=247]"
     ]
    },
    {
     "output_type": "stream",
     "name": "stderr",
     "text": [
      "\r\n",
      "  2%|▏         | 173/10000 [00:36<39:00,  4.20it/s, episode_reward=189, running_reward=249]"
     ]
    },
    {
     "output_type": "stream",
     "name": "stderr",
     "text": [
      "\r\n",
      "  2%|▏         | 174/10000 [00:36<38:02,  4.30it/s, episode_reward=189, running_reward=249]"
     ]
    },
    {
     "output_type": "stream",
     "name": "stderr",
     "text": [
      "\r\n",
      "  2%|▏         | 174/10000 [00:37<38:02,  4.30it/s, episode_reward=202, running_reward=250]"
     ]
    },
    {
     "output_type": "stream",
     "name": "stderr",
     "text": [
      "\r\n",
      "  2%|▏         | 175/10000 [00:37<38:20,  4.27it/s, episode_reward=202, running_reward=250]"
     ]
    },
    {
     "output_type": "stream",
     "name": "stderr",
     "text": [
      "\r\n",
      "  2%|▏         | 175/10000 [00:37<38:20,  4.27it/s, episode_reward=192, running_reward=251]"
     ]
    },
    {
     "output_type": "stream",
     "name": "stderr",
     "text": [
      "\r\n",
      "  2%|▏         | 176/10000 [00:37<37:52,  4.32it/s, episode_reward=192, running_reward=251]"
     ]
    },
    {
     "output_type": "stream",
     "name": "stderr",
     "text": [
      "\r\n",
      "  2%|▏         | 176/10000 [00:37<37:52,  4.32it/s, episode_reward=182, running_reward=252]"
     ]
    },
    {
     "output_type": "stream",
     "name": "stderr",
     "text": [
      "\r\n",
      "  2%|▏         | 177/10000 [00:37<36:42,  4.46it/s, episode_reward=182, running_reward=252]"
     ]
    },
    {
     "output_type": "stream",
     "name": "stderr",
     "text": [
      "\r\n",
      "  2%|▏         | 177/10000 [00:37<36:42,  4.46it/s, episode_reward=195, running_reward=253]"
     ]
    },
    {
     "output_type": "stream",
     "name": "stderr",
     "text": [
      "\r\n",
      "  2%|▏         | 178/10000 [00:37<36:36,  4.47it/s, episode_reward=195, running_reward=253]"
     ]
    },
    {
     "output_type": "stream",
     "name": "stderr",
     "text": [
      "\r\n",
      "  2%|▏         | 178/10000 [00:38<36:36,  4.47it/s, episode_reward=185, running_reward=253]"
     ]
    },
    {
     "output_type": "stream",
     "name": "stderr",
     "text": [
      "\r\n",
      "  2%|▏         | 179/10000 [00:38<36:25,  4.49it/s, episode_reward=185, running_reward=253]"
     ]
    },
    {
     "output_type": "stream",
     "name": "stderr",
     "text": [
      "\r\n",
      "  2%|▏         | 179/10000 [00:38<36:25,  4.49it/s, episode_reward=162, running_reward=253]"
     ]
    },
    {
     "output_type": "stream",
     "name": "stderr",
     "text": [
      "\r\n",
      "  2%|▏         | 180/10000 [00:38<35:11,  4.65it/s, episode_reward=162, running_reward=253]"
     ]
    },
    {
     "output_type": "stream",
     "name": "stderr",
     "text": [
      "\r\n",
      "  2%|▏         | 180/10000 [00:38<35:11,  4.65it/s, episode_reward=161, running_reward=252]"
     ]
    },
    {
     "output_type": "stream",
     "name": "stderr",
     "text": [
      "\r\n",
      "  2%|▏         | 181/10000 [00:38<34:33,  4.74it/s, episode_reward=161, running_reward=252]"
     ]
    },
    {
     "output_type": "stream",
     "name": "stderr",
     "text": [
      "\r\n",
      "  2%|▏         | 181/10000 [00:38<34:33,  4.74it/s, episode_reward=187, running_reward=252]"
     ]
    },
    {
     "output_type": "stream",
     "name": "stderr",
     "text": [
      "\r\n",
      "  2%|▏         | 182/10000 [00:38<35:54,  4.56it/s, episode_reward=187, running_reward=252]"
     ]
    },
    {
     "output_type": "stream",
     "name": "stderr",
     "text": [
      "\r\n",
      "  2%|▏         | 182/10000 [00:38<35:54,  4.56it/s, episode_reward=168, running_reward=251]"
     ]
    },
    {
     "output_type": "stream",
     "name": "stderr",
     "text": [
      "\r\n",
      "  2%|▏         | 183/10000 [00:38<35:23,  4.62it/s, episode_reward=168, running_reward=251]"
     ]
    },
    {
     "output_type": "stream",
     "name": "stderr",
     "text": [
      "\r\n",
      "  2%|▏         | 183/10000 [00:39<35:23,  4.62it/s, episode_reward=197, running_reward=251]"
     ]
    },
    {
     "output_type": "stream",
     "name": "stderr",
     "text": [
      "\r\n",
      "  2%|▏         | 184/10000 [00:39<37:37,  4.35it/s, episode_reward=197, running_reward=251]"
     ]
    },
    {
     "output_type": "stream",
     "name": "stderr",
     "text": [
      "\r\n",
      "  2%|▏         | 184/10000 [00:39<37:37,  4.35it/s, episode_reward=208, running_reward=251]"
     ]
    },
    {
     "output_type": "stream",
     "name": "stderr",
     "text": [
      "\r\n",
      "  2%|▏         | 185/10000 [00:39<38:08,  4.29it/s, episode_reward=208, running_reward=251]"
     ]
    },
    {
     "output_type": "stream",
     "name": "stderr",
     "text": [
      "\r\n",
      "  2%|▏         | 185/10000 [00:39<38:08,  4.29it/s, episode_reward=204, running_reward=251]"
     ]
    },
    {
     "output_type": "stream",
     "name": "stderr",
     "text": [
      "\r\n",
      "  2%|▏         | 186/10000 [00:39<40:27,  4.04it/s, episode_reward=204, running_reward=251]"
     ]
    },
    {
     "output_type": "stream",
     "name": "stderr",
     "text": [
      "\r\n",
      "  2%|▏         | 186/10000 [00:40<40:27,  4.04it/s, episode_reward=256, running_reward=252]"
     ]
    },
    {
     "output_type": "stream",
     "name": "stderr",
     "text": [
      "\r\n",
      "  2%|▏         | 187/10000 [00:40<44:09,  3.70it/s, episode_reward=256, running_reward=252]"
     ]
    },
    {
     "output_type": "stream",
     "name": "stderr",
     "text": [
      "\r\n",
      "  2%|▏         | 187/10000 [00:40<44:09,  3.70it/s, episode_reward=204, running_reward=252]"
     ]
    },
    {
     "output_type": "stream",
     "name": "stderr",
     "text": [
      "\r\n",
      "  2%|▏         | 188/10000 [00:40<43:28,  3.76it/s, episode_reward=204, running_reward=252]"
     ]
    },
    {
     "output_type": "stream",
     "name": "stderr",
     "text": [
      "\r\n",
      "  2%|▏         | 188/10000 [00:40<43:28,  3.76it/s, episode_reward=218, running_reward=253]"
     ]
    },
    {
     "output_type": "stream",
     "name": "stderr",
     "text": [
      "\r\n",
      "  2%|▏         | 189/10000 [00:40<43:18,  3.78it/s, episode_reward=218, running_reward=253]"
     ]
    },
    {
     "output_type": "stream",
     "name": "stderr",
     "text": [
      "\r\n",
      "  2%|▏         | 189/10000 [00:40<43:18,  3.78it/s, episode_reward=260, running_reward=254]"
     ]
    },
    {
     "output_type": "stream",
     "name": "stderr",
     "text": [
      "\r\n",
      "  2%|▏         | 190/10000 [00:40<45:06,  3.62it/s, episode_reward=260, running_reward=254]"
     ]
    },
    {
     "output_type": "stream",
     "name": "stderr",
     "text": [
      "\r\n",
      "  2%|▏         | 190/10000 [00:41<45:06,  3.62it/s, episode_reward=220, running_reward=254]"
     ]
    },
    {
     "output_type": "stream",
     "name": "stderr",
     "text": [
      "\r\n",
      "  2%|▏         | 191/10000 [00:41<44:40,  3.66it/s, episode_reward=220, running_reward=254]"
     ]
    },
    {
     "output_type": "stream",
     "name": "stderr",
     "text": [
      "\r\n",
      "  2%|▏         | 191/10000 [00:41<44:40,  3.66it/s, episode_reward=254, running_reward=255]"
     ]
    },
    {
     "output_type": "stream",
     "name": "stderr",
     "text": [
      "\r\n",
      "  2%|▏         | 192/10000 [00:41<47:12,  3.46it/s, episode_reward=254, running_reward=255]"
     ]
    },
    {
     "output_type": "stream",
     "name": "stderr",
     "text": [
      "\r\n",
      "  2%|▏         | 192/10000 [00:41<47:12,  3.46it/s, episode_reward=223, running_reward=254]"
     ]
    },
    {
     "output_type": "stream",
     "name": "stderr",
     "text": [
      "\r\n",
      "  2%|▏         | 193/10000 [00:41<46:26,  3.52it/s, episode_reward=223, running_reward=254]"
     ]
    },
    {
     "output_type": "stream",
     "name": "stderr",
     "text": [
      "\r\n",
      "  2%|▏         | 193/10000 [00:42<46:26,  3.52it/s, episode_reward=290, running_reward=253]"
     ]
    },
    {
     "output_type": "stream",
     "name": "stderr",
     "text": [
      "\r\n",
      "  2%|▏         | 194/10000 [00:42<50:05,  3.26it/s, episode_reward=290, running_reward=253]"
     ]
    },
    {
     "output_type": "stream",
     "name": "stderr",
     "text": [
      "\r\n",
      "  2%|▏         | 194/10000 [00:42<50:05,  3.26it/s, episode_reward=245, running_reward=253]"
     ]
    },
    {
     "output_type": "stream",
     "name": "stderr",
     "text": [
      "\r\n",
      "  2%|▏         | 195/10000 [00:42<49:41,  3.29it/s, episode_reward=245, running_reward=253]"
     ]
    },
    {
     "output_type": "stream",
     "name": "stderr",
     "text": [
      "\r\n",
      "  2%|▏         | 195/10000 [00:42<49:41,  3.29it/s, episode_reward=334, running_reward=253]"
     ]
    },
    {
     "output_type": "stream",
     "name": "stderr",
     "text": [
      "\r\n",
      "  2%|▏         | 196/10000 [00:42<56:17,  2.90it/s, episode_reward=334, running_reward=253]"
     ]
    },
    {
     "output_type": "stream",
     "name": "stderr",
     "text": [
      "\r\n",
      "  2%|▏         | 196/10000 [00:43<56:17,  2.90it/s, episode_reward=358, running_reward=252]"
     ]
    },
    {
     "output_type": "stream",
     "name": "stderr",
     "text": [
      "\r\n",
      "  2%|▏         | 197/10000 [00:43<1:00:46,  2.69it/s, episode_reward=358, running_reward=252]"
     ]
    },
    {
     "output_type": "stream",
     "name": "stderr",
     "text": [
      "\r\n",
      "  2%|▏         | 197/10000 [00:43<1:00:46,  2.69it/s, episode_reward=382, running_reward=255]"
     ]
    },
    {
     "output_type": "stream",
     "name": "stderr",
     "text": [
      "\r\n",
      "  2%|▏         | 198/10000 [00:43<1:03:21,  2.58it/s, episode_reward=382, running_reward=255]"
     ]
    },
    {
     "output_type": "stream",
     "name": "stderr",
     "text": [
      "\r\n",
      "  2%|▏         | 198/10000 [00:44<1:03:21,  2.58it/s, episode_reward=306, running_reward=253]"
     ]
    },
    {
     "output_type": "stream",
     "name": "stderr",
     "text": [
      "\r\n",
      "  2%|▏         | 199/10000 [00:44<1:01:09,  2.67it/s, episode_reward=306, running_reward=253]"
     ]
    },
    {
     "output_type": "stream",
     "name": "stderr",
     "text": [
      "\r\n",
      "  2%|▏         | 199/10000 [00:44<1:01:09,  2.67it/s, episode_reward=385, running_reward=253]"
     ]
    },
    {
     "output_type": "stream",
     "name": "stderr",
     "text": [
      "\r\n",
      "  2%|▏         | 200/10000 [00:44<1:04:46,  2.52it/s, episode_reward=385, running_reward=253]"
     ]
    },
    {
     "output_type": "stream",
     "name": "stderr",
     "text": [
      "\r\n",
      "  2%|▏         | 200/10000 [00:45<1:04:46,  2.52it/s, episode_reward=500, running_reward=256]"
     ]
    },
    {
     "output_type": "stream",
     "name": "stderr",
     "text": [
      "\r\n",
      "  2%|▏         | 201/10000 [00:45<1:12:44,  2.25it/s, episode_reward=500, running_reward=256]"
     ]
    },
    {
     "output_type": "stream",
     "name": "stderr",
     "text": [
      "\r\n",
      "  2%|▏         | 201/10000 [00:45<1:12:44,  2.25it/s, episode_reward=500, running_reward=260]"
     ]
    },
    {
     "output_type": "stream",
     "name": "stderr",
     "text": [
      "\r\n",
      "  2%|▏         | 202/10000 [00:45<1:18:52,  2.07it/s, episode_reward=500, running_reward=260]"
     ]
    },
    {
     "output_type": "stream",
     "name": "stderr",
     "text": [
      "\r\n",
      "  2%|▏         | 202/10000 [00:46<1:18:52,  2.07it/s, episode_reward=500, running_reward=261]"
     ]
    },
    {
     "output_type": "stream",
     "name": "stderr",
     "text": [
      "\r\n",
      "  2%|▏         | 203/10000 [00:46<1:24:40,  1.93it/s, episode_reward=500, running_reward=261]"
     ]
    },
    {
     "output_type": "stream",
     "name": "stderr",
     "text": [
      "\r\n",
      "  2%|▏         | 203/10000 [00:46<1:24:40,  1.93it/s, episode_reward=500, running_reward=264]"
     ]
    },
    {
     "output_type": "stream",
     "name": "stderr",
     "text": [
      "\r\n",
      "  2%|▏         | 204/10000 [00:46<1:28:54,  1.84it/s, episode_reward=500, running_reward=264]"
     ]
    },
    {
     "output_type": "stream",
     "name": "stderr",
     "text": [
      "\r\n",
      "  2%|▏         | 204/10000 [00:47<1:28:54,  1.84it/s, episode_reward=500, running_reward=266]"
     ]
    },
    {
     "output_type": "stream",
     "name": "stderr",
     "text": [
      "\r\n",
      "  2%|▏         | 205/10000 [00:47<1:29:21,  1.83it/s, episode_reward=500, running_reward=266]"
     ]
    },
    {
     "output_type": "stream",
     "name": "stderr",
     "text": [
      "\r\n",
      "  2%|▏         | 205/10000 [00:47<1:29:21,  1.83it/s, episode_reward=500, running_reward=266]"
     ]
    },
    {
     "output_type": "stream",
     "name": "stderr",
     "text": [
      "\r\n",
      "  2%|▏         | 206/10000 [00:47<1:31:22,  1.79it/s, episode_reward=500, running_reward=266]"
     ]
    },
    {
     "output_type": "stream",
     "name": "stderr",
     "text": [
      "\r\n",
      "  2%|▏         | 206/10000 [00:48<1:31:22,  1.79it/s, episode_reward=500, running_reward=270]"
     ]
    },
    {
     "output_type": "stream",
     "name": "stderr",
     "text": [
      "\r\n",
      "  2%|▏         | 207/10000 [00:48<1:33:22,  1.75it/s, episode_reward=500, running_reward=270]"
     ]
    },
    {
     "output_type": "stream",
     "name": "stderr",
     "text": [
      "\r\n",
      "  2%|▏         | 207/10000 [00:49<1:33:22,  1.75it/s, episode_reward=500, running_reward=273]"
     ]
    },
    {
     "output_type": "stream",
     "name": "stderr",
     "text": [
      "\r\n",
      "  2%|▏         | 208/10000 [00:49<1:34:46,  1.72it/s, episode_reward=500, running_reward=273]"
     ]
    },
    {
     "output_type": "stream",
     "name": "stderr",
     "text": [
      "\r\n",
      "  2%|▏         | 208/10000 [00:49<1:34:46,  1.72it/s, episode_reward=500, running_reward=275]"
     ]
    },
    {
     "output_type": "stream",
     "name": "stderr",
     "text": [
      "\r\n",
      "  2%|▏         | 209/10000 [00:49<1:35:33,  1.71it/s, episode_reward=500, running_reward=275]"
     ]
    },
    {
     "output_type": "stream",
     "name": "stderr",
     "text": [
      "\r\n",
      "  2%|▏         | 209/10000 [00:50<1:35:33,  1.71it/s, episode_reward=500, running_reward=279]"
     ]
    },
    {
     "output_type": "stream",
     "name": "stderr",
     "text": [
      "\r\n",
      "  2%|▏         | 210/10000 [00:50<1:35:51,  1.70it/s, episode_reward=500, running_reward=279]"
     ]
    },
    {
     "output_type": "stream",
     "name": "stderr",
     "text": [
      "\r\n",
      "  2%|▏         | 210/10000 [00:50<1:35:51,  1.70it/s, episode_reward=500, running_reward=279]"
     ]
    },
    {
     "output_type": "stream",
     "name": "stderr",
     "text": [
      "\r\n",
      "  2%|▏         | 211/10000 [00:50<1:36:23,  1.69it/s, episode_reward=500, running_reward=279]"
     ]
    },
    {
     "output_type": "stream",
     "name": "stderr",
     "text": [
      "\r\n",
      "  2%|▏         | 211/10000 [00:51<1:36:23,  1.69it/s, episode_reward=500, running_reward=283]"
     ]
    },
    {
     "output_type": "stream",
     "name": "stderr",
     "text": [
      "\r\n",
      "  2%|▏         | 212/10000 [00:51<1:35:31,  1.71it/s, episode_reward=500, running_reward=283]"
     ]
    },
    {
     "output_type": "stream",
     "name": "stderr",
     "text": [
      "\r\n",
      "  2%|▏         | 212/10000 [00:52<1:35:31,  1.71it/s, episode_reward=500, running_reward=283]"
     ]
    },
    {
     "output_type": "stream",
     "name": "stderr",
     "text": [
      "\r\n",
      "  2%|▏         | 213/10000 [00:52<1:35:16,  1.71it/s, episode_reward=500, running_reward=283]"
     ]
    },
    {
     "output_type": "stream",
     "name": "stderr",
     "text": [
      "\r\n",
      "  2%|▏         | 213/10000 [00:52<1:35:16,  1.71it/s, episode_reward=500, running_reward=285]"
     ]
    },
    {
     "output_type": "stream",
     "name": "stderr",
     "text": [
      "\r\n",
      "  2%|▏         | 214/10000 [00:52<1:34:11,  1.73it/s, episode_reward=500, running_reward=285]"
     ]
    },
    {
     "output_type": "stream",
     "name": "stderr",
     "text": [
      "\r\n",
      "  2%|▏         | 214/10000 [00:53<1:34:11,  1.73it/s, episode_reward=500, running_reward=286]"
     ]
    },
    {
     "output_type": "stream",
     "name": "stderr",
     "text": [
      "\r\n",
      "  2%|▏         | 215/10000 [00:53<1:32:30,  1.76it/s, episode_reward=500, running_reward=286]"
     ]
    },
    {
     "output_type": "stream",
     "name": "stderr",
     "text": [
      "\r\n",
      "  2%|▏         | 215/10000 [00:53<1:32:30,  1.76it/s, episode_reward=236, running_reward=284]"
     ]
    },
    {
     "output_type": "stream",
     "name": "stderr",
     "text": [
      "\r\n",
      "  2%|▏         | 216/10000 [00:53<1:17:38,  2.10it/s, episode_reward=236, running_reward=284]"
     ]
    },
    {
     "output_type": "stream",
     "name": "stderr",
     "text": [
      "\r\n",
      "  2%|▏         | 216/10000 [00:53<1:17:38,  2.10it/s, episode_reward=257, running_reward=285]"
     ]
    },
    {
     "output_type": "stream",
     "name": "stderr",
     "text": [
      "\r\n",
      "  2%|▏         | 217/10000 [00:53<1:09:02,  2.36it/s, episode_reward=257, running_reward=285]"
     ]
    },
    {
     "output_type": "stream",
     "name": "stderr",
     "text": [
      "\r\n",
      "  2%|▏         | 217/10000 [00:54<1:09:02,  2.36it/s, episode_reward=308, running_reward=283]"
     ]
    },
    {
     "output_type": "stream",
     "name": "stderr",
     "text": [
      "\r\n",
      "  2%|▏         | 218/10000 [00:54<1:06:42,  2.44it/s, episode_reward=308, running_reward=283]"
     ]
    },
    {
     "output_type": "stream",
     "name": "stderr",
     "text": [
      "\r\n",
      "  2%|▏         | 218/10000 [00:54<1:06:42,  2.44it/s, episode_reward=299, running_reward=284]"
     ]
    },
    {
     "output_type": "stream",
     "name": "stderr",
     "text": [
      "\r\n",
      "  2%|▏         | 219/10000 [00:54<1:04:34,  2.52it/s, episode_reward=299, running_reward=284]"
     ]
    },
    {
     "output_type": "stream",
     "name": "stderr",
     "text": [
      "\r\n",
      "  2%|▏         | 219/10000 [00:54<1:04:34,  2.52it/s, episode_reward=320, running_reward=286]"
     ]
    },
    {
     "output_type": "stream",
     "name": "stderr",
     "text": [
      "\r\n",
      "  2%|▏         | 220/10000 [00:54<1:04:19,  2.53it/s, episode_reward=320, running_reward=286]"
     ]
    },
    {
     "output_type": "stream",
     "name": "stderr",
     "text": [
      "\r\n",
      "  2%|▏         | 220/10000 [00:55<1:04:19,  2.53it/s, episode_reward=348, running_reward=287]"
     ]
    },
    {
     "output_type": "stream",
     "name": "stderr",
     "text": [
      "\r\n",
      "  2%|▏         | 221/10000 [00:55<1:04:37,  2.52it/s, episode_reward=348, running_reward=287]"
     ]
    },
    {
     "output_type": "stream",
     "name": "stderr",
     "text": [
      "\r\n",
      "  2%|▏         | 221/10000 [00:55<1:04:37,  2.52it/s, episode_reward=479, running_reward=290]"
     ]
    },
    {
     "output_type": "stream",
     "name": "stderr",
     "text": [
      "\r\n",
      "  2%|▏         | 222/10000 [00:55<1:12:19,  2.25it/s, episode_reward=479, running_reward=290]"
     ]
    },
    {
     "output_type": "stream",
     "name": "stderr",
     "text": [
      "\r\n",
      "  2%|▏         | 222/10000 [00:56<1:12:19,  2.25it/s, episode_reward=500, running_reward=293]"
     ]
    },
    {
     "output_type": "stream",
     "name": "stderr",
     "text": [
      "\r\n",
      "  2%|▏         | 223/10000 [00:56<1:21:30,  2.00it/s, episode_reward=500, running_reward=293]"
     ]
    },
    {
     "output_type": "stream",
     "name": "stderr",
     "text": [
      "\r\n",
      "  2%|▏         | 223/10000 [00:57<1:21:30,  2.00it/s, episode_reward=500, running_reward=296]"
     ]
    },
    {
     "output_type": "stream",
     "name": "stderr",
     "text": [
      "\r\n",
      "  2%|▏         | 224/10000 [00:57<1:28:21,  1.84it/s, episode_reward=500, running_reward=296]"
     ]
    },
    {
     "output_type": "stream",
     "name": "stderr",
     "text": [
      "\r\n",
      "  2%|▏         | 224/10000 [00:57<1:28:21,  1.84it/s, episode_reward=77, running_reward=293] "
     ]
    },
    {
     "output_type": "stream",
     "name": "stderr",
     "text": [
      "\r\n",
      "  2%|▏         | 225/10000 [00:57<1:07:12,  2.42it/s, episode_reward=77, running_reward=293]"
     ]
    },
    {
     "output_type": "stream",
     "name": "stderr",
     "text": [
      "\r\n",
      "  2%|▏         | 225/10000 [00:57<1:07:12,  2.42it/s, episode_reward=499, running_reward=294]"
     ]
    },
    {
     "output_type": "stream",
     "name": "stderr",
     "text": [
      "\r\n",
      "  2%|▏         | 226/10000 [00:57<1:17:31,  2.10it/s, episode_reward=499, running_reward=294]"
     ]
    },
    {
     "output_type": "stream",
     "name": "stderr",
     "text": [
      "\r\n",
      "  2%|▏         | 226/10000 [00:58<1:17:31,  2.10it/s, episode_reward=298, running_reward=292]"
     ]
    },
    {
     "output_type": "stream",
     "name": "stderr",
     "text": [
      "\r\n",
      "  2%|▏         | 227/10000 [00:58<1:11:51,  2.27it/s, episode_reward=298, running_reward=292]"
     ]
    },
    {
     "output_type": "stream",
     "name": "stderr",
     "text": [
      "\r\n",
      "  2%|▏         | 227/10000 [00:58<1:11:51,  2.27it/s, episode_reward=500, running_reward=295]"
     ]
    },
    {
     "output_type": "stream",
     "name": "stderr",
     "text": [
      "\r\n",
      "  2%|▏         | 228/10000 [00:58<1:17:54,  2.09it/s, episode_reward=500, running_reward=295]"
     ]
    },
    {
     "output_type": "stream",
     "name": "stderr",
     "text": [
      "\r\n",
      "  2%|▏         | 228/10000 [00:59<1:17:54,  2.09it/s, episode_reward=500, running_reward=295]"
     ]
    },
    {
     "output_type": "stream",
     "name": "stderr",
     "text": [
      "\r\n",
      "  2%|▏         | 229/10000 [00:59<1:24:03,  1.94it/s, episode_reward=500, running_reward=295]"
     ]
    },
    {
     "output_type": "stream",
     "name": "stderr",
     "text": [
      "\r\n",
      "  2%|▏         | 229/10000 [01:00<1:24:03,  1.94it/s, episode_reward=500, running_reward=295]"
     ]
    },
    {
     "output_type": "stream",
     "name": "stderr",
     "text": [
      "\r\n",
      "  2%|▏         | 230/10000 [01:00<1:29:35,  1.82it/s, episode_reward=500, running_reward=295]"
     ]
    },
    {
     "output_type": "stream",
     "name": "stderr",
     "text": [
      "\r\n",
      "  2%|▏         | 230/10000 [01:00<1:29:35,  1.82it/s, episode_reward=417, running_reward=294]"
     ]
    },
    {
     "output_type": "stream",
     "name": "stderr",
     "text": [
      "\r\n",
      "  2%|▏         | 231/10000 [01:00<1:26:21,  1.89it/s, episode_reward=417, running_reward=294]"
     ]
    },
    {
     "output_type": "stream",
     "name": "stderr",
     "text": [
      "\r\n",
      "  2%|▏         | 231/10000 [01:01<1:26:21,  1.89it/s, episode_reward=500, running_reward=294]"
     ]
    },
    {
     "output_type": "stream",
     "name": "stderr",
     "text": [
      "\r\n",
      "  2%|▏         | 232/10000 [01:01<1:27:31,  1.86it/s, episode_reward=500, running_reward=294]"
     ]
    },
    {
     "output_type": "stream",
     "name": "stderr",
     "text": [
      "\r\n",
      "  2%|▏         | 232/10000 [01:01<1:27:31,  1.86it/s, episode_reward=264, running_reward=291]"
     ]
    },
    {
     "output_type": "stream",
     "name": "stderr",
     "text": [
      "\r\n",
      "  2%|▏         | 233/10000 [01:01<1:16:08,  2.14it/s, episode_reward=264, running_reward=291]"
     ]
    },
    {
     "output_type": "stream",
     "name": "stderr",
     "text": [
      "\r\n",
      "  2%|▏         | 233/10000 [01:01<1:16:08,  2.14it/s, episode_reward=500, running_reward=294]"
     ]
    },
    {
     "output_type": "stream",
     "name": "stderr",
     "text": [
      "\r\n",
      "  2%|▏         | 234/10000 [01:01<1:20:22,  2.02it/s, episode_reward=500, running_reward=294]"
     ]
    },
    {
     "output_type": "stream",
     "name": "stderr",
     "text": [
      "\r\n",
      "  2%|▏         | 234/10000 [01:02<1:20:22,  2.02it/s, episode_reward=342, running_reward=294]"
     ]
    },
    {
     "output_type": "stream",
     "name": "stderr",
     "text": [
      "\r\n",
      "  2%|▏         | 235/10000 [01:02<1:16:03,  2.14it/s, episode_reward=342, running_reward=294]"
     ]
    },
    {
     "output_type": "stream",
     "name": "stderr",
     "text": [
      "\r\n",
      "  2%|▏         | 235/10000 [01:02<1:16:03,  2.14it/s, episode_reward=162, running_reward=294]"
     ]
    },
    {
     "output_type": "stream",
     "name": "stderr",
     "text": [
      "\r\n",
      "  2%|▏         | 236/10000 [01:02<1:03:15,  2.57it/s, episode_reward=162, running_reward=294]"
     ]
    },
    {
     "output_type": "stream",
     "name": "stderr",
     "text": [
      "\r\n",
      "  2%|▏         | 236/10000 [01:03<1:03:15,  2.57it/s, episode_reward=500, running_reward=297]"
     ]
    },
    {
     "output_type": "stream",
     "name": "stderr",
     "text": [
      "\r\n",
      "  2%|▏         | 237/10000 [01:03<1:11:36,  2.27it/s, episode_reward=500, running_reward=297]"
     ]
    },
    {
     "output_type": "stream",
     "name": "stderr",
     "text": [
      "\r\n",
      "  2%|▏         | 237/10000 [01:03<1:11:36,  2.27it/s, episode_reward=500, running_reward=300]"
     ]
    },
    {
     "output_type": "stream",
     "name": "stderr",
     "text": [
      "\r\n",
      "  2%|▏         | 238/10000 [01:03<1:18:56,  2.06it/s, episode_reward=500, running_reward=300]"
     ]
    },
    {
     "output_type": "stream",
     "name": "stderr",
     "text": [
      "\r\n",
      "  2%|▏         | 238/10000 [01:04<1:18:56,  2.06it/s, episode_reward=475, running_reward=303]"
     ]
    },
    {
     "output_type": "stream",
     "name": "stderr",
     "text": [
      "\r\n",
      "  2%|▏         | 239/10000 [01:04<1:21:20,  2.00it/s, episode_reward=475, running_reward=303]"
     ]
    },
    {
     "output_type": "stream",
     "name": "stderr",
     "text": [
      "\r\n",
      "  2%|▏         | 239/10000 [01:04<1:21:20,  2.00it/s, episode_reward=205, running_reward=304]"
     ]
    },
    {
     "output_type": "stream",
     "name": "stderr",
     "text": [
      "\r\n",
      "  2%|▏         | 240/10000 [01:04<1:09:29,  2.34it/s, episode_reward=205, running_reward=304]"
     ]
    },
    {
     "output_type": "stream",
     "name": "stderr",
     "text": [
      "\r\n",
      "  2%|▏         | 240/10000 [01:05<1:09:29,  2.34it/s, episode_reward=500, running_reward=307]"
     ]
    },
    {
     "output_type": "stream",
     "name": "stderr",
     "text": [
      "\r\n",
      "  2%|▏         | 241/10000 [01:05<1:16:02,  2.14it/s, episode_reward=500, running_reward=307]"
     ]
    },
    {
     "output_type": "stream",
     "name": "stderr",
     "text": [
      "\r\n",
      "  2%|▏         | 241/10000 [01:05<1:16:02,  2.14it/s, episode_reward=445, running_reward=310]"
     ]
    },
    {
     "output_type": "stream",
     "name": "stderr",
     "text": [
      "\r\n",
      "  2%|▏         | 242/10000 [01:05<1:17:35,  2.10it/s, episode_reward=445, running_reward=310]"
     ]
    },
    {
     "output_type": "stream",
     "name": "stderr",
     "text": [
      "\r\n",
      "  2%|▏         | 242/10000 [01:06<1:17:35,  2.10it/s, episode_reward=500, running_reward=312]"
     ]
    },
    {
     "output_type": "stream",
     "name": "stderr",
     "text": [
      "\r\n",
      "  2%|▏         | 243/10000 [01:06<1:21:12,  2.00it/s, episode_reward=500, running_reward=312]"
     ]
    },
    {
     "output_type": "stream",
     "name": "stderr",
     "text": [
      "\r\n",
      "  2%|▏         | 243/10000 [01:06<1:21:12,  2.00it/s, episode_reward=500, running_reward=315]"
     ]
    },
    {
     "output_type": "stream",
     "name": "stderr",
     "text": [
      "\r\n",
      "  2%|▏         | 244/10000 [01:06<1:24:04,  1.93it/s, episode_reward=500, running_reward=315]"
     ]
    },
    {
     "output_type": "stream",
     "name": "stderr",
     "text": [
      "\r\n",
      "  2%|▏         | 244/10000 [01:06<1:24:04,  1.93it/s, episode_reward=229, running_reward=314]"
     ]
    },
    {
     "output_type": "stream",
     "name": "stderr",
     "text": [
      "\r\n",
      "  2%|▏         | 245/10000 [01:06<1:12:52,  2.23it/s, episode_reward=229, running_reward=314]"
     ]
    },
    {
     "output_type": "stream",
     "name": "stderr",
     "text": [
      "\r\n",
      "  2%|▏         | 245/10000 [01:07<1:12:52,  2.23it/s, episode_reward=143, running_reward=313]"
     ]
    },
    {
     "output_type": "stream",
     "name": "stderr",
     "text": [
      "\r\n",
      "  2%|▏         | 246/10000 [01:07<59:55,  2.71it/s, episode_reward=143, running_reward=313]  "
     ]
    },
    {
     "output_type": "stream",
     "name": "stderr",
     "text": [
      "\r\n",
      "  2%|▏         | 246/10000 [01:07<59:55,  2.71it/s, episode_reward=500, running_reward=316]"
     ]
    },
    {
     "output_type": "stream",
     "name": "stderr",
     "text": [
      "\r\n",
      "  2%|▏         | 247/10000 [01:07<1:11:46,  2.26it/s, episode_reward=500, running_reward=316]"
     ]
    },
    {
     "output_type": "stream",
     "name": "stderr",
     "text": [
      "\r\n",
      "  2%|▏         | 247/10000 [01:07<1:11:46,  2.26it/s, episode_reward=168, running_reward=314]"
     ]
    },
    {
     "output_type": "stream",
     "name": "stderr",
     "text": [
      "\r\n",
      "  2%|▏         | 248/10000 [01:07<59:41,  2.72it/s, episode_reward=168, running_reward=314]  "
     ]
    },
    {
     "output_type": "stream",
     "name": "stderr",
     "text": [
      "\r\n",
      "  2%|▏         | 248/10000 [01:08<59:41,  2.72it/s, episode_reward=500, running_reward=316]"
     ]
    },
    {
     "output_type": "stream",
     "name": "stderr",
     "text": [
      "\r\n",
      "  2%|▏         | 249/10000 [01:08<1:08:38,  2.37it/s, episode_reward=500, running_reward=316]"
     ]
    },
    {
     "output_type": "stream",
     "name": "stderr",
     "text": [
      "\r\n",
      "  2%|▏         | 249/10000 [01:08<1:08:38,  2.37it/s, episode_reward=416, running_reward=320]"
     ]
    },
    {
     "output_type": "stream",
     "name": "stderr",
     "text": [
      "\r\n",
      "  2%|▎         | 250/10000 [01:08<1:10:41,  2.30it/s, episode_reward=416, running_reward=320]"
     ]
    },
    {
     "output_type": "stream",
     "name": "stderr",
     "text": [
      "\r\n",
      "  2%|▎         | 250/10000 [01:09<1:10:41,  2.30it/s, episode_reward=500, running_reward=322]"
     ]
    },
    {
     "output_type": "stream",
     "name": "stderr",
     "text": [
      "\r\n",
      "  3%|▎         | 251/10000 [01:09<1:16:56,  2.11it/s, episode_reward=500, running_reward=322]"
     ]
    },
    {
     "output_type": "stream",
     "name": "stderr",
     "text": [
      "\r\n",
      "  3%|▎         | 251/10000 [01:10<1:16:56,  2.11it/s, episode_reward=500, running_reward=325]"
     ]
    },
    {
     "output_type": "stream",
     "name": "stderr",
     "text": [
      "\r\n",
      "  3%|▎         | 252/10000 [01:10<1:24:03,  1.93it/s, episode_reward=500, running_reward=325]"
     ]
    },
    {
     "output_type": "stream",
     "name": "stderr",
     "text": [
      "\r\n",
      "  3%|▎         | 252/10000 [01:10<1:24:03,  1.93it/s, episode_reward=500, running_reward=328]"
     ]
    },
    {
     "output_type": "stream",
     "name": "stderr",
     "text": [
      "\r\n",
      "  3%|▎         | 253/10000 [01:10<1:27:56,  1.85it/s, episode_reward=500, running_reward=328]"
     ]
    },
    {
     "output_type": "stream",
     "name": "stderr",
     "text": [
      "\r\n",
      "  3%|▎         | 253/10000 [01:10<1:27:56,  1.85it/s, episode_reward=178, running_reward=327]"
     ]
    },
    {
     "output_type": "stream",
     "name": "stderr",
     "text": [
      "\r\n",
      "  3%|▎         | 254/10000 [01:10<1:12:27,  2.24it/s, episode_reward=178, running_reward=327]"
     ]
    },
    {
     "output_type": "stream",
     "name": "stderr",
     "text": [
      "\r\n",
      "  3%|▎         | 254/10000 [01:11<1:12:27,  2.24it/s, episode_reward=500, running_reward=330]"
     ]
    },
    {
     "output_type": "stream",
     "name": "stderr",
     "text": [
      "\r\n",
      "  3%|▎         | 255/10000 [01:11<1:19:43,  2.04it/s, episode_reward=500, running_reward=330]"
     ]
    },
    {
     "output_type": "stream",
     "name": "stderr",
     "text": [
      "\r\n",
      "  3%|▎         | 255/10000 [01:12<1:19:43,  2.04it/s, episode_reward=500, running_reward=333]"
     ]
    },
    {
     "output_type": "stream",
     "name": "stderr",
     "text": [
      "\r\n",
      "  3%|▎         | 256/10000 [01:12<1:24:22,  1.92it/s, episode_reward=500, running_reward=333]"
     ]
    },
    {
     "output_type": "stream",
     "name": "stderr",
     "text": [
      "\r\n",
      "  3%|▎         | 256/10000 [01:12<1:24:22,  1.92it/s, episode_reward=72, running_reward=332] "
     ]
    },
    {
     "output_type": "stream",
     "name": "stderr",
     "text": [
      "\r\n",
      "  3%|▎         | 257/10000 [01:12<1:04:09,  2.53it/s, episode_reward=72, running_reward=332]"
     ]
    },
    {
     "output_type": "stream",
     "name": "stderr",
     "text": [
      "\r\n",
      "  3%|▎         | 257/10000 [01:12<1:04:09,  2.53it/s, episode_reward=121, running_reward=331]"
     ]
    },
    {
     "output_type": "stream",
     "name": "stderr",
     "text": [
      "\r\n",
      "  3%|▎         | 258/10000 [01:12<52:39,  3.08it/s, episode_reward=121, running_reward=331]  "
     ]
    },
    {
     "output_type": "stream",
     "name": "stderr",
     "text": [
      "\r\n",
      "  3%|▎         | 258/10000 [01:12<52:39,  3.08it/s, episode_reward=500, running_reward=334]"
     ]
    },
    {
     "output_type": "stream",
     "name": "stderr",
     "text": [
      "\r\n",
      "  3%|▎         | 259/10000 [01:12<1:05:20,  2.48it/s, episode_reward=500, running_reward=334]"
     ]
    },
    {
     "output_type": "stream",
     "name": "stderr",
     "text": [
      "\r\n",
      "  3%|▎         | 259/10000 [01:13<1:05:20,  2.48it/s, episode_reward=500, running_reward=337]"
     ]
    },
    {
     "output_type": "stream",
     "name": "stderr",
     "text": [
      "\r\n",
      "  3%|▎         | 260/10000 [01:13<1:11:57,  2.26it/s, episode_reward=500, running_reward=337]"
     ]
    },
    {
     "output_type": "stream",
     "name": "stderr",
     "text": [
      "\r\n",
      "  3%|▎         | 260/10000 [01:13<1:11:57,  2.26it/s, episode_reward=192, running_reward=337]"
     ]
    },
    {
     "output_type": "stream",
     "name": "stderr",
     "text": [
      "\r\n",
      "  3%|▎         | 261/10000 [01:13<1:00:50,  2.67it/s, episode_reward=192, running_reward=337]"
     ]
    },
    {
     "output_type": "stream",
     "name": "stderr",
     "text": [
      "\r\n",
      "  3%|▎         | 261/10000 [01:13<1:00:50,  2.67it/s, episode_reward=64, running_reward=336] "
     ]
    },
    {
     "output_type": "stream",
     "name": "stderr",
     "text": [
      "\r\n",
      "  3%|▎         | 261/10000 [01:14<1:00:50,  2.67it/s, episode_reward=500, running_reward=339]"
     ]
    },
    {
     "output_type": "stream",
     "name": "stderr",
     "text": [
      "\r\n",
      "  3%|▎         | 263/10000 [01:14<57:11,  2.84it/s, episode_reward=500, running_reward=339]  "
     ]
    },
    {
     "output_type": "stream",
     "name": "stderr",
     "text": [
      "\r\n",
      "  3%|▎         | 263/10000 [01:14<57:11,  2.84it/s, episode_reward=500, running_reward=342]"
     ]
    },
    {
     "output_type": "stream",
     "name": "stderr",
     "text": [
      "\r\n",
      "  3%|▎         | 264/10000 [01:14<1:06:20,  2.45it/s, episode_reward=500, running_reward=342]"
     ]
    },
    {
     "output_type": "stream",
     "name": "stderr",
     "text": [
      "\r\n",
      "  3%|▎         | 264/10000 [01:15<1:06:20,  2.45it/s, episode_reward=500, running_reward=345]"
     ]
    },
    {
     "output_type": "stream",
     "name": "stderr",
     "text": [
      "\r\n",
      "  3%|▎         | 265/10000 [01:15<1:12:31,  2.24it/s, episode_reward=500, running_reward=345]"
     ]
    },
    {
     "output_type": "stream",
     "name": "stderr",
     "text": [
      "\r\n",
      "  3%|▎         | 265/10000 [01:16<1:12:31,  2.24it/s, episode_reward=500, running_reward=348]"
     ]
    },
    {
     "output_type": "stream",
     "name": "stderr",
     "text": [
      "\r\n",
      "  3%|▎         | 266/10000 [01:16<1:18:21,  2.07it/s, episode_reward=500, running_reward=348]"
     ]
    },
    {
     "output_type": "stream",
     "name": "stderr",
     "text": [
      "\r\n",
      "  3%|▎         | 266/10000 [01:16<1:18:21,  2.07it/s, episode_reward=500, running_reward=351]"
     ]
    },
    {
     "output_type": "stream",
     "name": "stderr",
     "text": [
      "\r\n",
      "  3%|▎         | 267/10000 [01:16<1:24:17,  1.92it/s, episode_reward=500, running_reward=351]"
     ]
    },
    {
     "output_type": "stream",
     "name": "stderr",
     "text": [
      "\r\n",
      "  3%|▎         | 267/10000 [01:16<1:24:17,  1.92it/s, episode_reward=80, running_reward=350] "
     ]
    },
    {
     "output_type": "stream",
     "name": "stderr",
     "text": [
      "\r\n",
      "  3%|▎         | 268/10000 [01:16<1:05:01,  2.49it/s, episode_reward=80, running_reward=350]"
     ]
    },
    {
     "output_type": "stream",
     "name": "stderr",
     "text": [
      "\r\n",
      "  3%|▎         | 268/10000 [01:17<1:05:01,  2.49it/s, episode_reward=500, running_reward=353]"
     ]
    },
    {
     "output_type": "stream",
     "name": "stderr",
     "text": [
      "\r\n",
      "  3%|▎         | 269/10000 [01:17<1:13:54,  2.19it/s, episode_reward=500, running_reward=353]"
     ]
    },
    {
     "output_type": "stream",
     "name": "stderr",
     "text": [
      "\r\n",
      "  3%|▎         | 269/10000 [01:18<1:13:54,  2.19it/s, episode_reward=500, running_reward=356]"
     ]
    },
    {
     "output_type": "stream",
     "name": "stderr",
     "text": [
      "\r\n",
      "  3%|▎         | 270/10000 [01:18<1:21:08,  2.00it/s, episode_reward=500, running_reward=356]"
     ]
    },
    {
     "output_type": "stream",
     "name": "stderr",
     "text": [
      "\r\n",
      "  3%|▎         | 270/10000 [01:18<1:21:08,  2.00it/s, episode_reward=500, running_reward=359]"
     ]
    },
    {
     "output_type": "stream",
     "name": "stderr",
     "text": [
      "\r\n",
      "  3%|▎         | 271/10000 [01:18<1:25:18,  1.90it/s, episode_reward=500, running_reward=359]"
     ]
    },
    {
     "output_type": "stream",
     "name": "stderr",
     "text": [
      "\r\n",
      "  3%|▎         | 271/10000 [01:19<1:25:18,  1.90it/s, episode_reward=500, running_reward=362]"
     ]
    },
    {
     "output_type": "stream",
     "name": "stderr",
     "text": [
      "\r\n",
      "  3%|▎         | 272/10000 [01:19<1:26:18,  1.88it/s, episode_reward=500, running_reward=362]"
     ]
    },
    {
     "output_type": "stream",
     "name": "stderr",
     "text": [
      "\r\n",
      "  3%|▎         | 272/10000 [01:19<1:26:18,  1.88it/s, episode_reward=500, running_reward=365]"
     ]
    },
    {
     "output_type": "stream",
     "name": "stderr",
     "text": [
      "\r\n",
      "  3%|▎         | 273/10000 [01:19<1:28:22,  1.83it/s, episode_reward=500, running_reward=365]"
     ]
    },
    {
     "output_type": "stream",
     "name": "stderr",
     "text": [
      "\r\n",
      "  3%|▎         | 273/10000 [01:20<1:28:22,  1.83it/s, episode_reward=500, running_reward=368]"
     ]
    },
    {
     "output_type": "stream",
     "name": "stderr",
     "text": [
      "\r\n",
      "  3%|▎         | 274/10000 [01:20<1:31:54,  1.76it/s, episode_reward=500, running_reward=368]"
     ]
    },
    {
     "output_type": "stream",
     "name": "stderr",
     "text": [
      "\r\n",
      "  3%|▎         | 274/10000 [01:20<1:31:54,  1.76it/s, episode_reward=500, running_reward=371]"
     ]
    },
    {
     "output_type": "stream",
     "name": "stderr",
     "text": [
      "\r\n",
      "  3%|▎         | 275/10000 [01:20<1:33:37,  1.73it/s, episode_reward=500, running_reward=371]"
     ]
    },
    {
     "output_type": "stream",
     "name": "stderr",
     "text": [
      "\r\n",
      "  3%|▎         | 275/10000 [01:21<1:33:37,  1.73it/s, episode_reward=500, running_reward=374]"
     ]
    },
    {
     "output_type": "stream",
     "name": "stderr",
     "text": [
      "\r\n",
      "  3%|▎         | 276/10000 [01:21<1:35:08,  1.70it/s, episode_reward=500, running_reward=374]"
     ]
    },
    {
     "output_type": "stream",
     "name": "stderr",
     "text": [
      "\r\n",
      "  3%|▎         | 276/10000 [01:22<1:35:08,  1.70it/s, episode_reward=500, running_reward=377]"
     ]
    },
    {
     "output_type": "stream",
     "name": "stderr",
     "text": [
      "\r\n",
      "  3%|▎         | 277/10000 [01:22<1:33:45,  1.73it/s, episode_reward=500, running_reward=377]"
     ]
    },
    {
     "output_type": "stream",
     "name": "stderr",
     "text": [
      "\r\n",
      "  3%|▎         | 277/10000 [01:22<1:33:45,  1.73it/s, episode_reward=500, running_reward=380]"
     ]
    },
    {
     "output_type": "stream",
     "name": "stderr",
     "text": [
      "\r\n",
      "  3%|▎         | 278/10000 [01:22<1:32:02,  1.76it/s, episode_reward=500, running_reward=380]"
     ]
    },
    {
     "output_type": "stream",
     "name": "stderr",
     "text": [
      "\r\n",
      "  3%|▎         | 278/10000 [01:23<1:32:02,  1.76it/s, episode_reward=500, running_reward=383]"
     ]
    },
    {
     "output_type": "stream",
     "name": "stderr",
     "text": [
      "\r\n",
      "  3%|▎         | 279/10000 [01:23<1:31:18,  1.77it/s, episode_reward=500, running_reward=383]"
     ]
    },
    {
     "output_type": "stream",
     "name": "stderr",
     "text": [
      "\r\n",
      "  3%|▎         | 279/10000 [01:23<1:31:18,  1.77it/s, episode_reward=500, running_reward=387]"
     ]
    },
    {
     "output_type": "stream",
     "name": "stderr",
     "text": [
      "\r\n",
      "  3%|▎         | 280/10000 [01:23<1:30:43,  1.79it/s, episode_reward=500, running_reward=387]"
     ]
    },
    {
     "output_type": "stream",
     "name": "stderr",
     "text": [
      "\r\n",
      "  3%|▎         | 280/10000 [01:24<1:30:43,  1.79it/s, episode_reward=500, running_reward=390]"
     ]
    },
    {
     "output_type": "stream",
     "name": "stderr",
     "text": [
      "\r\n",
      "  3%|▎         | 281/10000 [01:24<1:30:55,  1.78it/s, episode_reward=500, running_reward=390]"
     ]
    },
    {
     "output_type": "stream",
     "name": "stderr",
     "text": [
      "\r\n",
      "  3%|▎         | 281/10000 [01:24<1:30:55,  1.78it/s, episode_reward=500, running_reward=393]"
     ]
    },
    {
     "output_type": "stream",
     "name": "stderr",
     "text": [
      "\r\n",
      "  3%|▎         | 282/10000 [01:24<1:30:36,  1.79it/s, episode_reward=500, running_reward=393]"
     ]
    },
    {
     "output_type": "stream",
     "name": "stderr",
     "text": [
      "\r\n",
      "  3%|▎         | 282/10000 [01:25<1:30:36,  1.79it/s, episode_reward=500, running_reward=396]"
     ]
    },
    {
     "output_type": "stream",
     "name": "stderr",
     "text": [
      "\r\n",
      "  3%|▎         | 283/10000 [01:25<1:30:20,  1.79it/s, episode_reward=500, running_reward=396]"
     ]
    },
    {
     "output_type": "stream",
     "name": "stderr",
     "text": [
      "\r\n",
      "  3%|▎         | 283/10000 [01:26<1:30:20,  1.79it/s, episode_reward=500, running_reward=399]"
     ]
    },
    {
     "output_type": "stream",
     "name": "stderr",
     "text": [
      "\r\n",
      "  3%|▎         | 284/10000 [01:26<1:31:17,  1.77it/s, episode_reward=500, running_reward=399]"
     ]
    },
    {
     "output_type": "stream",
     "name": "stderr",
     "text": [
      "\r\n",
      "  3%|▎         | 284/10000 [01:26<1:31:17,  1.77it/s, episode_reward=500, running_reward=402]"
     ]
    },
    {
     "output_type": "stream",
     "name": "stderr",
     "text": [
      "\r\n",
      "  3%|▎         | 285/10000 [01:26<1:30:28,  1.79it/s, episode_reward=500, running_reward=402]"
     ]
    },
    {
     "output_type": "stream",
     "name": "stderr",
     "text": [
      "\r\n",
      "  3%|▎         | 285/10000 [01:27<1:30:28,  1.79it/s, episode_reward=500, running_reward=405]"
     ]
    },
    {
     "output_type": "stream",
     "name": "stderr",
     "text": [
      "\r\n",
      "  3%|▎         | 286/10000 [01:27<1:29:58,  1.80it/s, episode_reward=500, running_reward=405]"
     ]
    },
    {
     "output_type": "stream",
     "name": "stderr",
     "text": [
      "\r\n",
      "  3%|▎         | 286/10000 [01:27<1:29:58,  1.80it/s, episode_reward=500, running_reward=408]"
     ]
    },
    {
     "output_type": "stream",
     "name": "stderr",
     "text": [
      "\r\n",
      "  3%|▎         | 287/10000 [01:27<1:29:06,  1.82it/s, episode_reward=500, running_reward=408]"
     ]
    },
    {
     "output_type": "stream",
     "name": "stderr",
     "text": [
      "\r\n",
      "  3%|▎         | 287/10000 [01:28<1:29:06,  1.82it/s, episode_reward=500, running_reward=411]"
     ]
    },
    {
     "output_type": "stream",
     "name": "stderr",
     "text": [
      "\r\n",
      "  3%|▎         | 288/10000 [01:28<1:28:41,  1.83it/s, episode_reward=500, running_reward=411]"
     ]
    },
    {
     "output_type": "stream",
     "name": "stderr",
     "text": [
      "\r\n",
      "  3%|▎         | 288/10000 [01:28<1:28:41,  1.83it/s, episode_reward=500, running_reward=414]"
     ]
    },
    {
     "output_type": "stream",
     "name": "stderr",
     "text": [
      "\r\n",
      "  3%|▎         | 289/10000 [01:28<1:28:30,  1.83it/s, episode_reward=500, running_reward=414]"
     ]
    },
    {
     "output_type": "stream",
     "name": "stderr",
     "text": [
      "\r\n",
      "  3%|▎         | 289/10000 [01:29<1:28:30,  1.83it/s, episode_reward=500, running_reward=416]"
     ]
    },
    {
     "output_type": "stream",
     "name": "stderr",
     "text": [
      "\r\n",
      "  3%|▎         | 290/10000 [01:29<1:30:37,  1.79it/s, episode_reward=500, running_reward=416]"
     ]
    },
    {
     "output_type": "stream",
     "name": "stderr",
     "text": [
      "\r\n",
      "  3%|▎         | 290/10000 [01:29<1:30:37,  1.79it/s, episode_reward=500, running_reward=419]"
     ]
    },
    {
     "output_type": "stream",
     "name": "stderr",
     "text": [
      "\r\n",
      "  3%|▎         | 291/10000 [01:29<1:30:32,  1.79it/s, episode_reward=500, running_reward=419]"
     ]
    },
    {
     "output_type": "stream",
     "name": "stderr",
     "text": [
      "\r\n",
      "  3%|▎         | 291/10000 [01:30<1:30:32,  1.79it/s, episode_reward=500, running_reward=421]"
     ]
    },
    {
     "output_type": "stream",
     "name": "stderr",
     "text": [
      "\r\n",
      "  3%|▎         | 292/10000 [01:30<1:29:52,  1.80it/s, episode_reward=500, running_reward=421]"
     ]
    },
    {
     "output_type": "stream",
     "name": "stderr",
     "text": [
      "\r\n",
      "  3%|▎         | 292/10000 [01:30<1:29:52,  1.80it/s, episode_reward=500, running_reward=424]"
     ]
    },
    {
     "output_type": "stream",
     "name": "stderr",
     "text": [
      "\r\n",
      "  3%|▎         | 293/10000 [01:30<1:29:20,  1.81it/s, episode_reward=500, running_reward=424]"
     ]
    },
    {
     "output_type": "stream",
     "name": "stderr",
     "text": [
      "\r\n",
      "  3%|▎         | 293/10000 [01:31<1:29:20,  1.81it/s, episode_reward=500, running_reward=426]"
     ]
    },
    {
     "output_type": "stream",
     "name": "stderr",
     "text": [
      "\r\n",
      "  3%|▎         | 294/10000 [01:31<1:29:37,  1.80it/s, episode_reward=500, running_reward=426]"
     ]
    },
    {
     "output_type": "stream",
     "name": "stderr",
     "text": [
      "\r\n",
      "  3%|▎         | 294/10000 [01:32<1:29:37,  1.80it/s, episode_reward=500, running_reward=429]"
     ]
    },
    {
     "output_type": "stream",
     "name": "stderr",
     "text": [
      "\r\n",
      "  3%|▎         | 295/10000 [01:32<1:28:52,  1.82it/s, episode_reward=500, running_reward=429]"
     ]
    },
    {
     "output_type": "stream",
     "name": "stderr",
     "text": [
      "\r\n",
      "  3%|▎         | 295/10000 [01:32<1:28:52,  1.82it/s, episode_reward=500, running_reward=430]"
     ]
    },
    {
     "output_type": "stream",
     "name": "stderr",
     "text": [
      "\r\n",
      "  3%|▎         | 296/10000 [01:32<1:28:54,  1.82it/s, episode_reward=500, running_reward=430]"
     ]
    },
    {
     "output_type": "stream",
     "name": "stderr",
     "text": [
      "\r\n",
      "  3%|▎         | 296/10000 [01:33<1:28:54,  1.82it/s, episode_reward=500, running_reward=432]"
     ]
    },
    {
     "output_type": "stream",
     "name": "stderr",
     "text": [
      "\r\n",
      "  3%|▎         | 297/10000 [01:33<1:28:37,  1.82it/s, episode_reward=500, running_reward=432]"
     ]
    },
    {
     "output_type": "stream",
     "name": "stderr",
     "text": [
      "\r\n",
      "  3%|▎         | 297/10000 [01:33<1:28:37,  1.82it/s, episode_reward=500, running_reward=433]"
     ]
    },
    {
     "output_type": "stream",
     "name": "stderr",
     "text": [
      "\r\n",
      "  3%|▎         | 298/10000 [01:33<1:28:19,  1.83it/s, episode_reward=500, running_reward=433]"
     ]
    },
    {
     "output_type": "stream",
     "name": "stderr",
     "text": [
      "\r\n",
      "  3%|▎         | 298/10000 [01:34<1:28:19,  1.83it/s, episode_reward=500, running_reward=435]"
     ]
    },
    {
     "output_type": "stream",
     "name": "stderr",
     "text": [
      "\r\n",
      "  3%|▎         | 299/10000 [01:34<1:28:12,  1.83it/s, episode_reward=500, running_reward=435]"
     ]
    },
    {
     "output_type": "stream",
     "name": "stderr",
     "text": [
      "\r\n",
      "  3%|▎         | 299/10000 [01:34<1:28:12,  1.83it/s, episode_reward=260, running_reward=434]"
     ]
    },
    {
     "output_type": "stream",
     "name": "stderr",
     "text": [
      "\r\n",
      "  3%|▎         | 300/10000 [01:34<1:16:36,  2.11it/s, episode_reward=260, running_reward=434]"
     ]
    },
    {
     "output_type": "stream",
     "name": "stderr",
     "text": [
      "\r\n",
      "  3%|▎         | 300/10000 [01:35<1:16:36,  2.11it/s, episode_reward=500, running_reward=434]"
     ]
    },
    {
     "output_type": "stream",
     "name": "stderr",
     "text": [
      "\r\n",
      "  3%|▎         | 301/10000 [01:35<1:21:08,  1.99it/s, episode_reward=500, running_reward=434]"
     ]
    },
    {
     "output_type": "stream",
     "name": "stderr",
     "text": [
      "\r\n",
      "  3%|▎         | 301/10000 [01:35<1:21:08,  1.99it/s, episode_reward=300, running_reward=432]"
     ]
    },
    {
     "output_type": "stream",
     "name": "stderr",
     "text": [
      "\r\n",
      "  3%|▎         | 302/10000 [01:35<1:12:56,  2.22it/s, episode_reward=300, running_reward=432]"
     ]
    },
    {
     "output_type": "stream",
     "name": "stderr",
     "text": [
      "\r\n",
      "  3%|▎         | 302/10000 [01:36<1:12:56,  2.22it/s, episode_reward=500, running_reward=432]"
     ]
    },
    {
     "output_type": "stream",
     "name": "stderr",
     "text": [
      "\r\n",
      "  3%|▎         | 303/10000 [01:36<1:19:01,  2.05it/s, episode_reward=500, running_reward=432]"
     ]
    },
    {
     "output_type": "stream",
     "name": "stderr",
     "text": [
      "\r\n",
      "  3%|▎         | 303/10000 [01:36<1:19:01,  2.05it/s, episode_reward=500, running_reward=432]"
     ]
    },
    {
     "output_type": "stream",
     "name": "stderr",
     "text": [
      "\r\n",
      "  3%|▎         | 304/10000 [01:36<1:22:02,  1.97it/s, episode_reward=500, running_reward=432]"
     ]
    },
    {
     "output_type": "stream",
     "name": "stderr",
     "text": [
      "\r\n",
      "  3%|▎         | 304/10000 [01:36<1:22:02,  1.97it/s, episode_reward=270, running_reward=429]"
     ]
    },
    {
     "output_type": "stream",
     "name": "stderr",
     "text": [
      "\r\n",
      "  3%|▎         | 305/10000 [01:36<1:12:16,  2.24it/s, episode_reward=270, running_reward=429]"
     ]
    },
    {
     "output_type": "stream",
     "name": "stderr",
     "text": [
      "\r\n",
      "  3%|▎         | 305/10000 [01:37<1:12:16,  2.24it/s, episode_reward=500, running_reward=429]"
     ]
    },
    {
     "output_type": "stream",
     "name": "stderr",
     "text": [
      "\r\n",
      "  3%|▎         | 306/10000 [01:37<1:18:10,  2.07it/s, episode_reward=500, running_reward=429]"
     ]
    },
    {
     "output_type": "stream",
     "name": "stderr",
     "text": [
      "\r\n",
      "  3%|▎         | 306/10000 [01:38<1:18:10,  2.07it/s, episode_reward=500, running_reward=429]"
     ]
    },
    {
     "output_type": "stream",
     "name": "stderr",
     "text": [
      "\r\n",
      "  3%|▎         | 307/10000 [01:38<1:21:16,  1.99it/s, episode_reward=500, running_reward=429]"
     ]
    },
    {
     "output_type": "stream",
     "name": "stderr",
     "text": [
      "\r\n",
      "  3%|▎         | 307/10000 [01:38<1:21:16,  1.99it/s, episode_reward=471, running_reward=429]"
     ]
    },
    {
     "output_type": "stream",
     "name": "stderr",
     "text": [
      "\r\n",
      "  3%|▎         | 308/10000 [01:38<1:21:50,  1.97it/s, episode_reward=471, running_reward=429]"
     ]
    },
    {
     "output_type": "stream",
     "name": "stderr",
     "text": [
      "\r\n",
      "  3%|▎         | 308/10000 [01:39<1:21:50,  1.97it/s, episode_reward=500, running_reward=429]"
     ]
    },
    {
     "output_type": "stream",
     "name": "stderr",
     "text": [
      "\r\n",
      "  3%|▎         | 309/10000 [01:39<1:23:57,  1.92it/s, episode_reward=500, running_reward=429]"
     ]
    },
    {
     "output_type": "stream",
     "name": "stderr",
     "text": [
      "\r\n",
      "  3%|▎         | 309/10000 [01:39<1:23:57,  1.92it/s, episode_reward=371, running_reward=428]"
     ]
    },
    {
     "output_type": "stream",
     "name": "stderr",
     "text": [
      "\r\n",
      "  3%|▎         | 310/10000 [01:39<1:18:43,  2.05it/s, episode_reward=371, running_reward=428]"
     ]
    },
    {
     "output_type": "stream",
     "name": "stderr",
     "text": [
      "\r\n",
      "  3%|▎         | 310/10000 [01:39<1:18:43,  2.05it/s, episode_reward=444, running_reward=427]"
     ]
    },
    {
     "output_type": "stream",
     "name": "stderr",
     "text": [
      "\r\n",
      "  3%|▎         | 311/10000 [01:39<1:18:36,  2.05it/s, episode_reward=444, running_reward=427]"
     ]
    },
    {
     "output_type": "stream",
     "name": "stderr",
     "text": [
      "\r\n",
      "  3%|▎         | 311/10000 [01:40<1:18:36,  2.05it/s, episode_reward=258, running_reward=425]"
     ]
    },
    {
     "output_type": "stream",
     "name": "stderr",
     "text": [
      "\r\n",
      "  3%|▎         | 312/10000 [01:40<1:08:50,  2.35it/s, episode_reward=258, running_reward=425]"
     ]
    },
    {
     "output_type": "stream",
     "name": "stderr",
     "text": [
      "\r\n",
      "  3%|▎         | 312/10000 [01:40<1:08:50,  2.35it/s, episode_reward=248, running_reward=422]"
     ]
    },
    {
     "output_type": "stream",
     "name": "stderr",
     "text": [
      "\r\n",
      "  3%|▎         | 313/10000 [01:40<1:01:58,  2.60it/s, episode_reward=248, running_reward=422]"
     ]
    },
    {
     "output_type": "stream",
     "name": "stderr",
     "text": [
      "\r\n",
      "  3%|▎         | 313/10000 [01:41<1:01:58,  2.60it/s, episode_reward=500, running_reward=422]"
     ]
    },
    {
     "output_type": "stream",
     "name": "stderr",
     "text": [
      "\r\n",
      "  3%|▎         | 314/10000 [01:41<1:10:35,  2.29it/s, episode_reward=500, running_reward=422]"
     ]
    },
    {
     "output_type": "stream",
     "name": "stderr",
     "text": [
      "\r\n",
      "  3%|▎         | 314/10000 [01:41<1:10:35,  2.29it/s, episode_reward=247, running_reward=420]"
     ]
    },
    {
     "output_type": "stream",
     "name": "stderr",
     "text": [
      "\r\n",
      "  3%|▎         | 315/10000 [01:41<1:03:07,  2.56it/s, episode_reward=247, running_reward=420]"
     ]
    },
    {
     "output_type": "stream",
     "name": "stderr",
     "text": [
      "\r\n",
      "  3%|▎         | 315/10000 [01:41<1:03:07,  2.56it/s, episode_reward=413, running_reward=421]"
     ]
    },
    {
     "output_type": "stream",
     "name": "stderr",
     "text": [
      "\r\n",
      "  3%|▎         | 316/10000 [01:41<1:06:03,  2.44it/s, episode_reward=413, running_reward=421]"
     ]
    },
    {
     "output_type": "stream",
     "name": "stderr",
     "text": [
      "\r\n",
      "  3%|▎         | 316/10000 [01:42<1:06:03,  2.44it/s, episode_reward=365, running_reward=422]"
     ]
    },
    {
     "output_type": "stream",
     "name": "stderr",
     "text": [
      "\r\n",
      "  3%|▎         | 317/10000 [01:42<1:05:31,  2.46it/s, episode_reward=365, running_reward=422]"
     ]
    },
    {
     "output_type": "stream",
     "name": "stderr",
     "text": [
      "\r\n",
      "  3%|▎         | 317/10000 [01:42<1:05:31,  2.46it/s, episode_reward=258, running_reward=422]"
     ]
    },
    {
     "output_type": "stream",
     "name": "stderr",
     "text": [
      "\r\n",
      "  3%|▎         | 318/10000 [01:42<59:53,  2.69it/s, episode_reward=258, running_reward=422]  "
     ]
    },
    {
     "output_type": "stream",
     "name": "stderr",
     "text": [
      "\r\n",
      "  3%|▎         | 318/10000 [01:42<59:53,  2.69it/s, episode_reward=261, running_reward=422]"
     ]
    },
    {
     "output_type": "stream",
     "name": "stderr",
     "text": [
      "\r\n",
      "  3%|▎         | 319/10000 [01:42<55:57,  2.88it/s, episode_reward=261, running_reward=422]"
     ]
    },
    {
     "output_type": "stream",
     "name": "stderr",
     "text": [
      "\r\n",
      "  3%|▎         | 319/10000 [01:43<55:57,  2.88it/s, episode_reward=451, running_reward=423]"
     ]
    },
    {
     "output_type": "stream",
     "name": "stderr",
     "text": [
      "\r\n",
      "  3%|▎         | 320/10000 [01:43<1:03:33,  2.54it/s, episode_reward=451, running_reward=423]"
     ]
    },
    {
     "output_type": "stream",
     "name": "stderr",
     "text": [
      "\r\n",
      "  3%|▎         | 320/10000 [01:43<1:03:33,  2.54it/s, episode_reward=365, running_reward=423]"
     ]
    },
    {
     "output_type": "stream",
     "name": "stderr",
     "text": [
      "\r\n",
      "  3%|▎         | 321/10000 [01:43<1:03:55,  2.52it/s, episode_reward=365, running_reward=423]"
     ]
    },
    {
     "output_type": "stream",
     "name": "stderr",
     "text": [
      "\r\n",
      "  3%|▎         | 321/10000 [01:44<1:03:55,  2.52it/s, episode_reward=295, running_reward=421]"
     ]
    },
    {
     "output_type": "stream",
     "name": "stderr",
     "text": [
      "\r\n",
      "  3%|▎         | 322/10000 [01:44<1:00:39,  2.66it/s, episode_reward=295, running_reward=421]"
     ]
    },
    {
     "output_type": "stream",
     "name": "stderr",
     "text": [
      "\r\n",
      "  3%|▎         | 322/10000 [01:44<1:00:39,  2.66it/s, episode_reward=329, running_reward=420]"
     ]
    },
    {
     "output_type": "stream",
     "name": "stderr",
     "text": [
      "\r\n",
      "  3%|▎         | 323/10000 [01:44<1:00:11,  2.68it/s, episode_reward=329, running_reward=420]"
     ]
    },
    {
     "output_type": "stream",
     "name": "stderr",
     "text": [
      "\r\n",
      "  3%|▎         | 323/10000 [01:44<1:00:11,  2.68it/s, episode_reward=334, running_reward=418]"
     ]
    },
    {
     "output_type": "stream",
     "name": "stderr",
     "text": [
      "\r\n",
      "  3%|▎         | 324/10000 [01:44<59:54,  2.69it/s, episode_reward=334, running_reward=418]  "
     ]
    },
    {
     "output_type": "stream",
     "name": "stderr",
     "text": [
      "\r\n",
      "  3%|▎         | 324/10000 [01:44<59:54,  2.69it/s, episode_reward=165, running_reward=419]"
     ]
    },
    {
     "output_type": "stream",
     "name": "stderr",
     "text": [
      "\r\n",
      "  3%|▎         | 325/10000 [01:44<51:07,  3.15it/s, episode_reward=165, running_reward=419]"
     ]
    },
    {
     "output_type": "stream",
     "name": "stderr",
     "text": [
      "\r\n",
      "  3%|▎         | 325/10000 [01:45<51:07,  3.15it/s, episode_reward=126, running_reward=415]"
     ]
    },
    {
     "output_type": "stream",
     "name": "stderr",
     "text": [
      "\r\n",
      "  3%|▎         | 326/10000 [01:45<42:53,  3.76it/s, episode_reward=126, running_reward=415]"
     ]
    },
    {
     "output_type": "stream",
     "name": "stderr",
     "text": [
      "\r\n",
      "  3%|▎         | 326/10000 [01:45<42:53,  3.76it/s, episode_reward=153, running_reward=414]"
     ]
    },
    {
     "output_type": "stream",
     "name": "stderr",
     "text": [
      "\r\n",
      "  3%|▎         | 327/10000 [01:45<38:23,  4.20it/s, episode_reward=153, running_reward=414]"
     ]
    },
    {
     "output_type": "stream",
     "name": "stderr",
     "text": [
      "\r\n",
      "  3%|▎         | 327/10000 [01:45<38:23,  4.20it/s, episode_reward=144, running_reward=410]"
     ]
    },
    {
     "output_type": "stream",
     "name": "stderr",
     "text": [
      "\r\n",
      "  3%|▎         | 328/10000 [01:45<34:53,  4.62it/s, episode_reward=144, running_reward=410]"
     ]
    },
    {
     "output_type": "stream",
     "name": "stderr",
     "text": [
      "\r\n",
      "  3%|▎         | 328/10000 [01:45<34:53,  4.62it/s, episode_reward=140, running_reward=406]"
     ]
    },
    {
     "output_type": "stream",
     "name": "stderr",
     "text": [
      "\r\n",
      "  3%|▎         | 329/10000 [01:45<32:21,  4.98it/s, episode_reward=140, running_reward=406]"
     ]
    },
    {
     "output_type": "stream",
     "name": "stderr",
     "text": [
      "\r\n",
      "  3%|▎         | 329/10000 [01:45<32:21,  4.98it/s, episode_reward=135, running_reward=403]"
     ]
    },
    {
     "output_type": "stream",
     "name": "stderr",
     "text": [
      "\r\n",
      "  3%|▎         | 330/10000 [01:45<30:07,  5.35it/s, episode_reward=135, running_reward=403]"
     ]
    },
    {
     "output_type": "stream",
     "name": "stderr",
     "text": [
      "\r\n",
      "  3%|▎         | 330/10000 [01:45<30:07,  5.35it/s, episode_reward=120, running_reward=400]"
     ]
    },
    {
     "output_type": "stream",
     "name": "stderr",
     "text": [
      "\r\n",
      "  3%|▎         | 331/10000 [01:45<27:55,  5.77it/s, episode_reward=120, running_reward=400]"
     ]
    },
    {
     "output_type": "stream",
     "name": "stderr",
     "text": [
      "\r\n",
      "  3%|▎         | 331/10000 [01:46<27:55,  5.77it/s, episode_reward=128, running_reward=396]"
     ]
    },
    {
     "output_type": "stream",
     "name": "stderr",
     "text": [
      "\r\n",
      "  3%|▎         | 332/10000 [01:46<26:43,  6.03it/s, episode_reward=128, running_reward=396]"
     ]
    },
    {
     "output_type": "stream",
     "name": "stderr",
     "text": [
      "\r\n",
      "  3%|▎         | 332/10000 [01:46<26:43,  6.03it/s, episode_reward=142, running_reward=395]"
     ]
    },
    {
     "output_type": "stream",
     "name": "stderr",
     "text": [
      "\r\n",
      "  3%|▎         | 333/10000 [01:46<26:30,  6.08it/s, episode_reward=142, running_reward=395]"
     ]
    },
    {
     "output_type": "stream",
     "name": "stderr",
     "text": [
      "\r\n",
      "  3%|▎         | 333/10000 [01:46<26:30,  6.08it/s, episode_reward=125, running_reward=391]"
     ]
    },
    {
     "output_type": "stream",
     "name": "stderr",
     "text": [
      "\r\n",
      "  3%|▎         | 334/10000 [01:46<25:43,  6.26it/s, episode_reward=125, running_reward=391]"
     ]
    },
    {
     "output_type": "stream",
     "name": "stderr",
     "text": [
      "\r\n",
      "  3%|▎         | 334/10000 [01:46<25:43,  6.26it/s, episode_reward=133, running_reward=389]"
     ]
    },
    {
     "output_type": "stream",
     "name": "stderr",
     "text": [
      "\r\n",
      "  3%|▎         | 335/10000 [01:46<25:30,  6.31it/s, episode_reward=133, running_reward=389]"
     ]
    },
    {
     "output_type": "stream",
     "name": "stderr",
     "text": [
      "\r\n",
      "  3%|▎         | 335/10000 [01:46<25:30,  6.31it/s, episode_reward=114, running_reward=389]"
     ]
    },
    {
     "output_type": "stream",
     "name": "stderr",
     "text": [
      "\r\n",
      "  3%|▎         | 336/10000 [01:46<24:22,  6.61it/s, episode_reward=114, running_reward=389]"
     ]
    },
    {
     "output_type": "stream",
     "name": "stderr",
     "text": [
      "\r\n",
      "  3%|▎         | 336/10000 [01:46<24:22,  6.61it/s, episode_reward=137, running_reward=385]"
     ]
    },
    {
     "output_type": "stream",
     "name": "stderr",
     "text": [
      "\r\n",
      "  3%|▎         | 337/10000 [01:46<24:43,  6.51it/s, episode_reward=137, running_reward=385]"
     ]
    },
    {
     "output_type": "stream",
     "name": "stderr",
     "text": [
      "\r\n",
      "  3%|▎         | 337/10000 [01:46<24:43,  6.51it/s, episode_reward=133, running_reward=381]"
     ]
    },
    {
     "output_type": "stream",
     "name": "stderr",
     "text": [
      "\r\n",
      "  3%|▎         | 338/10000 [01:46<24:52,  6.47it/s, episode_reward=133, running_reward=381]"
     ]
    },
    {
     "output_type": "stream",
     "name": "stderr",
     "text": [
      "\r\n",
      "  3%|▎         | 338/10000 [01:47<24:52,  6.47it/s, episode_reward=143, running_reward=378]"
     ]
    },
    {
     "output_type": "stream",
     "name": "stderr",
     "text": [
      "\r\n",
      "  3%|▎         | 339/10000 [01:47<25:14,  6.38it/s, episode_reward=143, running_reward=378]"
     ]
    },
    {
     "output_type": "stream",
     "name": "stderr",
     "text": [
      "\r\n",
      "  3%|▎         | 339/10000 [01:47<25:14,  6.38it/s, episode_reward=123, running_reward=377]"
     ]
    },
    {
     "output_type": "stream",
     "name": "stderr",
     "text": [
      "\r\n",
      "  3%|▎         | 340/10000 [01:47<24:25,  6.59it/s, episode_reward=123, running_reward=377]"
     ]
    },
    {
     "output_type": "stream",
     "name": "stderr",
     "text": [
      "\r\n",
      "  3%|▎         | 340/10000 [01:47<24:25,  6.59it/s, episode_reward=96, running_reward=373] "
     ]
    },
    {
     "output_type": "stream",
     "name": "stderr",
     "text": [
      "\r\n",
      "  3%|▎         | 341/10000 [01:47<22:36,  7.12it/s, episode_reward=96, running_reward=373]"
     ]
    },
    {
     "output_type": "stream",
     "name": "stderr",
     "text": [
      "\r\n",
      "  3%|▎         | 341/10000 [01:47<22:36,  7.12it/s, episode_reward=108, running_reward=370]"
     ]
    },
    {
     "output_type": "stream",
     "name": "stderr",
     "text": [
      "\r\n",
      "  3%|▎         | 342/10000 [01:47<21:50,  7.37it/s, episode_reward=108, running_reward=370]"
     ]
    },
    {
     "output_type": "stream",
     "name": "stderr",
     "text": [
      "\r\n",
      "  3%|▎         | 342/10000 [01:47<21:50,  7.37it/s, episode_reward=110, running_reward=366]"
     ]
    },
    {
     "output_type": "stream",
     "name": "stderr",
     "text": [
      "\r\n",
      "  3%|▎         | 343/10000 [01:47<21:24,  7.52it/s, episode_reward=110, running_reward=366]"
     ]
    },
    {
     "output_type": "stream",
     "name": "stderr",
     "text": [
      "\r\n",
      "  3%|▎         | 343/10000 [01:47<21:24,  7.52it/s, episode_reward=75, running_reward=362] "
     ]
    },
    {
     "output_type": "stream",
     "name": "stderr",
     "text": [
      "\r\n",
      "  3%|▎         | 343/10000 [01:47<21:24,  7.52it/s, episode_reward=126, running_reward=360]"
     ]
    },
    {
     "output_type": "stream",
     "name": "stderr",
     "text": [
      "\r\n",
      "  3%|▎         | 345/10000 [01:47<20:30,  7.85it/s, episode_reward=126, running_reward=360]"
     ]
    },
    {
     "output_type": "stream",
     "name": "stderr",
     "text": [
      "\r\n",
      "  3%|▎         | 345/10000 [01:48<20:30,  7.85it/s, episode_reward=112, running_reward=360]"
     ]
    },
    {
     "output_type": "stream",
     "name": "stderr",
     "text": [
      "\r\n",
      "  3%|▎         | 346/10000 [01:48<20:41,  7.78it/s, episode_reward=112, running_reward=360]"
     ]
    },
    {
     "output_type": "stream",
     "name": "stderr",
     "text": [
      "\r\n",
      "  3%|▎         | 346/10000 [01:48<20:41,  7.78it/s, episode_reward=117, running_reward=356]"
     ]
    },
    {
     "output_type": "stream",
     "name": "stderr",
     "text": [
      "\r\n",
      "  3%|▎         | 347/10000 [01:48<20:51,  7.71it/s, episode_reward=117, running_reward=356]"
     ]
    },
    {
     "output_type": "stream",
     "name": "stderr",
     "text": [
      "\r\n",
      "  3%|▎         | 347/10000 [01:48<20:51,  7.71it/s, episode_reward=129, running_reward=356]"
     ]
    },
    {
     "output_type": "stream",
     "name": "stderr",
     "text": [
      "\r\n",
      "  3%|▎         | 348/10000 [01:48<21:40,  7.42it/s, episode_reward=129, running_reward=356]"
     ]
    },
    {
     "output_type": "stream",
     "name": "stderr",
     "text": [
      "\r\n",
      "  3%|▎         | 348/10000 [01:48<21:40,  7.42it/s, episode_reward=110, running_reward=352]"
     ]
    },
    {
     "output_type": "stream",
     "name": "stderr",
     "text": [
      "\r\n",
      "  3%|▎         | 349/10000 [01:48<21:23,  7.52it/s, episode_reward=110, running_reward=352]"
     ]
    },
    {
     "output_type": "stream",
     "name": "stderr",
     "text": [
      "\r\n",
      "  3%|▎         | 349/10000 [01:48<21:23,  7.52it/s, episode_reward=129, running_reward=349]"
     ]
    },
    {
     "output_type": "stream",
     "name": "stderr",
     "text": [
      "\r\n",
      "  4%|▎         | 350/10000 [01:48<22:11,  7.24it/s, episode_reward=129, running_reward=349]"
     ]
    },
    {
     "output_type": "stream",
     "name": "stderr",
     "text": [
      "\r\n",
      "  4%|▎         | 350/10000 [01:48<22:11,  7.24it/s, episode_reward=118, running_reward=345]"
     ]
    },
    {
     "output_type": "stream",
     "name": "stderr",
     "text": [
      "\r\n",
      "  4%|▎         | 351/10000 [01:48<22:20,  7.20it/s, episode_reward=118, running_reward=345]"
     ]
    },
    {
     "output_type": "stream",
     "name": "stderr",
     "text": [
      "\r\n",
      "  4%|▎         | 351/10000 [01:48<22:20,  7.20it/s, episode_reward=130, running_reward=342]"
     ]
    },
    {
     "output_type": "stream",
     "name": "stderr",
     "text": [
      "\r\n",
      "  4%|▎         | 352/10000 [01:48<22:59,  6.99it/s, episode_reward=130, running_reward=342]"
     ]
    },
    {
     "output_type": "stream",
     "name": "stderr",
     "text": [
      "\r\n",
      "  4%|▎         | 352/10000 [01:48<22:59,  6.99it/s, episode_reward=99, running_reward=338] "
     ]
    },
    {
     "output_type": "stream",
     "name": "stderr",
     "text": [
      "\r\n",
      "  4%|▎         | 353/10000 [01:48<21:50,  7.36it/s, episode_reward=99, running_reward=338]"
     ]
    },
    {
     "output_type": "stream",
     "name": "stderr",
     "text": [
      "\r\n",
      "  4%|▎         | 353/10000 [01:49<21:50,  7.36it/s, episode_reward=104, running_reward=337]"
     ]
    },
    {
     "output_type": "stream",
     "name": "stderr",
     "text": [
      "\r\n",
      "  4%|▎         | 354/10000 [01:49<21:10,  7.59it/s, episode_reward=104, running_reward=337]"
     ]
    },
    {
     "output_type": "stream",
     "name": "stderr",
     "text": [
      "\r\n",
      "  4%|▎         | 354/10000 [01:49<21:10,  7.59it/s, episode_reward=120, running_reward=333]"
     ]
    },
    {
     "output_type": "stream",
     "name": "stderr",
     "text": [
      "\r\n",
      "  4%|▎         | 355/10000 [01:49<22:23,  7.18it/s, episode_reward=120, running_reward=333]"
     ]
    },
    {
     "output_type": "stream",
     "name": "stderr",
     "text": [
      "\r\n",
      "  4%|▎         | 355/10000 [01:49<22:23,  7.18it/s, episode_reward=132, running_reward=329]"
     ]
    },
    {
     "output_type": "stream",
     "name": "stderr",
     "text": [
      "\r\n",
      "  4%|▎         | 356/10000 [01:49<24:04,  6.68it/s, episode_reward=132, running_reward=329]"
     ]
    },
    {
     "output_type": "stream",
     "name": "stderr",
     "text": [
      "\r\n",
      "  4%|▎         | 356/10000 [01:49<24:04,  6.68it/s, episode_reward=110, running_reward=330]"
     ]
    },
    {
     "output_type": "stream",
     "name": "stderr",
     "text": [
      "\r\n",
      "  4%|▎         | 357/10000 [01:49<23:24,  6.87it/s, episode_reward=110, running_reward=330]"
     ]
    },
    {
     "output_type": "stream",
     "name": "stderr",
     "text": [
      "\r\n",
      "  4%|▎         | 357/10000 [01:49<23:24,  6.87it/s, episode_reward=109, running_reward=330]"
     ]
    },
    {
     "output_type": "stream",
     "name": "stderr",
     "text": [
      "\r\n",
      "  4%|▎         | 358/10000 [01:49<23:00,  6.98it/s, episode_reward=109, running_reward=330]"
     ]
    },
    {
     "output_type": "stream",
     "name": "stderr",
     "text": [
      "\r\n",
      "  4%|▎         | 358/10000 [01:49<23:00,  6.98it/s, episode_reward=127, running_reward=326]"
     ]
    },
    {
     "output_type": "stream",
     "name": "stderr",
     "text": [
      "\r\n",
      "  4%|▎         | 359/10000 [01:49<23:42,  6.78it/s, episode_reward=127, running_reward=326]"
     ]
    },
    {
     "output_type": "stream",
     "name": "stderr",
     "text": [
      "\r\n",
      "  4%|▎         | 359/10000 [01:49<23:42,  6.78it/s, episode_reward=75, running_reward=322] "
     ]
    },
    {
     "output_type": "stream",
     "name": "stderr",
     "text": [
      "\r\n",
      "  4%|▎         | 359/10000 [01:50<23:42,  6.78it/s, episode_reward=99, running_reward=321]"
     ]
    },
    {
     "output_type": "stream",
     "name": "stderr",
     "text": [
      "\r\n",
      "  4%|▎         | 361/10000 [01:50<20:40,  7.77it/s, episode_reward=99, running_reward=321]"
     ]
    },
    {
     "output_type": "stream",
     "name": "stderr",
     "text": [
      "\r\n",
      "  4%|▎         | 361/10000 [01:50<20:40,  7.77it/s, episode_reward=124, running_reward=321]"
     ]
    },
    {
     "output_type": "stream",
     "name": "stderr",
     "text": [
      "\r\n",
      "  4%|▎         | 362/10000 [01:50<21:21,  7.52it/s, episode_reward=124, running_reward=321]"
     ]
    },
    {
     "output_type": "stream",
     "name": "stderr",
     "text": [
      "\r\n",
      "  4%|▎         | 362/10000 [01:50<21:21,  7.52it/s, episode_reward=129, running_reward=318]"
     ]
    },
    {
     "output_type": "stream",
     "name": "stderr",
     "text": [
      "\r\n",
      "  4%|▎         | 363/10000 [01:50<21:59,  7.31it/s, episode_reward=129, running_reward=318]"
     ]
    },
    {
     "output_type": "stream",
     "name": "stderr",
     "text": [
      "\r\n",
      "  4%|▎         | 363/10000 [01:50<21:59,  7.31it/s, episode_reward=134, running_reward=314]"
     ]
    },
    {
     "output_type": "stream",
     "name": "stderr",
     "text": [
      "\r\n",
      "  4%|▎         | 364/10000 [01:50<22:56,  7.00it/s, episode_reward=134, running_reward=314]"
     ]
    },
    {
     "output_type": "stream",
     "name": "stderr",
     "text": [
      "\r\n",
      "  4%|▎         | 364/10000 [01:50<22:56,  7.00it/s, episode_reward=137, running_reward=310]"
     ]
    },
    {
     "output_type": "stream",
     "name": "stderr",
     "text": [
      "\r\n",
      "  4%|▎         | 365/10000 [01:50<23:42,  6.77it/s, episode_reward=137, running_reward=310]"
     ]
    },
    {
     "output_type": "stream",
     "name": "stderr",
     "text": [
      "\r\n",
      "  4%|▎         | 365/10000 [01:50<23:42,  6.77it/s, episode_reward=136, running_reward=307]"
     ]
    },
    {
     "output_type": "stream",
     "name": "stderr",
     "text": [
      "\r\n",
      "  4%|▎         | 366/10000 [01:50<24:09,  6.64it/s, episode_reward=136, running_reward=307]"
     ]
    },
    {
     "output_type": "stream",
     "name": "stderr",
     "text": [
      "\r\n",
      "  4%|▎         | 366/10000 [01:51<24:09,  6.64it/s, episode_reward=133, running_reward=303]"
     ]
    },
    {
     "output_type": "stream",
     "name": "stderr",
     "text": [
      "\r\n",
      "  4%|▎         | 367/10000 [01:51<24:25,  6.57it/s, episode_reward=133, running_reward=303]"
     ]
    },
    {
     "output_type": "stream",
     "name": "stderr",
     "text": [
      "\r\n",
      "  4%|▎         | 367/10000 [01:51<24:25,  6.57it/s, episode_reward=133, running_reward=304]"
     ]
    },
    {
     "output_type": "stream",
     "name": "stderr",
     "text": [
      "\r\n",
      "  4%|▎         | 368/10000 [01:51<24:41,  6.50it/s, episode_reward=133, running_reward=304]"
     ]
    },
    {
     "output_type": "stream",
     "name": "stderr",
     "text": [
      "\r\n",
      "  4%|▎         | 368/10000 [01:51<24:41,  6.50it/s, episode_reward=128, running_reward=300]"
     ]
    },
    {
     "output_type": "stream",
     "name": "stderr",
     "text": [
      "\r\n",
      "  4%|▎         | 369/10000 [01:51<24:40,  6.51it/s, episode_reward=128, running_reward=300]"
     ]
    },
    {
     "output_type": "stream",
     "name": "stderr",
     "text": [
      "\r\n",
      "  4%|▎         | 369/10000 [01:51<24:40,  6.51it/s, episode_reward=144, running_reward=296]"
     ]
    },
    {
     "output_type": "stream",
     "name": "stderr",
     "text": [
      "\r\n",
      "  4%|▎         | 370/10000 [01:51<25:25,  6.31it/s, episode_reward=144, running_reward=296]"
     ]
    },
    {
     "output_type": "stream",
     "name": "stderr",
     "text": [
      "\r\n",
      "  4%|▎         | 370/10000 [01:51<25:25,  6.31it/s, episode_reward=140, running_reward=293]"
     ]
    },
    {
     "output_type": "stream",
     "name": "stderr",
     "text": [
      "\r\n",
      "  4%|▎         | 371/10000 [01:51<25:48,  6.22it/s, episode_reward=140, running_reward=293]"
     ]
    },
    {
     "output_type": "stream",
     "name": "stderr",
     "text": [
      "\r\n",
      "  4%|▎         | 371/10000 [01:51<25:48,  6.22it/s, episode_reward=128, running_reward=289]"
     ]
    },
    {
     "output_type": "stream",
     "name": "stderr",
     "text": [
      "\r\n",
      "  4%|▎         | 372/10000 [01:51<26:06,  6.15it/s, episode_reward=128, running_reward=289]"
     ]
    },
    {
     "output_type": "stream",
     "name": "stderr",
     "text": [
      "\r\n",
      "  4%|▎         | 372/10000 [01:51<26:06,  6.15it/s, episode_reward=127, running_reward=285]"
     ]
    },
    {
     "output_type": "stream",
     "name": "stderr",
     "text": [
      "\r\n",
      "  4%|▎         | 373/10000 [01:51<25:32,  6.28it/s, episode_reward=127, running_reward=285]"
     ]
    },
    {
     "output_type": "stream",
     "name": "stderr",
     "text": [
      "\r\n",
      "  4%|▎         | 373/10000 [01:52<25:32,  6.28it/s, episode_reward=135, running_reward=282]"
     ]
    },
    {
     "output_type": "stream",
     "name": "stderr",
     "text": [
      "\r\n",
      "  4%|▎         | 374/10000 [01:52<25:23,  6.32it/s, episode_reward=135, running_reward=282]"
     ]
    },
    {
     "output_type": "stream",
     "name": "stderr",
     "text": [
      "\r\n",
      "  4%|▎         | 374/10000 [01:52<25:23,  6.32it/s, episode_reward=134, running_reward=278]"
     ]
    },
    {
     "output_type": "stream",
     "name": "stderr",
     "text": [
      "\r\n",
      "  4%|▍         | 375/10000 [01:52<25:17,  6.34it/s, episode_reward=134, running_reward=278]"
     ]
    },
    {
     "output_type": "stream",
     "name": "stderr",
     "text": [
      "\r\n",
      "  4%|▍         | 375/10000 [01:52<25:17,  6.34it/s, episode_reward=134, running_reward=274]"
     ]
    },
    {
     "output_type": "stream",
     "name": "stderr",
     "text": [
      "\r\n",
      "  4%|▍         | 376/10000 [01:52<25:13,  6.36it/s, episode_reward=134, running_reward=274]"
     ]
    },
    {
     "output_type": "stream",
     "name": "stderr",
     "text": [
      "\r\n",
      "  4%|▍         | 376/10000 [01:52<25:13,  6.36it/s, episode_reward=171, running_reward=271]"
     ]
    },
    {
     "output_type": "stream",
     "name": "stderr",
     "text": [
      "\r\n",
      "  4%|▍         | 377/10000 [01:52<27:30,  5.83it/s, episode_reward=171, running_reward=271]"
     ]
    },
    {
     "output_type": "stream",
     "name": "stderr",
     "text": [
      "\r\n",
      "  4%|▍         | 377/10000 [01:52<27:30,  5.83it/s, episode_reward=147, running_reward=268]"
     ]
    },
    {
     "output_type": "stream",
     "name": "stderr",
     "text": [
      "\r\n",
      "  4%|▍         | 378/10000 [01:52<28:56,  5.54it/s, episode_reward=147, running_reward=268]"
     ]
    },
    {
     "output_type": "stream",
     "name": "stderr",
     "text": [
      "\r\n",
      "  4%|▍         | 378/10000 [01:53<28:56,  5.54it/s, episode_reward=149, running_reward=264]"
     ]
    },
    {
     "output_type": "stream",
     "name": "stderr",
     "text": [
      "\r\n",
      "  4%|▍         | 379/10000 [01:53<29:31,  5.43it/s, episode_reward=149, running_reward=264]"
     ]
    },
    {
     "output_type": "stream",
     "name": "stderr",
     "text": [
      "\r\n",
      "  4%|▍         | 379/10000 [01:53<29:31,  5.43it/s, episode_reward=154, running_reward=261]"
     ]
    },
    {
     "output_type": "stream",
     "name": "stderr",
     "text": [
      "\r\n",
      "  4%|▍         | 380/10000 [01:53<29:33,  5.42it/s, episode_reward=154, running_reward=261]"
     ]
    },
    {
     "output_type": "stream",
     "name": "stderr",
     "text": [
      "\r\n",
      "  4%|▍         | 380/10000 [01:53<29:33,  5.42it/s, episode_reward=140, running_reward=257]"
     ]
    },
    {
     "output_type": "stream",
     "name": "stderr",
     "text": [
      "\r\n",
      "  4%|▍         | 381/10000 [01:53<29:12,  5.49it/s, episode_reward=140, running_reward=257]"
     ]
    },
    {
     "output_type": "stream",
     "name": "stderr",
     "text": [
      "\r\n",
      "  4%|▍         | 381/10000 [01:53<29:12,  5.49it/s, episode_reward=133, running_reward=253]"
     ]
    },
    {
     "output_type": "stream",
     "name": "stderr",
     "text": [
      "\r\n",
      "  4%|▍         | 382/10000 [01:53<28:11,  5.69it/s, episode_reward=133, running_reward=253]"
     ]
    },
    {
     "output_type": "stream",
     "name": "stderr",
     "text": [
      "\r\n",
      "  4%|▍         | 382/10000 [01:53<28:11,  5.69it/s, episode_reward=144, running_reward=250]"
     ]
    },
    {
     "output_type": "stream",
     "name": "stderr",
     "text": [
      "\r\n",
      "  4%|▍         | 383/10000 [01:53<28:28,  5.63it/s, episode_reward=144, running_reward=250]"
     ]
    },
    {
     "output_type": "stream",
     "name": "stderr",
     "text": [
      "\r\n",
      "  4%|▍         | 383/10000 [01:53<28:28,  5.63it/s, episode_reward=149, running_reward=246]"
     ]
    },
    {
     "output_type": "stream",
     "name": "stderr",
     "text": [
      "\r\n",
      "  4%|▍         | 384/10000 [01:53<28:24,  5.64it/s, episode_reward=149, running_reward=246]"
     ]
    },
    {
     "output_type": "stream",
     "name": "stderr",
     "text": [
      "\r\n",
      "  4%|▍         | 384/10000 [01:54<28:24,  5.64it/s, episode_reward=140, running_reward=243]"
     ]
    },
    {
     "output_type": "stream",
     "name": "stderr",
     "text": [
      "\r\n",
      "  4%|▍         | 385/10000 [01:54<28:06,  5.70it/s, episode_reward=140, running_reward=243]"
     ]
    },
    {
     "output_type": "stream",
     "name": "stderr",
     "text": [
      "\r\n",
      "  4%|▍         | 385/10000 [01:54<28:06,  5.70it/s, episode_reward=176, running_reward=239]"
     ]
    },
    {
     "output_type": "stream",
     "name": "stderr",
     "text": [
      "\r\n",
      "  4%|▍         | 386/10000 [01:54<30:21,  5.28it/s, episode_reward=176, running_reward=239]"
     ]
    },
    {
     "output_type": "stream",
     "name": "stderr",
     "text": [
      "\r\n",
      "  4%|▍         | 386/10000 [01:54<30:21,  5.28it/s, episode_reward=141, running_reward=236]"
     ]
    },
    {
     "output_type": "stream",
     "name": "stderr",
     "text": [
      "\r\n",
      "  4%|▍         | 387/10000 [01:54<29:13,  5.48it/s, episode_reward=141, running_reward=236]"
     ]
    },
    {
     "output_type": "stream",
     "name": "stderr",
     "text": [
      "\r\n",
      "  4%|▍         | 387/10000 [01:54<29:13,  5.48it/s, episode_reward=134, running_reward=232]"
     ]
    },
    {
     "output_type": "stream",
     "name": "stderr",
     "text": [
      "\r\n",
      "  4%|▍         | 388/10000 [01:54<28:50,  5.56it/s, episode_reward=134, running_reward=232]"
     ]
    },
    {
     "output_type": "stream",
     "name": "stderr",
     "text": [
      "\r\n",
      "  4%|▍         | 388/10000 [01:54<28:50,  5.56it/s, episode_reward=172, running_reward=229]"
     ]
    },
    {
     "output_type": "stream",
     "name": "stderr",
     "text": [
      "\r\n",
      "  4%|▍         | 389/10000 [01:54<29:56,  5.35it/s, episode_reward=172, running_reward=229]"
     ]
    },
    {
     "output_type": "stream",
     "name": "stderr",
     "text": [
      "\r\n",
      "  4%|▍         | 389/10000 [01:55<29:56,  5.35it/s, episode_reward=135, running_reward=225]"
     ]
    },
    {
     "output_type": "stream",
     "name": "stderr",
     "text": [
      "\r\n",
      "  4%|▍         | 390/10000 [01:55<29:01,  5.52it/s, episode_reward=135, running_reward=225]"
     ]
    },
    {
     "output_type": "stream",
     "name": "stderr",
     "text": [
      "\r\n",
      "  4%|▍         | 390/10000 [01:55<29:01,  5.52it/s, episode_reward=207, running_reward=222]"
     ]
    },
    {
     "output_type": "stream",
     "name": "stderr",
     "text": [
      "\r\n",
      "  4%|▍         | 391/10000 [01:55<31:49,  5.03it/s, episode_reward=207, running_reward=222]"
     ]
    },
    {
     "output_type": "stream",
     "name": "stderr",
     "text": [
      "\r\n",
      "  4%|▍         | 391/10000 [01:55<31:49,  5.03it/s, episode_reward=150, running_reward=219]"
     ]
    },
    {
     "output_type": "stream",
     "name": "stderr",
     "text": [
      "\r\n",
      "  4%|▍         | 392/10000 [01:55<32:19,  4.95it/s, episode_reward=150, running_reward=219]"
     ]
    },
    {
     "output_type": "stream",
     "name": "stderr",
     "text": [
      "\r\n",
      "  4%|▍         | 392/10000 [01:55<32:19,  4.95it/s, episode_reward=208, running_reward=216]"
     ]
    },
    {
     "output_type": "stream",
     "name": "stderr",
     "text": [
      "\r\n",
      "  4%|▍         | 393/10000 [01:55<35:23,  4.52it/s, episode_reward=208, running_reward=216]"
     ]
    },
    {
     "output_type": "stream",
     "name": "stderr",
     "text": [
      "\r\n",
      "  4%|▍         | 393/10000 [01:55<35:23,  4.52it/s, episode_reward=163, running_reward=212]"
     ]
    },
    {
     "output_type": "stream",
     "name": "stderr",
     "text": [
      "\r\n",
      "  4%|▍         | 394/10000 [01:55<34:34,  4.63it/s, episode_reward=163, running_reward=212]"
     ]
    },
    {
     "output_type": "stream",
     "name": "stderr",
     "text": [
      "\r\n",
      "  4%|▍         | 394/10000 [01:56<34:34,  4.63it/s, episode_reward=171, running_reward=209]"
     ]
    },
    {
     "output_type": "stream",
     "name": "stderr",
     "text": [
      "\r\n",
      "  4%|▍         | 395/10000 [01:56<33:34,  4.77it/s, episode_reward=171, running_reward=209]"
     ]
    },
    {
     "output_type": "stream",
     "name": "stderr",
     "text": [
      "\r\n",
      "  4%|▍         | 395/10000 [01:56<33:34,  4.77it/s, episode_reward=190, running_reward=206]"
     ]
    },
    {
     "output_type": "stream",
     "name": "stderr",
     "text": [
      "\r\n",
      "  4%|▍         | 396/10000 [01:56<34:06,  4.69it/s, episode_reward=190, running_reward=206]"
     ]
    },
    {
     "output_type": "stream",
     "name": "stderr",
     "text": [
      "\r\n",
      "  4%|▍         | 396/10000 [01:57<34:06,  4.69it/s, episode_reward=500, running_reward=206]"
     ]
    },
    {
     "output_type": "stream",
     "name": "stderr",
     "text": [
      "\r\n",
      "  4%|▍         | 397/10000 [01:57<55:10,  2.90it/s, episode_reward=500, running_reward=206]"
     ]
    },
    {
     "output_type": "stream",
     "name": "stderr",
     "text": [
      "\r\n",
      "  4%|▍         | 397/10000 [01:57<55:10,  2.90it/s, episode_reward=500, running_reward=206]"
     ]
    },
    {
     "output_type": "stream",
     "name": "stderr",
     "text": [
      "\r\n",
      "  4%|▍         | 398/10000 [01:57<1:11:15,  2.25it/s, episode_reward=500, running_reward=206]"
     ]
    },
    {
     "output_type": "stream",
     "name": "stderr",
     "text": [
      "\r\n",
      "  4%|▍         | 398/10000 [01:58<1:11:15,  2.25it/s, episode_reward=500, running_reward=206]"
     ]
    },
    {
     "output_type": "stream",
     "name": "stderr",
     "text": [
      "\r\n",
      "  4%|▍         | 399/10000 [01:58<1:17:19,  2.07it/s, episode_reward=500, running_reward=206]"
     ]
    },
    {
     "output_type": "stream",
     "name": "stderr",
     "text": [
      "\r\n",
      "  4%|▍         | 399/10000 [01:58<1:17:19,  2.07it/s, episode_reward=500, running_reward=208]"
     ]
    },
    {
     "output_type": "stream",
     "name": "stderr",
     "text": [
      "\r\n",
      "  4%|▍         | 400/10000 [01:58<1:22:33,  1.94it/s, episode_reward=500, running_reward=208]"
     ]
    },
    {
     "output_type": "stream",
     "name": "stderr",
     "text": [
      "\r\n",
      "  4%|▍         | 400/10000 [01:59<1:22:33,  1.94it/s, episode_reward=500, running_reward=208]"
     ]
    },
    {
     "output_type": "stream",
     "name": "stderr",
     "text": [
      "\r\n",
      "  4%|▍         | 401/10000 [01:59<1:25:57,  1.86it/s, episode_reward=500, running_reward=208]"
     ]
    },
    {
     "output_type": "stream",
     "name": "stderr",
     "text": [
      "\r\n",
      "  4%|▍         | 401/10000 [02:00<1:25:57,  1.86it/s, episode_reward=500, running_reward=210]"
     ]
    },
    {
     "output_type": "stream",
     "name": "stderr",
     "text": [
      "\r\n",
      "  4%|▍         | 402/10000 [02:00<1:29:17,  1.79it/s, episode_reward=500, running_reward=210]"
     ]
    },
    {
     "output_type": "stream",
     "name": "stderr",
     "text": [
      "\r\n",
      "  4%|▍         | 402/10000 [02:00<1:29:17,  1.79it/s, episode_reward=500, running_reward=210]"
     ]
    },
    {
     "output_type": "stream",
     "name": "stderr",
     "text": [
      "\r\n",
      "  4%|▍         | 403/10000 [02:00<1:32:18,  1.73it/s, episode_reward=500, running_reward=210]"
     ]
    },
    {
     "output_type": "stream",
     "name": "stderr",
     "text": [
      "\r\n",
      "  4%|▍         | 403/10000 [02:01<1:32:18,  1.73it/s, episode_reward=500, running_reward=210]"
     ]
    },
    {
     "output_type": "stream",
     "name": "stderr",
     "text": [
      "\r\n",
      "  4%|▍         | 404/10000 [02:01<1:31:26,  1.75it/s, episode_reward=500, running_reward=210]"
     ]
    },
    {
     "output_type": "stream",
     "name": "stderr",
     "text": [
      "\r\n",
      "  4%|▍         | 404/10000 [02:01<1:31:26,  1.75it/s, episode_reward=500, running_reward=213]"
     ]
    },
    {
     "output_type": "stream",
     "name": "stderr",
     "text": [
      "\r\n",
      "  4%|▍         | 405/10000 [02:01<1:32:55,  1.72it/s, episode_reward=500, running_reward=213]"
     ]
    },
    {
     "output_type": "stream",
     "name": "stderr",
     "text": [
      "\r\n",
      "  4%|▍         | 405/10000 [02:02<1:32:55,  1.72it/s, episode_reward=500, running_reward=213]"
     ]
    },
    {
     "output_type": "stream",
     "name": "stderr",
     "text": [
      "\r\n",
      "  4%|▍         | 406/10000 [02:02<1:33:33,  1.71it/s, episode_reward=500, running_reward=213]"
     ]
    },
    {
     "output_type": "stream",
     "name": "stderr",
     "text": [
      "\r\n",
      "  4%|▍         | 406/10000 [02:03<1:33:33,  1.71it/s, episode_reward=500, running_reward=213]"
     ]
    },
    {
     "output_type": "stream",
     "name": "stderr",
     "text": [
      "\r\n",
      "  4%|▍         | 407/10000 [02:03<1:33:34,  1.71it/s, episode_reward=500, running_reward=213]"
     ]
    },
    {
     "output_type": "stream",
     "name": "stderr",
     "text": [
      "\r\n",
      "  4%|▍         | 407/10000 [02:03<1:33:34,  1.71it/s, episode_reward=500, running_reward=213]"
     ]
    },
    {
     "output_type": "stream",
     "name": "stderr",
     "text": [
      "\r\n",
      "  4%|▍         | 408/10000 [02:03<1:31:44,  1.74it/s, episode_reward=500, running_reward=213]"
     ]
    },
    {
     "output_type": "stream",
     "name": "stderr",
     "text": [
      "\r\n",
      "  4%|▍         | 408/10000 [02:04<1:31:44,  1.74it/s, episode_reward=500, running_reward=213]"
     ]
    },
    {
     "output_type": "stream",
     "name": "stderr",
     "text": [
      "\r\n",
      "  4%|▍         | 409/10000 [02:04<1:31:23,  1.75it/s, episode_reward=500, running_reward=213]"
     ]
    },
    {
     "output_type": "stream",
     "name": "stderr",
     "text": [
      "\r\n",
      "  4%|▍         | 409/10000 [02:04<1:31:23,  1.75it/s, episode_reward=500, running_reward=214]"
     ]
    },
    {
     "output_type": "stream",
     "name": "stderr",
     "text": [
      "\r\n",
      "  4%|▍         | 410/10000 [02:04<1:34:08,  1.70it/s, episode_reward=500, running_reward=214]"
     ]
    },
    {
     "output_type": "stream",
     "name": "stderr",
     "text": [
      "\r\n",
      "  4%|▍         | 410/10000 [02:05<1:34:08,  1.70it/s, episode_reward=493, running_reward=215]"
     ]
    },
    {
     "output_type": "stream",
     "name": "stderr",
     "text": [
      "\r\n",
      "  4%|▍         | 411/10000 [02:05<1:33:10,  1.72it/s, episode_reward=493, running_reward=215]"
     ]
    },
    {
     "output_type": "stream",
     "name": "stderr",
     "text": [
      "\r\n",
      "  4%|▍         | 411/10000 [02:05<1:33:10,  1.72it/s, episode_reward=500, running_reward=217]"
     ]
    },
    {
     "output_type": "stream",
     "name": "stderr",
     "text": [
      "\r\n",
      "  4%|▍         | 412/10000 [02:05<1:33:05,  1.72it/s, episode_reward=500, running_reward=217]"
     ]
    },
    {
     "output_type": "stream",
     "name": "stderr",
     "text": [
      "\r\n",
      "  4%|▍         | 412/10000 [02:06<1:33:05,  1.72it/s, episode_reward=500, running_reward=220]"
     ]
    },
    {
     "output_type": "stream",
     "name": "stderr",
     "text": [
      "\r\n",
      "  4%|▍         | 413/10000 [02:06<1:32:29,  1.73it/s, episode_reward=500, running_reward=220]"
     ]
    },
    {
     "output_type": "stream",
     "name": "stderr",
     "text": [
      "\r\n",
      "  4%|▍         | 413/10000 [02:07<1:32:29,  1.73it/s, episode_reward=500, running_reward=220]"
     ]
    },
    {
     "output_type": "stream",
     "name": "stderr",
     "text": [
      "\r\n",
      "  4%|▍         | 414/10000 [02:07<1:31:15,  1.75it/s, episode_reward=500, running_reward=220]"
     ]
    },
    {
     "output_type": "stream",
     "name": "stderr",
     "text": [
      "\r\n",
      "  4%|▍         | 414/10000 [02:07<1:31:15,  1.75it/s, episode_reward=500, running_reward=222]"
     ]
    },
    {
     "output_type": "stream",
     "name": "stderr",
     "text": [
      "\r\n",
      "  4%|▍         | 415/10000 [02:07<1:30:25,  1.77it/s, episode_reward=500, running_reward=222]"
     ]
    },
    {
     "output_type": "stream",
     "name": "stderr",
     "text": [
      "\r\n",
      "  4%|▍         | 415/10000 [02:08<1:30:25,  1.77it/s, episode_reward=500, running_reward=223]"
     ]
    },
    {
     "output_type": "stream",
     "name": "stderr",
     "text": [
      "\r\n",
      "  4%|▍         | 416/10000 [02:08<1:29:50,  1.78it/s, episode_reward=500, running_reward=223]"
     ]
    },
    {
     "output_type": "stream",
     "name": "stderr",
     "text": [
      "\r\n",
      "  4%|▍         | 416/10000 [02:08<1:29:50,  1.78it/s, episode_reward=500, running_reward=225]"
     ]
    },
    {
     "output_type": "stream",
     "name": "stderr",
     "text": [
      "\r\n",
      "  4%|▍         | 417/10000 [02:08<1:31:12,  1.75it/s, episode_reward=500, running_reward=225]"
     ]
    },
    {
     "output_type": "stream",
     "name": "stderr",
     "text": [
      "\r\n",
      "  4%|▍         | 417/10000 [02:09<1:31:12,  1.75it/s, episode_reward=500, running_reward=227]"
     ]
    },
    {
     "output_type": "stream",
     "name": "stderr",
     "text": [
      "\r\n",
      "  4%|▍         | 418/10000 [02:09<1:30:50,  1.76it/s, episode_reward=500, running_reward=227]"
     ]
    },
    {
     "output_type": "stream",
     "name": "stderr",
     "text": [
      "\r\n",
      "  4%|▍         | 418/10000 [02:09<1:30:50,  1.76it/s, episode_reward=500, running_reward=229]"
     ]
    },
    {
     "output_type": "stream",
     "name": "stderr",
     "text": [
      "\r\n",
      "  4%|▍         | 419/10000 [02:09<1:31:29,  1.75it/s, episode_reward=500, running_reward=229]"
     ]
    },
    {
     "output_type": "stream",
     "name": "stderr",
     "text": [
      "\r\n",
      "  4%|▍         | 419/10000 [02:10<1:31:29,  1.75it/s, episode_reward=500, running_reward=230]"
     ]
    },
    {
     "output_type": "stream",
     "name": "stderr",
     "text": [
      "\r\n",
      "  4%|▍         | 420/10000 [02:10<1:31:20,  1.75it/s, episode_reward=500, running_reward=230]"
     ]
    },
    {
     "output_type": "stream",
     "name": "stderr",
     "text": [
      "\r\n",
      "  4%|▍         | 420/10000 [02:11<1:31:20,  1.75it/s, episode_reward=500, running_reward=231]"
     ]
    },
    {
     "output_type": "stream",
     "name": "stderr",
     "text": [
      "\r\n",
      "  4%|▍         | 421/10000 [02:11<1:32:26,  1.73it/s, episode_reward=500, running_reward=231]"
     ]
    },
    {
     "output_type": "stream",
     "name": "stderr",
     "text": [
      "\r\n",
      "  4%|▍         | 421/10000 [02:11<1:32:26,  1.73it/s, episode_reward=500, running_reward=233]"
     ]
    },
    {
     "output_type": "stream",
     "name": "stderr",
     "text": [
      "\r\n",
      "  4%|▍         | 422/10000 [02:11<1:32:35,  1.72it/s, episode_reward=500, running_reward=233]"
     ]
    },
    {
     "output_type": "stream",
     "name": "stderr",
     "text": [
      "\r\n",
      "  4%|▍         | 422/10000 [02:12<1:32:35,  1.72it/s, episode_reward=500, running_reward=235]"
     ]
    },
    {
     "output_type": "stream",
     "name": "stderr",
     "text": [
      "\r\n",
      "  4%|▍         | 423/10000 [02:12<1:31:56,  1.74it/s, episode_reward=500, running_reward=235]"
     ]
    },
    {
     "output_type": "stream",
     "name": "stderr",
     "text": [
      "\r\n",
      "  4%|▍         | 423/10000 [02:12<1:31:56,  1.74it/s, episode_reward=500, running_reward=237]"
     ]
    },
    {
     "output_type": "stream",
     "name": "stderr",
     "text": [
      "\r\n",
      "  4%|▍         | 424/10000 [02:12<1:30:33,  1.76it/s, episode_reward=500, running_reward=237]"
     ]
    },
    {
     "output_type": "stream",
     "name": "stderr",
     "text": [
      "\r\n",
      "  4%|▍         | 424/10000 [02:13<1:30:33,  1.76it/s, episode_reward=500, running_reward=240]"
     ]
    },
    {
     "output_type": "stream",
     "name": "stderr",
     "text": [
      "\r\n",
      "  4%|▍         | 425/10000 [02:13<1:29:36,  1.78it/s, episode_reward=500, running_reward=240]"
     ]
    },
    {
     "output_type": "stream",
     "name": "stderr",
     "text": [
      "\r\n",
      "  4%|▍         | 425/10000 [02:13<1:29:36,  1.78it/s, episode_reward=500, running_reward=244]"
     ]
    },
    {
     "output_type": "stream",
     "name": "stderr",
     "text": [
      "\r\n",
      "  4%|▍         | 426/10000 [02:13<1:30:13,  1.77it/s, episode_reward=500, running_reward=244]"
     ]
    },
    {
     "output_type": "stream",
     "name": "stderr",
     "text": [
      "\r\n",
      "  4%|▍         | 426/10000 [02:14<1:30:13,  1.77it/s, episode_reward=500, running_reward=247]"
     ]
    },
    {
     "output_type": "stream",
     "name": "stderr",
     "text": [
      "\r\n",
      "  4%|▍         | 427/10000 [02:14<1:29:16,  1.79it/s, episode_reward=500, running_reward=247]"
     ]
    },
    {
     "output_type": "stream",
     "name": "stderr",
     "text": [
      "\r\n",
      "  4%|▍         | 427/10000 [02:14<1:29:16,  1.79it/s, episode_reward=500, running_reward=251]"
     ]
    },
    {
     "output_type": "stream",
     "name": "stderr",
     "text": [
      "\r\n",
      "  4%|▍         | 428/10000 [02:14<1:28:53,  1.79it/s, episode_reward=500, running_reward=251]"
     ]
    },
    {
     "output_type": "stream",
     "name": "stderr",
     "text": [
      "\r\n",
      "  4%|▍         | 428/10000 [02:15<1:28:53,  1.79it/s, episode_reward=500, running_reward=254]"
     ]
    },
    {
     "output_type": "stream",
     "name": "stderr",
     "text": [
      "\r\n",
      "  4%|▍         | 429/10000 [02:15<1:28:09,  1.81it/s, episode_reward=500, running_reward=254]"
     ]
    },
    {
     "output_type": "stream",
     "name": "stderr",
     "text": [
      "\r\n",
      "  4%|▍         | 429/10000 [02:16<1:28:09,  1.81it/s, episode_reward=500, running_reward=258]"
     ]
    },
    {
     "output_type": "stream",
     "name": "stderr",
     "text": [
      "\r\n",
      "  4%|▍         | 430/10000 [02:16<1:27:57,  1.81it/s, episode_reward=500, running_reward=258]"
     ]
    },
    {
     "output_type": "stream",
     "name": "stderr",
     "text": [
      "\r\n",
      "  4%|▍         | 430/10000 [02:16<1:27:57,  1.81it/s, episode_reward=382, running_reward=261]"
     ]
    },
    {
     "output_type": "stream",
     "name": "stderr",
     "text": [
      "\r\n",
      "  4%|▍         | 431/10000 [02:16<1:21:55,  1.95it/s, episode_reward=382, running_reward=261]"
     ]
    },
    {
     "output_type": "stream",
     "name": "stderr",
     "text": [
      "\r\n",
      "  4%|▍         | 431/10000 [02:17<1:21:55,  1.95it/s, episode_reward=500, running_reward=264]"
     ]
    },
    {
     "output_type": "stream",
     "name": "stderr",
     "text": [
      "\r\n",
      "  4%|▍         | 432/10000 [02:17<1:23:27,  1.91it/s, episode_reward=500, running_reward=264]"
     ]
    },
    {
     "output_type": "stream",
     "name": "stderr",
     "text": [
      "\r\n",
      "  4%|▍         | 432/10000 [02:17<1:23:27,  1.91it/s, episode_reward=500, running_reward=268]"
     ]
    },
    {
     "output_type": "stream",
     "name": "stderr",
     "text": [
      "\r\n",
      "  4%|▍         | 433/10000 [02:17<1:24:31,  1.89it/s, episode_reward=500, running_reward=268]"
     ]
    },
    {
     "output_type": "stream",
     "name": "stderr",
     "text": [
      "\r\n",
      "  4%|▍         | 433/10000 [02:18<1:24:31,  1.89it/s, episode_reward=500, running_reward=272]"
     ]
    },
    {
     "output_type": "stream",
     "name": "stderr",
     "text": [
      "\r\n",
      "  4%|▍         | 434/10000 [02:18<1:26:15,  1.85it/s, episode_reward=500, running_reward=272]"
     ]
    },
    {
     "output_type": "stream",
     "name": "stderr",
     "text": [
      "\r\n",
      "  4%|▍         | 434/10000 [02:18<1:26:15,  1.85it/s, episode_reward=500, running_reward=275]"
     ]
    },
    {
     "output_type": "stream",
     "name": "stderr",
     "text": [
      "\r\n",
      "  4%|▍         | 435/10000 [02:18<1:26:39,  1.84it/s, episode_reward=500, running_reward=275]"
     ]
    },
    {
     "output_type": "stream",
     "name": "stderr",
     "text": [
      "\r\n",
      "  4%|▍         | 435/10000 [02:19<1:26:39,  1.84it/s, episode_reward=500, running_reward=279]"
     ]
    },
    {
     "output_type": "stream",
     "name": "stderr",
     "text": [
      "\r\n",
      "  4%|▍         | 436/10000 [02:19<1:26:55,  1.83it/s, episode_reward=500, running_reward=279]"
     ]
    },
    {
     "output_type": "stream",
     "name": "stderr",
     "text": [
      "\r\n",
      "  4%|▍         | 436/10000 [02:19<1:26:55,  1.83it/s, episode_reward=500, running_reward=283]"
     ]
    },
    {
     "output_type": "stream",
     "name": "stderr",
     "text": [
      "\r\n",
      "  4%|▍         | 437/10000 [02:19<1:26:53,  1.83it/s, episode_reward=500, running_reward=283]"
     ]
    },
    {
     "output_type": "stream",
     "name": "stderr",
     "text": [
      "\r\n",
      "  4%|▍         | 437/10000 [02:20<1:26:53,  1.83it/s, episode_reward=500, running_reward=286]"
     ]
    },
    {
     "output_type": "stream",
     "name": "stderr",
     "text": [
      "\r\n",
      "  4%|▍         | 438/10000 [02:20<1:26:58,  1.83it/s, episode_reward=500, running_reward=286]"
     ]
    },
    {
     "output_type": "stream",
     "name": "stderr",
     "text": [
      "\r\n",
      "  4%|▍         | 438/10000 [02:20<1:26:58,  1.83it/s, episode_reward=500, running_reward=290]"
     ]
    },
    {
     "output_type": "stream",
     "name": "stderr",
     "text": [
      "\r\n",
      "  4%|▍         | 439/10000 [02:20<1:28:13,  1.81it/s, episode_reward=500, running_reward=290]"
     ]
    },
    {
     "output_type": "stream",
     "name": "stderr",
     "text": [
      "\r\n",
      "  4%|▍         | 439/10000 [02:21<1:28:13,  1.81it/s, episode_reward=403, running_reward=293]"
     ]
    },
    {
     "output_type": "stream",
     "name": "stderr",
     "text": [
      "\r\n",
      "  4%|▍         | 440/10000 [02:21<1:22:54,  1.92it/s, episode_reward=403, running_reward=293]"
     ]
    },
    {
     "output_type": "stream",
     "name": "stderr",
     "text": [
      "\r\n",
      "  4%|▍         | 440/10000 [02:21<1:22:54,  1.92it/s, episode_reward=500, running_reward=297]"
     ]
    },
    {
     "output_type": "stream",
     "name": "stderr",
     "text": [
      "\r\n",
      "  4%|▍         | 441/10000 [02:21<1:24:24,  1.89it/s, episode_reward=500, running_reward=297]"
     ]
    },
    {
     "output_type": "stream",
     "name": "stderr",
     "text": [
      "\r\n",
      "  4%|▍         | 441/10000 [02:22<1:24:24,  1.89it/s, episode_reward=230, running_reward=298]"
     ]
    },
    {
     "output_type": "stream",
     "name": "stderr",
     "text": [
      "\r\n",
      "  4%|▍         | 442/10000 [02:22<1:11:57,  2.21it/s, episode_reward=230, running_reward=298]"
     ]
    },
    {
     "output_type": "stream",
     "name": "stderr",
     "text": [
      "\r\n",
      "  4%|▍         | 442/10000 [02:22<1:11:57,  2.21it/s, episode_reward=212, running_reward=299]"
     ]
    },
    {
     "output_type": "stream",
     "name": "stderr",
     "text": [
      "\r\n",
      "  4%|▍         | 443/10000 [02:22<1:01:50,  2.58it/s, episode_reward=212, running_reward=299]"
     ]
    },
    {
     "output_type": "stream",
     "name": "stderr",
     "text": [
      "\r\n",
      "  4%|▍         | 443/10000 [02:22<1:01:50,  2.58it/s, episode_reward=230, running_reward=301]"
     ]
    },
    {
     "output_type": "stream",
     "name": "stderr",
     "text": [
      "\r\n",
      "  4%|▍         | 444/10000 [02:22<56:21,  2.83it/s, episode_reward=230, running_reward=301]  "
     ]
    },
    {
     "output_type": "stream",
     "name": "stderr",
     "text": [
      "\r\n",
      "  4%|▍         | 444/10000 [02:22<56:21,  2.83it/s, episode_reward=225, running_reward=302]"
     ]
    },
    {
     "output_type": "stream",
     "name": "stderr",
     "text": [
      "\r\n",
      "  4%|▍         | 445/10000 [02:22<52:47,  3.02it/s, episode_reward=225, running_reward=302]"
     ]
    },
    {
     "output_type": "stream",
     "name": "stderr",
     "text": [
      "\r\n",
      "  4%|▍         | 445/10000 [02:23<52:47,  3.02it/s, episode_reward=500, running_reward=306]"
     ]
    },
    {
     "output_type": "stream",
     "name": "stderr",
     "text": [
      "\r\n",
      "  4%|▍         | 446/10000 [02:23<1:04:22,  2.47it/s, episode_reward=500, running_reward=306]"
     ]
    },
    {
     "output_type": "stream",
     "name": "stderr",
     "text": [
      "\r\n",
      "  4%|▍         | 446/10000 [02:24<1:04:22,  2.47it/s, episode_reward=500, running_reward=309]"
     ]
    },
    {
     "output_type": "stream",
     "name": "stderr",
     "text": [
      "\r\n",
      "  4%|▍         | 447/10000 [02:24<1:11:30,  2.23it/s, episode_reward=500, running_reward=309]"
     ]
    },
    {
     "output_type": "stream",
     "name": "stderr",
     "text": [
      "\r\n",
      "  4%|▍         | 447/10000 [02:24<1:11:30,  2.23it/s, episode_reward=239, running_reward=310]"
     ]
    },
    {
     "output_type": "stream",
     "name": "stderr",
     "text": [
      "\r\n",
      "  4%|▍         | 448/10000 [02:24<1:04:31,  2.47it/s, episode_reward=239, running_reward=310]"
     ]
    },
    {
     "output_type": "stream",
     "name": "stderr",
     "text": [
      "\r\n",
      "  4%|▍         | 448/10000 [02:24<1:04:31,  2.47it/s, episode_reward=293, running_reward=312]"
     ]
    },
    {
     "output_type": "stream",
     "name": "stderr",
     "text": [
      "\r\n",
      "  4%|▍         | 449/10000 [02:24<1:03:07,  2.52it/s, episode_reward=293, running_reward=312]"
     ]
    },
    {
     "output_type": "stream",
     "name": "stderr",
     "text": [
      "\r\n",
      "  4%|▍         | 449/10000 [02:25<1:03:07,  2.52it/s, episode_reward=500, running_reward=316]"
     ]
    },
    {
     "output_type": "stream",
     "name": "stderr",
     "text": [
      "\r\n",
      "  4%|▍         | 450/10000 [02:25<1:11:42,  2.22it/s, episode_reward=500, running_reward=316]"
     ]
    },
    {
     "output_type": "stream",
     "name": "stderr",
     "text": [
      "\r\n",
      "  4%|▍         | 450/10000 [02:25<1:11:42,  2.22it/s, episode_reward=500, running_reward=320]"
     ]
    },
    {
     "output_type": "stream",
     "name": "stderr",
     "text": [
      "\r\n",
      "  5%|▍         | 451/10000 [02:25<1:16:58,  2.07it/s, episode_reward=500, running_reward=320]"
     ]
    },
    {
     "output_type": "stream",
     "name": "stderr",
     "text": [
      "\r\n",
      "  5%|▍         | 451/10000 [02:26<1:16:58,  2.07it/s, episode_reward=500, running_reward=324]"
     ]
    },
    {
     "output_type": "stream",
     "name": "stderr",
     "text": [
      "\r\n",
      "  5%|▍         | 452/10000 [02:26<1:19:50,  1.99it/s, episode_reward=500, running_reward=324]"
     ]
    },
    {
     "output_type": "stream",
     "name": "stderr",
     "text": [
      "\r\n",
      "  5%|▍         | 452/10000 [02:26<1:19:50,  1.99it/s, episode_reward=500, running_reward=328]"
     ]
    },
    {
     "output_type": "stream",
     "name": "stderr",
     "text": [
      "\r\n",
      "  5%|▍         | 453/10000 [02:27<1:22:02,  1.94it/s, episode_reward=500, running_reward=328]"
     ]
    },
    {
     "output_type": "stream",
     "name": "stderr",
     "text": [
      "\r\n",
      "  5%|▍         | 453/10000 [02:27<1:22:02,  1.94it/s, episode_reward=500, running_reward=331]"
     ]
    },
    {
     "output_type": "stream",
     "name": "stderr",
     "text": [
      "\r\n",
      "  5%|▍         | 454/10000 [02:27<1:23:55,  1.90it/s, episode_reward=500, running_reward=331]"
     ]
    },
    {
     "output_type": "stream",
     "name": "stderr",
     "text": [
      "\r\n",
      "  5%|▍         | 454/10000 [02:28<1:23:55,  1.90it/s, episode_reward=500, running_reward=335]"
     ]
    },
    {
     "output_type": "stream",
     "name": "stderr",
     "text": [
      "\r\n",
      "  5%|▍         | 455/10000 [02:28<1:26:11,  1.85it/s, episode_reward=500, running_reward=335]"
     ]
    },
    {
     "output_type": "stream",
     "name": "stderr",
     "text": [
      "\r\n",
      "  5%|▍         | 455/10000 [02:28<1:26:11,  1.85it/s, episode_reward=500, running_reward=339]"
     ]
    },
    {
     "output_type": "stream",
     "name": "stderr",
     "text": [
      "\r\n",
      "  5%|▍         | 456/10000 [02:28<1:26:25,  1.84it/s, episode_reward=500, running_reward=339]"
     ]
    },
    {
     "output_type": "stream",
     "name": "stderr",
     "text": [
      "\r\n",
      "  5%|▍         | 456/10000 [02:29<1:26:25,  1.84it/s, episode_reward=500, running_reward=343]"
     ]
    },
    {
     "output_type": "stream",
     "name": "stderr",
     "text": [
      "\r\n",
      "  5%|▍         | 457/10000 [02:29<1:26:40,  1.84it/s, episode_reward=500, running_reward=343]"
     ]
    },
    {
     "output_type": "stream",
     "name": "stderr",
     "text": [
      "\r\n",
      "  5%|▍         | 457/10000 [02:29<1:26:40,  1.84it/s, episode_reward=500, running_reward=347]"
     ]
    },
    {
     "output_type": "stream",
     "name": "stderr",
     "text": [
      "\r\n",
      "  5%|▍         | 458/10000 [02:29<1:26:22,  1.84it/s, episode_reward=500, running_reward=347]"
     ]
    },
    {
     "output_type": "stream",
     "name": "stderr",
     "text": [
      "\r\n",
      "  5%|▍         | 458/10000 [02:30<1:26:22,  1.84it/s, episode_reward=500, running_reward=351]"
     ]
    },
    {
     "output_type": "stream",
     "name": "stderr",
     "text": [
      "\r\n",
      "  5%|▍         | 459/10000 [02:30<1:26:24,  1.84it/s, episode_reward=500, running_reward=351]"
     ]
    },
    {
     "output_type": "stream",
     "name": "stderr",
     "text": [
      "\r\n",
      "  5%|▍         | 459/10000 [02:30<1:26:24,  1.84it/s, episode_reward=500, running_reward=355]"
     ]
    },
    {
     "output_type": "stream",
     "name": "stderr",
     "text": [
      "\r\n",
      "  5%|▍         | 460/10000 [02:30<1:26:28,  1.84it/s, episode_reward=500, running_reward=355]"
     ]
    },
    {
     "output_type": "stream",
     "name": "stderr",
     "text": [
      "\r\n",
      "  5%|▍         | 460/10000 [02:31<1:26:28,  1.84it/s, episode_reward=500, running_reward=359]"
     ]
    },
    {
     "output_type": "stream",
     "name": "stderr",
     "text": [
      "\r\n",
      "  5%|▍         | 461/10000 [02:31<1:26:39,  1.83it/s, episode_reward=500, running_reward=359]"
     ]
    },
    {
     "output_type": "stream",
     "name": "stderr",
     "text": [
      "\r\n",
      "  5%|▍         | 461/10000 [02:31<1:26:39,  1.83it/s, episode_reward=500, running_reward=363]"
     ]
    },
    {
     "output_type": "stream",
     "name": "stderr",
     "text": [
      "\r\n",
      "  5%|▍         | 462/10000 [02:31<1:26:37,  1.84it/s, episode_reward=500, running_reward=363]"
     ]
    },
    {
     "output_type": "stream",
     "name": "stderr",
     "text": [
      "\r\n",
      "  5%|▍         | 462/10000 [02:32<1:26:37,  1.84it/s, episode_reward=500, running_reward=366]"
     ]
    },
    {
     "output_type": "stream",
     "name": "stderr",
     "text": [
      "\r\n",
      "  5%|▍         | 463/10000 [02:32<1:27:00,  1.83it/s, episode_reward=500, running_reward=366]"
     ]
    },
    {
     "output_type": "stream",
     "name": "stderr",
     "text": [
      "\r\n",
      "  5%|▍         | 463/10000 [02:33<1:27:00,  1.83it/s, episode_reward=500, running_reward=370]"
     ]
    },
    {
     "output_type": "stream",
     "name": "stderr",
     "text": [
      "\r\n",
      "  5%|▍         | 464/10000 [02:33<1:26:55,  1.83it/s, episode_reward=500, running_reward=370]"
     ]
    },
    {
     "output_type": "stream",
     "name": "stderr",
     "text": [
      "\r\n",
      "  5%|▍         | 464/10000 [02:33<1:26:55,  1.83it/s, episode_reward=500, running_reward=374]"
     ]
    },
    {
     "output_type": "stream",
     "name": "stderr",
     "text": [
      "\r\n",
      "  5%|▍         | 465/10000 [02:33<1:26:46,  1.83it/s, episode_reward=500, running_reward=374]"
     ]
    },
    {
     "output_type": "stream",
     "name": "stderr",
     "text": [
      "\r\n",
      "  5%|▍         | 465/10000 [02:34<1:26:46,  1.83it/s, episode_reward=500, running_reward=377]"
     ]
    },
    {
     "output_type": "stream",
     "name": "stderr",
     "text": [
      "\r\n",
      "  5%|▍         | 466/10000 [02:34<1:26:41,  1.83it/s, episode_reward=500, running_reward=377]"
     ]
    },
    {
     "output_type": "stream",
     "name": "stderr",
     "text": [
      "\r\n",
      "  5%|▍         | 466/10000 [02:34<1:26:41,  1.83it/s, episode_reward=500, running_reward=381]"
     ]
    },
    {
     "output_type": "stream",
     "name": "stderr",
     "text": [
      "\r\n",
      "  5%|▍         | 467/10000 [02:34<1:27:35,  1.81it/s, episode_reward=500, running_reward=381]"
     ]
    },
    {
     "output_type": "stream",
     "name": "stderr",
     "text": [
      "\r\n",
      "  5%|▍         | 467/10000 [02:35<1:27:35,  1.81it/s, episode_reward=500, running_reward=385]"
     ]
    },
    {
     "output_type": "stream",
     "name": "stderr",
     "text": [
      "\r\n",
      "  5%|▍         | 468/10000 [02:35<1:29:55,  1.77it/s, episode_reward=500, running_reward=385]"
     ]
    },
    {
     "output_type": "stream",
     "name": "stderr",
     "text": [
      "\r\n",
      "  5%|▍         | 468/10000 [02:35<1:29:55,  1.77it/s, episode_reward=500, running_reward=388]"
     ]
    },
    {
     "output_type": "stream",
     "name": "stderr",
     "text": [
      "\r\n",
      "  5%|▍         | 469/10000 [02:35<1:31:49,  1.73it/s, episode_reward=500, running_reward=388]"
     ]
    },
    {
     "output_type": "stream",
     "name": "stderr",
     "text": [
      "\r\n",
      "  5%|▍         | 469/10000 [02:36<1:31:49,  1.73it/s, episode_reward=500, running_reward=392]"
     ]
    },
    {
     "output_type": "stream",
     "name": "stderr",
     "text": [
      "\r\n",
      "  5%|▍         | 470/10000 [02:36<1:31:54,  1.73it/s, episode_reward=500, running_reward=392]"
     ]
    },
    {
     "output_type": "stream",
     "name": "stderr",
     "text": [
      "\r\n",
      "  5%|▍         | 470/10000 [02:37<1:31:54,  1.73it/s, episode_reward=500, running_reward=395]"
     ]
    },
    {
     "output_type": "stream",
     "name": "stderr",
     "text": [
      "\r\n",
      "  5%|▍         | 471/10000 [02:37<1:32:36,  1.71it/s, episode_reward=500, running_reward=395]"
     ]
    },
    {
     "output_type": "stream",
     "name": "stderr",
     "text": [
      "\r\n",
      "  5%|▍         | 471/10000 [02:37<1:32:36,  1.71it/s, episode_reward=500, running_reward=399]"
     ]
    },
    {
     "output_type": "stream",
     "name": "stderr",
     "text": [
      "\r\n",
      "  5%|▍         | 472/10000 [02:37<1:32:18,  1.72it/s, episode_reward=500, running_reward=399]"
     ]
    },
    {
     "output_type": "stream",
     "name": "stderr",
     "text": [
      "\r\n",
      "  5%|▍         | 472/10000 [02:38<1:32:18,  1.72it/s, episode_reward=500, running_reward=403]"
     ]
    },
    {
     "output_type": "stream",
     "name": "stderr",
     "text": [
      "\r\n",
      "  5%|▍         | 473/10000 [02:38<1:31:22,  1.74it/s, episode_reward=500, running_reward=403]"
     ]
    },
    {
     "output_type": "stream",
     "name": "stderr",
     "text": [
      "\r\n",
      "  5%|▍         | 473/10000 [02:38<1:31:22,  1.74it/s, episode_reward=500, running_reward=406]"
     ]
    },
    {
     "output_type": "stream",
     "name": "stderr",
     "text": [
      "\r\n",
      "  5%|▍         | 474/10000 [02:38<1:30:17,  1.76it/s, episode_reward=500, running_reward=406]"
     ]
    },
    {
     "output_type": "stream",
     "name": "stderr",
     "text": [
      "\r\n",
      "  5%|▍         | 474/10000 [02:39<1:30:17,  1.76it/s, episode_reward=500, running_reward=410]"
     ]
    },
    {
     "output_type": "stream",
     "name": "stderr",
     "text": [
      "\r\n",
      "  5%|▍         | 475/10000 [02:39<1:32:13,  1.72it/s, episode_reward=500, running_reward=410]"
     ]
    },
    {
     "output_type": "stream",
     "name": "stderr",
     "text": [
      "\r\n",
      "  5%|▍         | 475/10000 [02:39<1:32:13,  1.72it/s, episode_reward=500, running_reward=414]"
     ]
    },
    {
     "output_type": "stream",
     "name": "stderr",
     "text": [
      "\r\n",
      "  5%|▍         | 476/10000 [02:39<1:31:13,  1.74it/s, episode_reward=500, running_reward=414]"
     ]
    },
    {
     "output_type": "stream",
     "name": "stderr",
     "text": [
      "\r\n",
      "  5%|▍         | 476/10000 [02:40<1:31:13,  1.74it/s, episode_reward=500, running_reward=417]"
     ]
    },
    {
     "output_type": "stream",
     "name": "stderr",
     "text": [
      "\r\n",
      "  5%|▍         | 477/10000 [02:40<1:31:54,  1.73it/s, episode_reward=500, running_reward=417]"
     ]
    },
    {
     "output_type": "stream",
     "name": "stderr",
     "text": [
      "\r\n",
      "  5%|▍         | 477/10000 [02:41<1:31:54,  1.73it/s, episode_reward=500, running_reward=421]"
     ]
    },
    {
     "output_type": "stream",
     "name": "stderr",
     "text": [
      "\r\n",
      "  5%|▍         | 478/10000 [02:41<1:31:02,  1.74it/s, episode_reward=500, running_reward=421]"
     ]
    },
    {
     "output_type": "stream",
     "name": "stderr",
     "text": [
      "\r\n",
      "  5%|▍         | 478/10000 [02:41<1:31:02,  1.74it/s, episode_reward=500, running_reward=424]"
     ]
    },
    {
     "output_type": "stream",
     "name": "stderr",
     "text": [
      "\r\n",
      "  5%|▍         | 479/10000 [02:41<1:31:05,  1.74it/s, episode_reward=500, running_reward=424]"
     ]
    },
    {
     "output_type": "stream",
     "name": "stderr",
     "text": [
      "\r\n",
      "  5%|▍         | 479/10000 [02:42<1:31:05,  1.74it/s, episode_reward=500, running_reward=428]"
     ]
    },
    {
     "output_type": "stream",
     "name": "stderr",
     "text": [
      "\r\n",
      "  5%|▍         | 480/10000 [02:42<1:30:05,  1.76it/s, episode_reward=500, running_reward=428]"
     ]
    },
    {
     "output_type": "stream",
     "name": "stderr",
     "text": [
      "\r\n",
      "  5%|▍         | 480/10000 [02:42<1:30:05,  1.76it/s, episode_reward=500, running_reward=431]"
     ]
    },
    {
     "output_type": "stream",
     "name": "stderr",
     "text": [
      "\r\n",
      "  5%|▍         | 481/10000 [02:42<1:29:17,  1.78it/s, episode_reward=500, running_reward=431]"
     ]
    },
    {
     "output_type": "stream",
     "name": "stderr",
     "text": [
      "\r\n",
      "  5%|▍         | 481/10000 [02:43<1:29:17,  1.78it/s, episode_reward=500, running_reward=435]"
     ]
    },
    {
     "output_type": "stream",
     "name": "stderr",
     "text": [
      "\r\n",
      "  5%|▍         | 482/10000 [02:43<1:28:39,  1.79it/s, episode_reward=500, running_reward=435]"
     ]
    },
    {
     "output_type": "stream",
     "name": "stderr",
     "text": [
      "\r\n",
      "  5%|▍         | 482/10000 [02:43<1:28:39,  1.79it/s, episode_reward=500, running_reward=438]"
     ]
    },
    {
     "output_type": "stream",
     "name": "stderr",
     "text": [
      "\r\n",
      "  5%|▍         | 483/10000 [02:43<1:29:13,  1.78it/s, episode_reward=500, running_reward=438]"
     ]
    },
    {
     "output_type": "stream",
     "name": "stderr",
     "text": [
      "\r\n",
      "  5%|▍         | 483/10000 [02:44<1:29:13,  1.78it/s, episode_reward=500, running_reward=442]"
     ]
    },
    {
     "output_type": "stream",
     "name": "stderr",
     "text": [
      "\r\n",
      "  5%|▍         | 484/10000 [02:44<1:28:24,  1.79it/s, episode_reward=500, running_reward=442]"
     ]
    },
    {
     "output_type": "stream",
     "name": "stderr",
     "text": [
      "\r\n",
      "  5%|▍         | 484/10000 [02:44<1:28:24,  1.79it/s, episode_reward=500, running_reward=446]"
     ]
    },
    {
     "output_type": "stream",
     "name": "stderr",
     "text": [
      "\r\n",
      "  5%|▍         | 485/10000 [02:44<1:28:15,  1.80it/s, episode_reward=500, running_reward=446]"
     ]
    },
    {
     "output_type": "stream",
     "name": "stderr",
     "text": [
      "\r\n",
      "  5%|▍         | 485/10000 [02:45<1:28:15,  1.80it/s, episode_reward=500, running_reward=449]"
     ]
    },
    {
     "output_type": "stream",
     "name": "stderr",
     "text": [
      "\r\n",
      "  5%|▍         | 486/10000 [02:45<1:27:52,  1.80it/s, episode_reward=500, running_reward=449]"
     ]
    },
    {
     "output_type": "stream",
     "name": "stderr",
     "text": [
      "\r\n",
      "  5%|▍         | 486/10000 [02:46<1:27:52,  1.80it/s, episode_reward=500, running_reward=452]"
     ]
    },
    {
     "output_type": "stream",
     "name": "stderr",
     "text": [
      "\r\n",
      "  5%|▍         | 487/10000 [02:46<1:27:31,  1.81it/s, episode_reward=500, running_reward=452]"
     ]
    },
    {
     "output_type": "stream",
     "name": "stderr",
     "text": [
      "\r\n",
      "  5%|▍         | 487/10000 [02:46<1:27:31,  1.81it/s, episode_reward=500, running_reward=456]"
     ]
    },
    {
     "output_type": "stream",
     "name": "stderr",
     "text": [
      "\r\n",
      "  5%|▍         | 488/10000 [02:46<1:29:17,  1.78it/s, episode_reward=500, running_reward=456]"
     ]
    },
    {
     "output_type": "stream",
     "name": "stderr",
     "text": [
      "\r\n",
      "  5%|▍         | 488/10000 [02:47<1:29:17,  1.78it/s, episode_reward=500, running_reward=459]"
     ]
    },
    {
     "output_type": "stream",
     "name": "stderr",
     "text": [
      "\r\n",
      "  5%|▍         | 489/10000 [02:47<1:29:55,  1.76it/s, episode_reward=500, running_reward=459]"
     ]
    },
    {
     "output_type": "stream",
     "name": "stderr",
     "text": [
      "\r\n",
      "  5%|▍         | 489/10000 [02:47<1:29:55,  1.76it/s, episode_reward=500, running_reward=463]"
     ]
    },
    {
     "output_type": "stream",
     "name": "stderr",
     "text": [
      "\r\n",
      "  5%|▍         | 490/10000 [02:47<1:31:28,  1.73it/s, episode_reward=500, running_reward=463]"
     ]
    },
    {
     "output_type": "stream",
     "name": "stderr",
     "text": [
      "\r\n",
      "  5%|▍         | 490/10000 [02:48<1:31:28,  1.73it/s, episode_reward=500, running_reward=466]"
     ]
    },
    {
     "output_type": "stream",
     "name": "stderr",
     "text": [
      "\r\n",
      "  5%|▍         | 491/10000 [02:48<1:31:21,  1.73it/s, episode_reward=500, running_reward=466]"
     ]
    },
    {
     "output_type": "stream",
     "name": "stderr",
     "text": [
      "\r\n",
      "  5%|▍         | 491/10000 [02:48<1:31:21,  1.73it/s, episode_reward=500, running_reward=469]"
     ]
    },
    {
     "output_type": "stream",
     "name": "stderr",
     "text": [
      "\r\n",
      "  5%|▍         | 492/10000 [02:49<1:31:07,  1.74it/s, episode_reward=500, running_reward=469]"
     ]
    },
    {
     "output_type": "stream",
     "name": "stderr",
     "text": [
      "\r\n",
      "  5%|▍         | 492/10000 [02:49<1:31:07,  1.74it/s, episode_reward=500, running_reward=472]"
     ]
    },
    {
     "output_type": "stream",
     "name": "stderr",
     "text": [
      "\r\n",
      "  5%|▍         | 493/10000 [02:49<1:30:23,  1.75it/s, episode_reward=500, running_reward=472]"
     ]
    },
    {
     "output_type": "stream",
     "name": "stderr",
     "text": [
      "\r\n",
      "  5%|▍         | 493/10000 [02:50<1:30:23,  1.75it/s, episode_reward=500, running_reward=476]"
     ]
    },
    {
     "output_type": "stream",
     "name": "stderr",
     "text": [
      "\r\n",
      "  5%|▍         | 493/10000 [02:50<54:40,  2.90it/s, episode_reward=500, running_reward=476]  "
     ]
    },
    {
     "output_type": "stream",
     "name": "stdout",
     "text": [
      "\n",
      "Solved at episode 493: average reward: 475.68!\n",
      "CPU times: user 6min 44s, sys: 1min 32s, total: 8min 16s\n",
      "Wall time: 2min 50s\n"
     ]
    },
    {
     "output_type": "stream",
     "name": "stderr",
     "text": [
      "\n"
     ]
    }
   ],
   "metadata": {
    "execution": {
     "iopub.execute_input": "2022-10-28T01:25:03.263945Z",
     "iopub.status.busy": "2022-10-28T01:25:03.263293Z",
     "iopub.status.idle": "2022-10-28T01:27:53.376288Z",
     "shell.execute_reply": "2022-10-28T01:27:53.375541Z"
    },
    "id": "kbmBxnzLiUJx"
   }
  },
  {
   "cell_type": "markdown",
   "source": [
    "## Visualization\n",
    "\n",
    "After training, it would be good to visualize how the model performs in the environment. You can run the cells below to generate a GIF animation of one episode run of the model. Note that additional packages need to be installed for Gym to render the environment's images correctly in Colab."
   ],
   "metadata": {
    "id": "ru8BEwS1EmAv"
   }
  },
  {
   "cell_type": "code",
   "execution_count": null,
   "source": [
    "# Render an episode and save as a GIF file\n",
    "\n",
    "from IPython import display as ipythondisplay\n",
    "from PIL import Image\n",
    "\n",
    "render_env = gym.make(\"CartPole-v1\", render_mode='rgb_array')\n",
    "\n",
    "def render_episode(env: gym.Env, model: tf.keras.Model, max_steps: int): \n",
    "  state, info = render_env.reset()\n",
    "  state = tf.constant(state, dtype=tf.float32)\n",
    "  screen = render_env.render()\n",
    "  images = [Image.fromarray(screen)]\n",
    " \n",
    "  for i in range(1, max_steps + 1):\n",
    "    state = tf.expand_dims(state, 0)\n",
    "    action_probs, _ = model(state)\n",
    "    action = np.argmax(np.squeeze(action_probs))\n",
    "\n",
    "    state, reward, done, truncated, info = render_env.step(action)\n",
    "    state = tf.constant(state, dtype=tf.float32)\n",
    "\n",
    "    # Render screen every 10 steps\n",
    "    if i % 10 == 0:\n",
    "      screen = render_env.render()\n",
    "      images.append(Image.fromarray(screen))\n",
    "  \n",
    "    if done:\n",
    "      break\n",
    "  \n",
    "  return images\n",
    "\n",
    "\n",
    "# Save GIF image\n",
    "images = render_episode(env, model, max_steps_per_episode)\n",
    "image_file = 'cartpole-v1.gif'\n",
    "# loop=0: loop forever, duration=1: play each frame for 1ms\n",
    "images[0].save(\n",
    "    image_file, save_all=True, append_images=images[1:], loop=0, duration=1)"
   ],
   "outputs": [],
   "metadata": {
    "execution": {
     "iopub.execute_input": "2022-10-28T01:27:53.380618Z",
     "iopub.status.busy": "2022-10-28T01:27:53.380343Z",
     "iopub.status.idle": "2022-10-28T01:27:55.731043Z",
     "shell.execute_reply": "2022-10-28T01:27:55.730326Z"
    },
    "id": "qbIMMkfmRHyC"
   }
  },
  {
   "cell_type": "code",
   "execution_count": null,
   "source": [
    "import tensorflow_docs.vis.embed as embed\n",
    "embed.embed_file(image_file)"
   ],
   "outputs": [
    {
     "output_type": "execute_result",
     "data": {
      "text/plain": [
       "<IPython.core.display.HTML object>"
      ],
      "text/html": [
       "<img src=\"data:image/gif;base64,R0lGODlhWAKQAYQAAP////37+fv38/jz7fbv5/bu5vTq4PLm2vDi1O7ezuzayOrWwujSvOXOtuXNtcqYZZ6MoYiGwIGEy19HL1dBK087J0c2Iz8vHzcpGy8jFycdEx4XDxYRCw4LBwcFAwAAACH/C05FVFNDQVBFMi4wAwEAAAAsAAAAAFgCkAEACP8AAQgcSLCgwYMIEypcyLChw4cQI0qcSLGixYsYM2rcyLGjx48gQ4ocSbKkyZMoU6pcybKly5cwY8qcSbOmzZs4c+rcybOnz59AgwodSrSo0aNIkypdyrSp06dQo0qdSrWq1atYs2rdyrWr169gw4odS7as2bNo06pdy7at27dw48qdS7eu3bt48+rdy7ev37+AAwseTLiw4cOIEytezLix48eQI0ueTLmy5cuYM2vezLmz58+gQ4seTbq06dOoU6tezbq169ewY8ueTbu27du4c+vezbu379/AgwsfTry48ePIkytfzry58+fQo0ufTr269evYs2vfzr279+/gw4v/H0++vPnz6NOrX8++vfv38OPLn0+/vv37+PPr38+/v///AAYo4IAEFmjggQgmqOCCDDbo4IMQRijhhBRWaOGFGGao4YYcdujhhyCGKOKIJJZo4okopqjiiiy26OKLMMYo44w01mjjjTjmqOOOPPbo449ABinkkEQWaeSRSCap5JJMNunkk1BGKeWUVFZp5ZVYZqnlllx26eWXYIYp5phklmnmmWimqeaabLbp5ptwxinnnHTWaeedeOap55589unnn4AGKuighBZq6KGIJqrooow26uijkEYq6aSUVmrppZhmqummnHbq6aeghirqqKSWauqpqKaq6qqsturqq7DG/yrrrLTWauutuOaq66689urrr8AGK+ywxBZr7HYPJKvssg8cW1gAzEbrLGECRMvstIMNYO2y2ApWwLbKdhuYAeAmKy5gB5Tb7Ll+IaAuu34l8C68fCkwL716LXAvvngxsC+/djnwL8B0qdsAwXipywDCd6m7AMN2qasAxHWpmwDFBZeLAMZzqXsAx3KpawDIcalLAMlwqTsAym+pKwDLbqkbAMxtDUyzWdCWe/Na1eq8c1ra+vzzWd8KPXRZ5Bp99FjpKr10WO46/fRX8ko9dVf2Wn31VvpqvXVW/nr99VUCiz12VQaf/ZXCanvlcNtdSQw3VxbPvZW6G9udlcd67/9d7sh9X2Vy4IKXuzLhaJf7MuJUycx442Y/flTO4EouVc+VWw5V0Jlr7lTRnXvOVNKhi65U06WbjlTUqatuVNWtu05U1rHLLlTXtdsOVNi56+5TAzb7DlTawhfFdvFEvY38UHIvL1TdzgeFd/TSl/sx9T+JjH325Z68fU8qfw++4uLz5Hj5OgWPvkyUb7t+Tpi7//5NnMs/f02g23//TKTrv39MqPPf/17COgEOsCWwM+ABV0I7BS4wJbhz4ANPwjsJTrAkwIvcBUNCvA2u5HgeVInyQpiS5pEQJdA74Ummp8IVWq+FLgQX4GBIksHRsIaGuyEOwbU4HXKwXDPz4Q//eydEi7TPWkUESfyQmESP1I+JTeQIAdQXRYr0D4pVzEgAsZjFixSQi12sSALBGMaJNJCMZYxIBNGYxodUkI1R/IAc50jHOtZxAuqyox7t2MI9+nGO6prAH/3Yx0HuUV0UMKQeC6nIOioLAhGQQAQgoKwKNLKOjLykHJMlgU56UgLJsoAm55hJTT7gk6h8wAVGKcdSXhKVsMQAKz/gykbCEpUZmGUtFXnLT2pAlyqc5Qd66ckNAPOEwiRmJzlwTBIK85S9fEAHmhnCZ0IzlQ/wADU9aM0HQFKSlEyWMHcpzHK2skHmTKc618nOdrrznfCMpzznSc962vOe+MynPgd5oaF9/pGc/gToPgWqT4Lm06D4ROg9FWpPhtbTofSE6DwlKk+KxtOi8MToO9vI0Y569KMgDalIR0rSkpr0pChNqUpXytKWuvSlMI2pTGdK05ra9KY4zalOd8rTnvr0p0ANqlCHStSiGvWoSE2qUpfK1KY69alQjapUp0rVqlr1qljNqla3ytWuevWrYA2rWMdK1rKa9axoTata18rWtroVPgEBACwXAa0AOgCOAIb////+/v7+/f39/Pv9/Pr9+/n8+vj8+ff7+PX7+PT79/P69vL69fH59O/59O748+348uv48ev38On38Oj37+j27ub27uX17eT17OP16+L06uD06t/z6d7z6N3y59zy5try5tnx5djx5Nfw49bw4tTw4tPv4dLv4NHv4NDu39Du3s7u3s3t3c3t3czt3Mvs28rs28ns2sjr2cfr2MXq18Tq18Pq1sLp1cHp1L/o077o073o0rzn0bvn0Lnmz7jmz7flzrblzbXlzLPkzLPKmGWejKGIhsCBhMspHhQlHBIiGhEeFw8bFA0YEgwVEAoSDQkOCwcLCAUIBgQFBAICAQEAAAAAAAAAAAAAAAAAAAAAAAAAAAAAAAAAAAAAAAAAAAAAAAAAAAAAAAAAAAAAAAAAAAAAAAAAAAAAAAAAAAAAAAAAAAAAAAAAAAAAAAAAAAAAAAAAAAAAAAAAAAAAAAAAAAAAAAAAAAAAAAAAAAAAAAAAAAAAAAAAAAAAAAAAAAAI/wABCBxIsKBBgkQSKlxIRMDBhxAjSgTAsCKBiRgzHqzI0IDGjxo5LkQAsqREkQoVmFy5ESURBixjDnRJxIFMmTQh3IxJU8JOljQr/FxJ88JQkzQzHC1Jc8NSkDQ7PP1I88PUkC5DXM1Ic8RWjDRLfJ1IE8XYky5VnI1I08VaiDRhvH1IU8bclihp3DVI08begjRx/EXoUsfgmS55HBZI08diii6DPKY55HEQmo9/YF7cY/PhHZ4H5wj99wbpvTVO352hem6M1m9dwF67YvbZFLbHmsj9lQTvrSJ+XwUhfKqH4k85IF+qYflRDM6HVoj+cwL1nRGu33ygXWaD7jEXgP9nmWD8ygPmTRZIX3IAe6YuH0NGGWCyywH2URbIL/IAf44J/FfRAgIy1ECBCz2AoEIRLJgQBQ4SYUGEGESoQYQcROhBhCBEKEKEJERoQoQpRMhChC9EGEOEM0RYQ4Q3RJhDhDtE2EOEP0Qo2WJCvPcRED5q5EOQGfFAJEY6HDkRDkpKZEOTEdEAJUQyTPkQDFYe1EKWBqnAZUEnfElQCWIONEKZAoWAJgAfrNmBeVXEKeecdM6JBE115pnnQXr2GWcSePrZJ5+C5qlEoIXWSWiicy6hUBFGHGFEEQoxqqhBls7JREJHdOrpEQllOueimTZBxKeoEiGqnKRa6gSqsK59GmerjD4BK6qyVkFrolDc+mmuuxYaha+eAovpqlIQ26mxBck6xam+qiprsIJSwSmsoU577KqPRjpppdo2m+u45JZLLrXmropuupmuyy6j7r5baLzy+klvvXrei++l4u6r7rb+tgtwwPAOTPC8Bh9sb8IK58tww/wSBHGiAQEALB4BrAA4AI8Ahv////7+/v7+/f79/f79/P38+/38+v37+v37+fz6+Pz59/v49fv49Pv38/r28vr18fn07/n07vjz7fjy7Pjx6/fw6ffw6Pfv6Pbv5/bu5vbu5fbt5fXt5PXs4/Xr4vTq4PTq3/Pp3vPo3fLn3PLm2vLm2fHl2PHk1/Dj1vDi1O/h0+/h0u/g0e/g0O7f0O7fz+7ezu7eze3dze3cy+zbyuzbyezayOvZx+vZxurXxOrXw+rWwunVwenUv+jTvujTvejSvOfRu+fQuebPuObPt+XNteXNtOXMs+TMs8qYZZ6MoYiGwIGEy19HL11GLlZAK1Q/Kkw5Jko4JUIxITgqHC8jFyUcEhsUDRINCQgGBAAAAAAAAAAAAAAAAAAAAAAAAAAAAAAAAAAAAAAAAAAAAAAAAAAAAAAAAAAAAAAAAAAAAAAAAAAAAAAAAAAAAAAAAAAAAAAAAAAAAAAAAAAAAAAAAAAAAAAAAAAAAAAAAAAAAAAAAAAAAAAAAAAAAAAAAAj/AAEIHEiwIMEkCBMqTGKwocOHEAsunJggosWLDicufICxY0eNCit4HBkRZEIPJFM2NImQhMqXA1kmUQETpswZNV/KzJFTpcwfPVPKLBKUJBGZRUf6QJq0Iw6mTS/GgBo1YgqqVR+OwJq1YQeuXQtSABt2oAOyZQEcQJtWZoC0GVkqgLuSJQS6BmVewCuR5Qe+B1mWAByTJQvCAmXSQAxApg7GMoFAZmmE8RC2YXtg7npjc1YYnquiCB1VBOmmG04nnaC6aIPWQQvADipzwGSTC26DjKBbY4beE0EAX2hiuMIWxhPWSI5wB/MkQZ4jYSxkdk4e1mvayA7TBfeXJ76r/wwhPmWG8iQloB/JYL1HAu49yizwnMFzCc81PA/x/MTzF8/Z8BwPzwnB2BHxYRREghftwKBFNDwYEQsSQmRChQ+BgKFDGGzYUAQeGrRAiAUJQGJfJhnwXAPPTfAcB8+J8BwKz8Hw3A3P9fDcEIwVceJAQPwokA5CAjBDkSsUWUKRHxRpQZEQFKlAkY2xxFiVJiHwnAPPUfBcB8+N8FwKz8nQkxZopqnmmmrKJAWbcMJZUJx0oikTFHXWOWeecMrkBJ9x7gmomk0kpMQSTCyhREKDsiloo1o8gRATlFbKBEKQqvloo1EkYemnSWSa5qaDTvHpqaKiSSqgVJz6aaparG/KZxWuWgqrrHlaUWultxKU6hW7UtrrQKli4WmtoaaKa51ZTHoqpsr6mqqhiCrKaLTEwqrtttwOK1C34KoqbbjcLkvuoOaey2e66uo5bruisguvnO/O26i89mpab77r7suvu9n+Cyi+/xLMr8H5BgQALCIBHAE0AB8Ahv////7+/v7+/f79/f79/P38+/38+v37+v37+fz6+Pz59/v49fv49Pv38/r28vr18fn07/n07vjz7fjy7Pjx6/fw6ffw6Pfv6Pbv5/bu5vbu5fbt5fXt5PXs4/Xr4vTq4PTq3/Pp3vPo3fLn3PLm2vLm2fHl2PHk1/Dj1vDi1O/h0+/h0u/g0e/g0O7f0O7fz+7ezu7eze3dze3cy+zbyuzbyezayOvZx+vZxurXxOrXw+rWwunVwenUv+jTvujTvejSvOfRu+fQuebPuObPt+XNteXNtOXMs+TMs8qYZZ6MoYiGwIGEy19HL11GLlZAK1Q/Kkw5Jko4JRINCQgGBAAAAAAAAAAAAAAAAAAAAAAAAAAAAAAAAAAAAAAAAAAAAAAAAAAAAAAAAAAAAAAAAAAAAAAAAAAAAAAAAAAAAAAAAAAAAAAAAAAAAAAAAAAAAAAAAAAAAAAAAAAAAAAAAAAAAAAAAAAAAAAAAAAAAAAAAAAAAAAAAAAAAAAAAAAAAAizAKsIHEiwYMEkCBMqTCLFoEODAB5KHLiwIpSJEiNifFhxoZONDjWCLNgEoZIlTJYoUTiyoMiWAp8kYUKzJpOEMAe+hBnFpk+EOQXubOmzaJKgVYaOLPoTqVKQTG0eDfp0Y9SaU3NWxXiVZlaYWydOuQqUKtIqVGYaLav1bBWTKFWyNOu2bki7ePPqdbkXb9i+G/8Cnih48MPChiEmdrqYbuOWiB8nlQyZ8sjIjzE31rwYQEAALB8BrAA2AI8Ahv////7+/v79/f38+/38+v37+fz6+Pz59/v49fv49Pv38/r28vr18fn07/n07vjz7fjy7Pjx6/fw6ffw6Pbu5vbu5fXt5PXs4/Xr4vTq4PTq3/Pp3vPo3fLn3PLm2vLm2fHl2PHk1/Dj1vDi1PDi0+/h0u/g0e7f0O7ezu7eze3dzO3cy+zbyuzbyezayOvZx+vYxerXxOrXw+rWwunVwenUv+jTvujTvejSvOfRu+fQuebPuObPt+XOtuXNteXMs+TMs8qYZZ6MoYiGwIGEy1I+KUw5JkY0Iz8vHzgqHDImGQsIBQUEAgAAAAAAAAAAAAAAAAAAAAAAAAAAAAAAAAAAAAAAAAAAAAAAAAAAAAAAAAAAAAAAAAAAAAAAAAAAAAAAAAAAAAAAAAAAAAAAAAAAAAAAAAAAAAAAAAAAAAAAAAAAAAAAAAAAAAAAAAAAAAAAAAAAAAAAAAAAAAAAAAAAAAAAAAAAAAAAAAAAAAAAAAAAAAAAAAAAAAAAAAAAAAj/AAEIHEiwoMAgCBMqDGKwocOHEAcunEggosWLBicuRICx40WNChl4HPkQZEIIJFMWNImQgsqXAFgGwQBTpUwONVPKBJGTpEwSPUfKRBHUo8wWRTvKjJEUo8waTT+yzBHVosweVSP6kJkVog6uXR3aABvWoAyyZQm6QJtWYAq2bUvATRtibtkOdsNmyNuVAt+sEf5WbSA4aoLCTQsgbro4qcwBbVeyPBCZoMwFlSWyfJD5IMsJnWOyvBBa5obSLD+gNjliNcgTrjWyiD0RBu2FNG4rxKE7IY/QPxoH3SG8543iOWcgr/liOUwVzl+aiK5SBPWUHq6T1KB9pIXuHiWA/+/oYDxGBeYvGkhvUQB7qywF9EZoYH4QBfYd2Jdg34J9DfZ5YJ8I9plg3wr2vWDfDPbdYN8O9gERGg/vQYRDhQ/RgKFDMGzYEAseGnRCiAWNQCJBH5w40AYqCnRBiwBMAOMDMC4A4wEwDgCjaCYFYF8B9iVgXwP2RWBfBfZlYF8H9oVgXwn2pWCfC/bJYJ8N9ulgnw+h9QBjDtE1IeaYZJZZZhEymammmQOt6eaYRqT55pptzrnmEXLaWWadepaJBEJCDEHEEEIo1OeeAh1aZhJBEOHoo0QkpOiYfE6qBKSYIjSpmJUqiumnQWzaRKeHfpqpqKT2aSqkoW6aqp6rPmTa6qSv2hmro7MqWuucS8SqqauJispEo6D+SmuwogIqKKGGAguAqNDauWu01FZrLaLPXnvttNr2yW230iILLrTfjutmueaqiW662LKLqrjuegtvvOFmS6+89t5br7748qvnQAEBACwZAawAOQCPAIb////+/v7+/f39/Pv9/Pr9+/n8+vj8+ff7+PX7+PT79/P69vL69fH59O/59O748+348uz48ev38On38Oj37+j27+f27ub27uX17eT17OP16+L06uD06t/z6d7z6N3y59zy5try5tnx5djx5Nfw49bw4tTw4tPv4dLv4NHu39Du3s7u3s3t3c3t3czt3Mvs28rs28ns2sjr2cfr2MXq18Tq18Pq1sLp1cHp1L/o077o073o0rzn0bvn0Lnmz7jmz7flzrblzbXlzLPkzLPKmGWejKGIhsCBhMsTDgkSDQkQDAgOCwcNCgYLCAUCAQEAAAAAAAAAAAAAAAAAAAAAAAAAAAAAAAAAAAAAAAAAAAAAAAAAAAAAAAAAAAAAAAAAAAAAAAAAAAAAAAAAAAAAAAAAAAAAAAAAAAAAAAAAAAAAAAAAAAAAAAAAAAAAAAAAAAAAAAAAAAAAAAAAAAAAAAAAAAAAAAAAAAAAAAAAAAAAAAAAAAAAAAAAAAAAAAAAAAAI/wABCBxIsGBBIggTKiRisKHDhxANLpwYIKLFiw8nLhSAsaNHjQoHeBxpEWRCAiRTOjSJsIDKlwRZEjEAs6bMAzVhykSQ86XMBD1VylQQNKXMBUVJymSQdKTMBk0/snQQtaPMB1UxyoSQ9aLMCF1LspQQNqJMCmUhyrSQNiPLC21XssQQt6HMDHUlstSQ9yDLDX1jsuQQeKDMDoUFyvSQGIDMD41lgojMMgRlkyIugxyhWSOJzhNLgF5oYrTCE6YTokiNMAVrIipes3jt4vWL1zBex3gt4/WM1zRe13ht4/WN1zhe53it4/WO1zxe93jt4/WP10BeB3k9pLEQmY2DgP9PDGR84R/mA/tI37cH+7w83tfdIT+ujvptc+BPi2N/2Rv+hWVDgF3VQGBWNBxY1QwKRiVDg03FAGFSMExY1AsWBtVChj2twGFOKnxYUwoiwoRCiS+dgKJKJqyYUgkukkRCjCONQKNHItzYUQg6YgRCjxd9AKRFHgwZUQdGQsRBkg9twKRDGjzZUAZSGoRBlQVZgCVBFWw50AReCiRBmABEQCYEZD5ApgMoPuHmm3DGGScSMslpp5wG3annm0nUueedef55pxJ+ChpnoIbGuQRCRRhxhBFFKJTooQVNGicTRByh6aZHJGTpm4h+2gSnpCL0qZuhWkrqqkSc+kSqk652WqqrsCYqK6etnlqrobdumuunuwraq6a/Whrsn070aqqulbr6RKasLgtss64y6iikkjJLkLPc7nlst+CGKy6c346baLnmCopuut5Syy6t7r477bbywktvvfMOhK+2+u5rbLz+/rluwK8CTDCgBh+MZ8IKk1tQQAAsFAGsADgAjwCG/////v7+/v39/fz7/fz6/fv5/Pr4/Pn3+/j1+/j0+/fz+vby+vXx+fTv+fTu+PPt+PLr+PHr9/Dp9/Do9+/o9u7m9u7l9e3k9ezj9evi9Org9Orf8+ne8+jd8ufc8uba8ubZ8eXY8eTX8OPW8OLU8OLT7+HS7+DR7+DQ7t/Q7t7O7t7N7d3N7d3M7dzL7NvK7NvJ7NrI69nH69jF6tfE6tfD6tbC6dXB6dS/6NO+6NO96NK859G759C55s+45s+35c625c215cyz5MyzyphlnoyhiIbAgYTLKR4UJRwSIhoRHhcPGxQNGBIMFRAKEg0JDgsHCwgFCAYEBQQCAgEBAAAAAAAAAAAAAAAAAAAAAAAAAAAAAAAAAAAAAAAAAAAAAAAAAAAAAAAAAAAAAAAAAAAAAAAAAAAAAAAAAAAAAAAAAAAAAAAAAAAAAAAAAAAAAAAAAAAAAAAAAAAAAAAAAAAAAAAAAAAAAAAAAAAAAAAAAAAAAAAAAAAAAAAAAAAACP8AAQgcSLCgQQBEEipcSOSgw4cQIQpgSDGixYsOCVBkiLFjRwMbF3ocGRFBSIUkUx5UcDKhypcDGbRsCPOlg5k1X0LAmTOlBJ49R1YAGrTjBaJFL2ZAmjTiBqZNH3aAGvXgB6pVC4bAmnXgCK5dAZQA2xUF2awqzlZ1oTYqjLZNZcBNSmNuURt2g+LI21MH35w8/tb0IRhmkMIvhyBWOTNIWIgzfzx+OLPHZIczd1w+ODPHZoMzb3wuOLPGaIIzZ5weODPGaoEzXbxG2HLF7Jkpbrc0ofskid4hRQDfCGI4RQ/GGXJIvlADc4UYniesIJ3IhOoRqj+o3qD6guoJqh//qF6g+oDqswMsTjlgPckC7kceiO8xAf2OC+5jbKD/4oP+FkUAYEQUDAiRBQY+hEGCDmnA4EEcPGiQBxIWBEKFBImA4UAkbCiQCR4CkEKILIT4QogxhDhDiDWEeEOIOYS4Q4g9hPhDiIe1VJ0Q1QFRnQ/V8VCdDtXhUJ0N1dFQnQzVwVBdC9WpUN0J1ZVQ3QjVhVDdB9V1kFMVYIYp5phjzoQEmWiSWVCabIY5UxJtsrlmnGnOpASdaM6JZ5kJFWHEEUYUodASe46pZ6FgJnTEoowekRATiIZ5KKJENGopEU1ECuakhVrqqROaVsHpnp5a+kSoo+JZaqNQoEpQqFWsaspoFK4OBKusi0pRq0CwVroqEVPsCkCvvl5KBBXCEkuEn4AKmhCsqcIq7aavTmvttdjSGW22iG7L7Z7efqttteJCS265moaLbprqrqvmue6CC2+849pKb6Ht3ivqvPqyy2+/79oLcJsFBQQALBABrAA3AI8Ahv////7+/v79/f38+/38+v37+fz6+Pz59/v49fv49Pv38/r28vr18fn07/n07vjz7fjy6/jx6/fw6ffw6Pfv6Pbu5vbu5fXt5PXs4/Xr4vTq4PTq3/Pp3vPo3fLn3PLm2vLm2fHl2PHk1/Dj1vDi1PDi0+/h0u/g0e/g0O7f0O7ezu7eze3dze3dzO3cy+zbyuzbyezayOvZx+vYxerXxOrXw+rWwunVwenUv+jTvujTvejSvOfRu+fQuebPuObPt+XOtuXNteXMs+TMs8qYZZ6MoYiGwIGEyykeFCUcEiIaER4XDxsUDRgSDBUQChINCQ4LBwsIBQgGBAUEAgIBAQAAAAAAAAAAAAAAAAAAAAAAAAAAAAAAAAAAAAAAAAAAAAAAAAAAAAAAAAAAAAAAAAAAAAAAAAAAAAAAAAAAAAAAAAAAAAAAAAAAAAAAAAAAAAAAAAAAAAAAAAAAAAAAAAAAAAAAAAAAAAAAAAAAAAAAAAAAAAAAAAAAAAAAAAAAAAj/AAEIHEiwoEEARBIqXEjkoMOHEB8KYEgxosWLBwlQZIixI0YDGxd6HAkRQUiFJFMaVHAyocqXAhm0bAhTpYOZNVVCwJmTpASePT1WABoU4wWiRS1mQJoU4gamTR12gBrV4AeqVQmGwJpV4AiuXUuAzYpibFUVZqO6SNsUBtukMt4WpSE3qI26PXHgzaljb00efmH6CPwyCGGVQw6nnBmkK8SZPxw/nNlDssOZOywfnJlDs8GZNzwXnFlDNMGZM0wPnBlDtcCZLlwjbLlC9swUtluayH2SBO+QIn5vBCGcoofiDDkgX6hhuUIMzhNWiE5kAvUI1B9Qb0B9AfUE1A9Q/y9AfQB12QEUkxygfmSB9h4PwO+YYD7GBfYvNshv8QH/iBH8BxEFAj5kQYEOYYDgQRosaBAHDhbkQYQEgUDhQCJcKBAJGgJgQocpdMhChy90GEOHM3RYQ4c3dJhDhzt02EOHP3RoWEvUCUEdENT5QB0P1OlAHQ7U2UAdDdTJQB0M1LVAnQrUnUBdCdSNQF0I1H1AXQc1VeHll2CGGeZMSIhpppgEnanmlzMlsaaaab555kxKyGlmnHaOmVARRhxhRBEKLZFnmHgO6mVCRySq6BEJMWHol4UaSsSilBLRxKNeRjoopZw6gWkVmubJKaVPfBqqnaMuCoWpA31aRaqKRmbBqkCuwpqoFLMC4OqkqRIxRa678lopEVQA+6lCfPoJaEKunurqs5m2Cu201Fb7prPWGopttnluy62c3n67ZrjinkluuWhKi+6j564LqbrudgtvvODOS++49t5rbr76pktrv9cOFBAALA8BrAA0AI8Agv///8qYZZ6MoYiGwIGEywAAAAAAAAAAAAj/AAEIHEiwYMEACBMqDGCwocOHEAEsnBixosWDExVe3Fgxo0aOIBt6TBiyJMGRCE2qRMlQZUmWLl+ijBkSJk2ONm9ezKmz48yeFnkCfSh0qMifRokiTXp0JFOlTp829Sh1asaqBotW1SqV61OvTMEmFWuU7FCzQNH2VKuT7U23NOHGlOuS7sqlWCXixWrXZF+ZUfMK/Ftz71bDXRF/VRyW8VjHZSGflZyW8lrLbTG/1RyX81zPdUHfDSyYMEjTOEX7VQ2YquDBrAuTzot6Y+2dsU/nTj2b727bv3H3Pjw8cfHFxxsnf7w8cvPJzytHvzw9c/XN1ztn/7w9dPfRrl/f6A4anPz31edbX32tN73s8KXL+3Svmz5v+LTlRxw/H79v+8ABKJx/xBFonIHIIaicgswx6JyD0EHoUAEUVmjhhReyhOGGGwLA4YcVagjihx6OyKGIJmJYYooZIiTAAAQMIEBCLKpYY4sE5KgjAQjdaOGKPgaw45AB+FghkDcOqaSRFCJZo5JDMlmAkyxCuaOUVKZopY5YSrlljl0yKaSVRTKZpYkIQdmjmVIm9GKMM65p5JlS1jmlnXjmqSeJe+pJZ58s/gmoiYIOCmKhhnKIaKI2Mjqno49CeuOikt5ZaaCXYpopoZsSGhAALAwBrAA2AI8Ahv////7+/v79/f38+/38+v37+fz6+Pz59/v49fv49Pv38/r28vr18fn07/n07vjz7fjy7Pjx6/fw6ffw6Pfv6Pbv5/bu5vbu5fXt5PXs4/Xr4vTq4PTq3/Pp3vPo3fLn3PLm2vLm2fHl2PHk1/Dj1vDi1PDi0+/h0u/g0e7f0O7ezu7eze3dze3dzO3cy+zbyuzbyezayOvZx+vYxerXxOrXw+rWwunVwenUv+jTvujTvejSvOfRu+fQuebPuObPt+XOtuXNteXMs+TMs8qYZZ6MoYiGwIGEyxMOCRINCRAMCA4LBw0KBgsIBQoHBQgGBAcFAwUEAgMCAQIBAQAAAAAAAAAAAAAAAAAAAAAAAAAAAAAAAAAAAAAAAAAAAAAAAAAAAAAAAAAAAAAAAAAAAAAAAAAAAAAAAAAAAAAAAAAAAAAAAAAAAAAAAAAAAAAAAAAAAAAAAAAAAAAAAAAAAAAAAAAAAAAAAAAAAAAAAAAAAAAAAAAAAAAAAAAAAAAAAAj/AAEIHEiwoEEiCBMqJGKwocOHEAUGWEgxosWLBgVQXIix48UBGxV6HPmQQMiEJFMWLHASocqXAAy0ZAgz5YGZNVMiwJlzZAKePTsqABr04gKiRSMyQJr0YQOmTRs6gBq14AOqVQdCwJoVQASuWSWArUphbFQLZpteSJsUA9uiGd4G1SC354a6OTngrdlhL0wPfl9+CKwSBOGUIQ6TFKF45IjGHklA7lhiMkYTli+eyGwRBeeIKT5DVCH6IYvSDl2gbvhitUEYrgvGiE1QBu2BM24LpKEbQI3eNnrf6I2jd47eOnrv6M2jd4/ePnr/6A2kd5DeQ3rPFNL14cwg3R3O/wQSvuHMH+UPtvSRvuDMHu0JzuQRf+DMHfUFztSRH8DMHP3NhEOALd1A4Ek2HBhSDQpuREODFM0A4UIyTKhQDBYmBEOGCL3AIREtfLjChyp8mMKHKHx4wocmfFjChyR8OMKHInwYwocgfPjBhx582MGHHHy4wYcafJjBhxh8aMGHFXw4wYcSfBjBhxB8+MCHDsBExZZcdumllzMh8eWYXw5E5plczpQEmmeaySaZMynx5phuzgkmQkUYcYQRRSS0hJ1e1gnolggdYeihRyDExKBcCjooEYhGSkQTjG7pKKCRZupEpVRcamemkT7BqadzgoooFKMKxCkVph4aRaoArFzaqqFSwLoqpKYSMYWtnBaaKUKrkvpmQnnu2SewvK6qLJnCLuvss9Baqmq0zzZLrZ3WXvtmttqiyW23zE4LbqXfjhuouOYCWm660sbKrrrovsvmuuzSm6695g4UEAAsCgGsADUAjwCG/////v7+/v39/fz7/fz6/fv5/Pr4/Pn3+/j1+/j0+/fz+vby+vXx+fTv+fTu+PPt+PLr+PHr9/Dp9/Do9+/o9u7m9u7l9e3k9ezj9evi9Org9Orf8+ne8+jd8ufc8uba8ubZ8eXY8eTX8OPW8OLU8OLT7+HS7+DR7+DQ7t/Q7t7O7t7N7d3N7d3M7dzL7NvK7NvJ7NrI69nH69jF6tfE6tfD6tbC6dXB6dS/6NO+6NO96NK859G759C55s+45s+35c625c215cyz5MyzyphlnoyhiIbAgYTLKR4UJRwSIhoRHhcPGxQNGBIMFRAKEg0JDgsHCwgFCAYEBQQCAgEBAAAAAAAAAAAAAAAAAAAAAAAAAAAAAAAAAAAAAAAAAAAAAAAAAAAAAAAAAAAAAAAAAAAAAAAAAAAAAAAAAAAAAAAAAAAAAAAAAAAAAAAAAAAAAAAAAAAAAAAAAAAAAAAAAAAAAAAAAAAAAAAAAAAAAAAAAAAAAAAAAAAAAAAAAAAACP8AAQgcSLCgQQBEEipcSOSgw4cQDwpgSDGixYsFCVBkiLGjRQMbF3oc6RBBSIUkUxJUcDKhypcMWjZ8mdKBTJopIdzEOVLCTp4dK/wEevHCUKIRMxxF+nDDUqYHOzyFWvDDVKoDQ1zFCmDEVqwlvlJFIRaqirJMXaBFCmMtURlugdKIy9MGXZw47tLUofclj74qfQBOGWQwySGGR8oMwvWhzB+NHcrsEfmgzB2VDcrMkbmgzBudCcqsEXqgzBmlBcqMkRphSxetZa6I3TIF7ZMmbockoXujiN4UQQBn6GH4Qg7GFWpInhADcyIVnk94HuH5g+cNni94nuD5gecFng//eN46QGKPA853LKAe44H2FxPAt7hgfsQG9iE+yP8wAn+HFPx3kAUCGoRBgQVpgCBBHCw4kAcOCgRChACIQCEJFJpAYQoUskDhCxTGQOEMFNZA4Q0U5kDhDhT2QOEPFBbW0nNCPAfEcz48x8NzOjyHw3M2PEfDczI8B8NzLTynwnMnPFfCcyM8F8JzHzzXwUtVZKnlllxyKRMSXYbZpUBilqmlTEmYWSaZaoopkxJthslmnF4mVIQRRxhRhEJL0MnlnH5mmdARhBZ6REJMBKoloIESYeijRDShaJaM+vnopU5MWkWldF766BOachqnp4ZCESoAmlZBaqFRnJrqqoRKV+Gqpo6SSsQUs0466KUJUZGrogrdmeeeCaUqaqrIUopqssw26+yayz7L7LHS+klttXFei62a2m4LrbfGRgtuoN2O+6e45maLbrrcrsvut++qG6+887YbEAAsCQGsADQAjwCG/////v7+/v39/fz7/fz6/fv5/Pr4/Pn3+/j1+/j0+/fz+vby+vXx+fTv+fTu+PPt+PLs+PHr9/Dp9/Do9+/o9u/n9u7m9u7l9e3k9ezj9evi9Org9Orf8+ne8+jd8ufc8uba8ubZ8eXY8eTX8OPW8OLU8OLT7+HS7+DR7t/Q7t7O7t7N7d3N7d3M7dzL7NvK7NvJ7NrI69nH69jF6tfE6tfD6tbC6dXB6dS/6NO+6NO96NK859G759C55s+45s+35c625c215cyz5MyzyphlnoyhiIbAgYTLEw4JEg0JEAwIDgsHDQoGCwgFCgcFCAYEBwUDBQQCAwIBAgEBAAAAAAAAAAAAAAAAAAAAAAAAAAAAAAAAAAAAAAAAAAAAAAAAAAAAAAAAAAAAAAAAAAAAAAAAAAAAAAAAAAAAAAAAAAAAAAAAAAAAAAAAAAAAAAAAAAAAAAAAAAAAAAAAAAAAAAAAAAAAAAAAAAAAAAAAAAAAAAAAAAAAAAAAAAAAAAAACP8AAQgcSLCgQSIIEyokYrChw4cQAyycCLGixYYCJi68yPHiAI0KO4p8SABkwpEoCxYwiTClSwAGWDJ8ifKATJooEdzEKTLBTp4cFfwEanHBUKIQGRxF6rDBUqYGHTyFSvDBVKoCIVzFGmErVQleoVIIy9QCWaQXzhLFoBZohrY8NcDFuWEuTQ52X3bI69ID35Qf/qIEIXhkiMIiRSDuOGIxRxKOL5aIbNEE5YonLkNEoflhis4OVYBuyGK0QRemC75ITRAG64ExXguUIRvAjNo0ateobaP2jdo4aueoraP2jto8aveo7aP2j9pAagepPaS2TCFYH8oMkt2hTCDdG8r//BH+IEsf5QvK7JGeoEwe7QfK3BFfoEwd9QHIzJFfJo7+LN0AoEk2DAhSDQZqREOCE83A4EIyPKhQDBImBEOFCL2AIREtbLjChipsmMKGKGx4woYmbFjChiRsOMKGImwYwoYgbPjBhh5s2MGGHGy4wYYabJjBhhhsaMGGFWw4wYYSbBjBhhBs+MCGDrhExZVYZqmlljIhseWXWwIA5phYypQEmWOKiSaYMimx5pdqvsklQkUYcYQRRSS0hJxaxsnnlQgdIeigRyDExJ9Y+vknEYQ2SkQTiF6pKJ+NVupEpFRMKmeljT6BqaZvckooFJ9iSoWog0ZRKqaoCirFqpEyTSoqEVPAimiglSJkKqhrJlTnnXnqaqupxIZZ7LHIJpumssnyyiyfzj77ZrTSoklttctiO6y2cl7LbZ/fIuptuJKSC6253aI7rbprAhAQACwHAawANQCPAIb////+/v7+/f39/Pv9/Pr9+/n8+vj8+ff7+PX7+PT79/P69vL69fH59O/59O748+348uz48ev38On38Oj37+j27+f27ub27uX17eT17OP16+L06uD06t/z6d7z6N3y59zy5try5tnx5djx5Nfw49bw4tTw4tPv4dLv4NHu39Du3s7u3s3t3c3t3czt3Mvs28rs28ns2sjr2cfr2MXq18Tq18Pq1sLp1cHp1L/o077o073o0rzn0bvn0Lnmz7jmz7flzrblzbXlzLPkzLPKmGWejKGIhsCBhMsTDgkSDQkQDAgOCwcNCgYLCAUKBwUIBgQHBQMFBAIDAgECAQEAAAAAAAAAAAAAAAAAAAAAAAAAAAAAAAAAAAAAAAAAAAAAAAAAAAAAAAAAAAAAAAAAAAAAAAAAAAAAAAAAAAAAAAAAAAAAAAAAAAAAAAAAAAAAAAAAAAAAAAAAAAAAAAAAAAAAAAAAAAAAAAAAAAAAAAAAAAAAAAAAAAAAAAAAAAAAAAAI/wABCBxIsKBBIggTKiRisKHDhxABBFhIMaLFiwUFUFyIsaPFARsVehzpkEDIhCRTEixwEqHKlwZaMnyZ8oBMmikR3MQ5MsFOnh0V/AR6ccFQohEZHEX6sMFSpg0dPIVa8MFUqgMhXMUKIMJWrBK+UqUgFqqFskwvoEWKYS3RDG6BaojLcwNdnBzu0uyg96WHvio/AE4JYjDJEIZHikjscQTjjiQeYywh+aKJyhZPYI6IYjPEFJ4fqgjtkAXphi5OG3yhuiCM1gRjwB4oY7bAGbYB0MhdI7eN3Ddy48idI7eO3Dty88jdI7eP3D9yA8kdJPeQ3DKFcH0oM8h2hzKBfP9vKPPH+IMtfZwvKLPHeoIyebwfKHPHfIEyddwHIDPHfpk4/NfSDQKeZEOBIdWA4EY0LEjRDA4uJEOECsVAYUIwXIjQCxoS0UKHK3SoQocpdIhChyd0aEKHJXRIQocjdChChyF0CEKHH3ToQYcddMhBhxt0qEGHGXSIQYcWdFhBhxN0KEGHEXQIQYcPdOjAS1RkqeWWXHIpExJdhtmlQGKWqaVMSZhZJplqiimTEm2GyWacXiJUhBFHGFFEQkvQyeWcfmaJ0BGEFnoEQkwEqiWggRJh6KNENKFoloz6+eilTkxKRaV0XvroE5pyGqenhkIRKgCaUkFqoVGcmuqqhEpW4aqmjpJKxBSzTjropQilKmqbCd2Z55695prqsXKiiuyyzDa7prLOLvtrtH5OS22c1l6rZrbaPtutr9B+Gyi34v4ZbrnYnovutuqu66276cIbr7zsBgQALAYBrAA0AI8Ahv////7+/v79/f38+/38+v37+fz6+Pz59/v49fv49Pv38/r28vr18fn07/n07vjz7fjy7Pjx6/fw6ffw6Pfv6Pbv5/bu5vbu5fXt5PXs4/Xr4vTq4PTq3/Pp3vPo3fLn3PLm2vLm2fHl2PHk1/Dj1vDi1PDi0+/h0u/g0e7f0O7ezu7eze3dze3dzO3cy+zbyuzbyezayOvZx+vYxerXxOrXw+rWwunVwenUv+jTvujTvejSvOfRu+fQuebPuObPt+XOtuXNteXMs+TMs8qYZZ6MoYiGwIGEyxMOCRINCRAMCA4LBw0KBgsIBQoHBQgGBAcFAwUEAgMCAQIBAQAAAAAAAAAAAAAAAAAAAAAAAAAAAAAAAAAAAAAAAAAAAAAAAAAAAAAAAAAAAAAAAAAAAAAAAAAAAAAAAAAAAAAAAAAAAAAAAAAAAAAAAAAAAAAAAAAAAAAAAAAAAAAAAAAAAAAAAAAAAAAAAAAAAAAAAAAAAAAAAAAAAAAAAAAAAAAAAAj/AAEIHEiwoEEiCBMqJGKwocOHEAMsnAixosWGAiYuvMjx4gCNCjuKfEgAZMKRKAsWMIkwpUsABlgyfInygEyaKBHcxCkywU6eHBX8BGpxwVCiEBkcReqwwVKmBh08hUrwwVSqAiFcxRphK1UJXqFSCMvUAlmkF84SxaAWaIa2PDXAxblhLk0Odl92yOvSA9+UH/6iBCF4ZIjCIkUg7jhiMUcSji+WiGzRBOWKJy5DRKH5YYrODlWAbshitEEXpgu+SE0QBuuBMV4LlCEbwIzaNGrXqG2j9o3aOGrnqK2j9o7aPGr3qO2j9o/aQGoHqT2ktkwhWB/KDJLdoUwg3RvK//wR/iBLH+ULyuyRnqBMHu0HytwRX6BMHfUByMyRXyaO/izdAKBJNgwIUg0GakRDghPNwOBCMjyoUAwSJgRDhQi9gCERLWy4woYqbJjChihseMKGJmxYwoYkbDjChiJsGMKGIGz4wYYebNjBhhxsuMGGGmyYwYYYbGjBhhVsOMGGEmwYwYYQbPjAhg64RMWVWGappZYyIbHll1sCAOaYWMqUBJljiokmmDIpseaXar7JJUJFGHGEEUUktIScWsbJ55UIHSHooEcgxMSfWPr5JxGENkpEE4heqSifjVbqRKRUTCpnpY0+gammb3JKKBSfYkqFqINGUSqmqAoqxaqRMk0qKhFTwIpooJUiZCqoayZU55156mqrqcSGWeyxyCabprLJ8sosn84++2a00qJJbbXLYjustnJey22f3yLqbbiSkgutud2iO626awIQEAAsBQGtADQAjgCG/////v7+/v79/v39/fz7/fz6/fv6/fv5/Pr4/Pn3+/j1+/j0+/fz+vby+vXx+fTv+fTu+PLs+PLr+PHr9/Dp9/Do9+/o9u/n9u7m9u7l9u3l9e3k9ezj9evi9Org9Orf8+ne8+jd8ufc8uba8ubZ8eXY8eTX8OPW8OLU7+HT7+HS7+DR7t/P7t7O7t7N7d3N7d3M7dzL7NvK7NvJ7NrI69nH69nG69jF6tfE6tfD6tbC6dXB6dS/6NO+6NO96NK859G759C55tC55s+45s+35c625c215c205cyz5MyzyphlnoyhiIbAgYTLPS4eOCocNCcaLyMXKiAVJRwSCAYEAwIBAAAAAAAAAAAAAAAAAAAAAAAAAAAAAAAAAAAAAAAAAAAAAAAAAAAAAAAAAAAAAAAAAAAAAAAAAAAAAAAAAAAAAAAAAAAAAAAAAAAAAAAAAAAAAAAAAAAAAAAAAAAAAAAAAAAAAAAAAAAAAAAAAAAAAAAAAAAAAAAAAAAAAAAACP8AAQgcSLCgQQJKEipcqMSgw4cQIyJgSDGixYsOF1BkiLEjRgcbF3ocCTFCSIUkUxakcDKhypcAMrRsCDNlh5k1U4LAmXPkCJ49O5oAGvRiCqJFI7JAmvRhDKZNDdKAGpUgDqpVBe7AmtUH16pCvkY1IrbpTCRZIc4kkvbhTCBtHc7sEdfgTB11C860kZfgTBl9B850EVjgzBWFAcxEkXhmicYtRUA+6WFySA6WN17ITHECZ4YQPi9sIFqhgtIJDaBWIqBwgLJJC8AummB2UAa2ez7InVMC75oWfsPcIPylh+IqQyBPSWI5yRPOR66I7rEF9Y4yrmOsof1iju4WeYD/j/hjPMQh5h8eSS+3pZHVQ1b/WM1jdY7VNVbHWN1itYrVJ6xGwmohrFZZYTNpsFoFq0Ww2gOrMbBaAqsVsFpiA7Bn0AEaFqRAhwQ1AOJAEIwo0AQmAoBBihyk+EGKIqRYQooopDhdS4m9kOIMKd6Qog4p9pAiECkSkWISKc5UxGpBrObDajushsNqNKwGA0xWZKnlllxuOZMTXYYZJgBilpnlTE+YaSaZaoY5ExRtislmnF4qtAQTTTCxREJR0NnlnH5aoVAThBbahBJSBLoloH4mZOijUyiqJaN0KvHopZJmSWmcll5qaKZWbNpmp54SCqqoapJa6qmZquopq5I6TloqFbAqOuilSlRRa6AL3ZnnnkqAGqqwxMpZ7LHIJsslqsr6yWyzcT4LrZrSTltmtdaOmW2m2G67qLeKdgvusOPSKS6453qb7rbrZgtAQAAsAwGtADUAjgCG/////v7+/v39/fz7/fz6/fv5/Pr4/Pn3+/j1+/j0+/fz+vby+vXx+fTv+fTu+PPt+PLs+PHr9/Dp9/Do9u7m9u7l9e3k9ezj9evi9Org9Orf8+ne8+jd8ufc8uba8ubZ8eXY8eTX8OPW8OLU8OLT7+HS7+DR7t/Q7t7O7t7N7d3M7dzL7NvK7NvJ7NrI69nH69jF6tfE6tfD6tbC6dXB6dS/6NO+6NO96NK859G759C55s+45s+35c625c215cyz5MyzyphlnoyhiIbAgYTLUj4pTDkmRjQjPy8fOCocMiYZLCEWJRwSHhcPGBIMEg0JCwgFBQQCAAAAAAAAAAAAAAAAAAAAAAAAAAAAAAAAAAAAAAAAAAAAAAAAAAAAAAAAAAAAAAAAAAAAAAAAAAAAAAAAAAAAAAAAAAAAAAAAAAAAAAAAAAAAAAAAAAAAAAAAAAAAAAAAAAAAAAAAAAAAAAAAAAAAAAAAAAAAAAAAAAAAAAAAAAAAAAAAAAAAAAAACP8AAQgcSLCgQYEEgihcyDDIwYcQIx5E0LCixIsYCzKo2DCjx4sQODL8SPIhBZELS6okiAGlwpUwObh0CFMliJk1VZLAmZMkCp49PbYAGhRjDKJFJdZAmhRiDqZND/aAGrXgTB9VJc7UkTXiTBtdIc6UEfbhTBdlD85MkdbgzBJtrboMEZfgzA51B87MkFfgTAp9AcyMEHhmg8IuEyBGWWCxyMADqIY9ILnrgspZH2CuOmFz1Auem24InfQD6aIjTgc9oboni9Y5YcCuSWM2TBy2V/LIrXLmD8ccdwCveGN4wxnGGb5IvlAFc4UmngcRId2DdA3SLUiXIN2BdAXSDUj/F9BXAO+SBs6TVKD+o4P2HiXAz2hhPkYN9i96yC9RBP+IJvwH0QoCPvRCgQfNgKBBNyxY0A4OEgREhHq5xIN0OEhHg3QwSMeCdCdIN4J0H0i3gXQXSDeBdA9It4B0B0g3QF8BUChQATYCkECODeQYQY4V5JhBjh3kGEKOJeSYQo4u5ChDjjbkqEOOPuQ4Uw/S5QCTFFx26eWXX85UBJhkgilQmWh2OZMRaaJ5ZptlznQEnGS+SWeYCgkxBBFDCLEQEnd+aWegXCpExKGIEqFQEoR2OSihQSQqaRBKNMrlo4FKqukSlkqB6Z2aSspEp5/SGWqiTZAKQKdSnIqoE6qyW+rqoU/E2mmkpwYBha2WGqqpQlHw2uhCevLpp0Kslsrqspeuyuyz0EbrprPSPqtstYFeiy2d2m7bZrfeThtustSOSyi45gpabrrcrsvut+6+K6687dJbr73wBgQALAMBrQA3AI4Agv///8qYZZ6MoYiGwIGEywAAAAAAAAAAAAj/AAEIHEiwoMGBARIqXBjgoMOHECEynBixokWHExle3Lgx40KOICN6VBiy5MGRCU2qRIhy5UqUDV2ahClzZsuaIWniBKlzZ8ebPi/2DFpxKFGJQI8iHam0aNKmJ59CLWh0KsGqVgVizbrVatepX6GGbTpWadmjZ4mmDbrWZ9udb3HGrTlXZl2Xd19KzQogr0q/NpnypbqXa2Gvh8EmFruYbGOzj9FGVjuZbWW3l+FmlruZbme7n/GG1it4MMvSpvuO/rs6sMfUp1/DVo3aNOCSt3O2xr1bd+3BuXn2Fv6bb3COx38WN7wccXPFzxlHdzwdcnXJ1ylnt7wdc3fN3zmH9/c8HnR50edJy4adXOhw5O+Vr0/d3mJ9p+lZ53edcTbt+bbF595+vBHoG4DACWifgvghaByDIkG4lIMgFWDhhRhmmCFMGnbYIUEehnghhyKGCGKJHpKIooYnrrhhQgIMQMAAAijkIosD3fgiATz2SEBCOmLYYpAB+GhkAEFeOKSORjaZpIVL3tikkU8WEKWLU/pY5ZUrZtnjljk+6SWPYApUZZFZIvkklygmNCWQa4aZpEIxzlgjnEmyWeWefPZZop5+BglooDcOSuiKhh76p5yKlglAo3wmCumHjE6qo6SWCllppohuyumiZn5aqKeieojpp6dyGhAALAcBrAA0AI8Agv///8qYZZ6MoYiGwIGEywAAAAAAAAAAAAj/AAEIHEiwoMEACBMqDGCwocOHEAEsnBixosWCExde3Fgxo0KOIB16TBiyJMGRCE2qRMlQZUmWLl+ijBkSJk2ONm9ezKmz48yeFnkCfSh0aMOiRjH+TCpyKdODTp+ejCpVIFKpV59mZbo1aVejX4eGBTq2Z1mdZ2+mpbk2ZluXb1dSrRrXZF2ZI6tCzat3Kt++VudiFayVMFfDXhGDVSyWMVnHZiGjlayWMlvLbjHD1Sz3L+C7NTnbFY3XI+CBoEGmxkk6tOe+qzfG3tladW3Wr/XODnpbdm/auen+5h18cPHCxw8nT7x8cfPGzx9Hjzx9cvXK1y9nz7x9c/fOpk9L6Bzu8/to86Uzih+P3nX407vLv/9MPmJ8+/Uh3tefn2j/pu3ZFiBu88H231EH7lWgbgkqNaBvDwK34EYFVGjhhRhiyFKGHHIIQIcgWrhhiCB+SGKHI56YoYkqaoiQAAMQMIAACbW4oo0uEqDjjgQghOOFLP4YAI9EBvCjhUHiSOSSR1aYpI1LEtlkAU+2GCWPU1ap4pU7Zjkllzp62eSQVxrZpJYnIhSlj2dOmRCMMtLI5pFoTmnnnXh2WGeeP+7Jp41+/qlioIKSSGihJSJ656GK3thom4/SGamkk+LIaKWXTppppJs+GhAALAgBrAA1AI8Ahv////7+/v79/f38+/38+v37+fz6+Pz59/v49fv49Pv38/r28vr18fn07/n07vjz7fjy7Pjx6/fw6ffw6Pfv6Pbv5/bu5vbu5fXt5PXs4/Xr4vTq4PTq3/Pp3vPo3fLn3PLm2vLm2fHl2PHk1/Dj1vDi1PDi0+/h0u/g0e7f0O7ezu7eze3dze3dzO3cy+zbyuzbyezayOvZx+vYxerXxOrXw+rWwunVwenUv+jTvujTvejSvOfRu+fQuebPuObPt+XOtuXNteXMs+TMs8qYZZ6MoYiGwIGEyxMOCRINCRAMCA4LBw0KBgsIBQoHBQgGBAcFAwUEAgMCAQIBAQAAAAAAAAAAAAAAAAAAAAAAAAAAAAAAAAAAAAAAAAAAAAAAAAAAAAAAAAAAAAAAAAAAAAAAAAAAAAAAAAAAAAAAAAAAAAAAAAAAAAAAAAAAAAAAAAAAAAAAAAAAAAAAAAAAAAAAAAAAAAAAAAAAAAAAAAAAAAAAAAAAAAAAAAAAAAAAAAj/AAEIHEiwoEEiCBMqJGKwocOHEAUunBggosWLBScuFICxo0WNCgd4HOkQZEICJFMSNImwgMqXLIkYeKky5gGaKWMiwEkyZgKeI2MqAOox5gKiHWMyQIoxZgOmF2M6gPqR5QOqEWNCwAoxZgSuD2NKAFuSJQWyDWNaQHuQ5QW2GVligLuSZQa6A2NqwCuR5Qa+AGJyAByzA2GWHg6b/KAYJIjGGkNAnihi8sIRlhWSyJywBGeEJj4TOSEahegUolWIZiHahegXomGIjiFahugZommIriHahugbonGIziFah+gdonmI7iHah+gfooGIDiJ6CGAhMQEHyc4XCHe8P77T//UhHm6P8mx5oEe7Yz1ZHe7B5ojPFQd9rDfuU7WhH2qN/kzRACBSMwxIlAwGAhVDgjzBwCBOLzxIUwsSvrRChSqpgGFKKWxIEgoejnRCiB6ZQGJHJZyIEQkqXjRCixaJAGNEIcwIEQg2PvRBjg55wGNDHfxoEAdCFrRBkQRpgORAGSwpEAZOAmBBlBVEOUGUEkQZQZQQRPlAlA5gSMWYZJZpZplIxHTmmmsKxOabYyahJpxvuknnmkrMeeeZdu5Z5hIJFWHEEUYUkZCffAKAaJlMIHTEo5AegdCiZfa5aBNERKopEZSSaSmiTmgqaqdjfurnE6JqSioVpu4JRaqRrmLa6p1RwAqprIp2KoWtj+JK6hSZwsopqbPe6aiokxKba6eBDlroocquKu201HZabLXWLosttddui2i33u4Jbrh0jktundqeS6m56ibabrTvrptuvHeySy+r896Lrr5+2ktvQAAsHQGsAA0AfACG/////v7+/v39/fz7/fz6/fv5/Pr4/Pn3+/j1+/j0+/fz+vby+vXx+fTv+fTu+PPt+PLs+PHr9/Dp9/Do9+/o9u/n9u7m9u7l9e3k9ezj9evi9Org9Orf8+ne8+jd8ufc8uba8ubZ8eXY8eTX8OPW8OLU8OLT7+HS7+DR7t/Q7t7O7t7N7d3N7d3M7dzL7NvK7NvJ7NrI69nH69jF6tfE6tfD6tbC6dXB6dS/6NO+6NO96NK859G759C55s+45s+35c625c215cyz5MyzyphlnoyhiIbAgYTLEw4JEg0JEAwIDgsHDQoGCwgFCgcFCAYEBwUDBQQCAwIBAgEBAAAAAAAAAAAAAAAAAAAAAAAAAAAAAAAAAAAAAAAAAAAAAAAAAAAAAAAAAAAAAAAAAAAAAAAAAAAAAAAAAAAAAAAAAAAAAAAAAAAAAAAAAAAAAAAAAAAAAAAAAAAAAAAAAAAAAAAAAAAAAAAAAAAAAAAAAAAAAAAAAAAAAAAAAAAAAAAACP8AAQAgQrCgQSIAAhxcCEDAwoMABjw0CIDAxIIAClwkCMDARoQHPgJAIDKBSAUiF4hkILKBSAciH4iEIDKCSAkiKYi0IPKCSAwiM4jUIHKDSA4iO4j0IPKDSBAiQ4gUIXKESBIiS4g0IfKESBQiU4hUIZKFSBciX4iEITKGSBkiZ4ikIbKGSBsib4jEITKHSB0id4jkIbKHSB8if4gEIjKIyCEiPwoZuDEI5YtALk/8ofmhj84Le4A+yGO0wR2mC+pITTAHayI4Xt94beN1jdc0Xs94LeN1jNcwXr943eL1itcqXqd4jeL1idcmXpd4TeL1iNciXod4DeL1h9ceXndfeM3h9YbXGl5neI3htYXXFV5PeC3hdYTXEF4/eO2Aykck/m2URIAXKUFgEUYcYUQRBS0R4BEQRngEQUz4J+GFRDRBxYUcOrEhhxI+8SGIEEIxIolRnAiiFBaSSMQUAQEALAoBrAA1AI8Agv///8qYZZ6MoYiGwIGEywAAAAAAAAAAAAj/AAEIHEiwoEEAARIqXBjgoMOHEB0ynBixokWDExle3Ggx40KOIB96VBiyZMGRCU2qRIhypUmUDV2GhClzZsuaHGni3KhzZ8ebPiv2DApxKFGJQI8iHam0aNKmJ59CHWh0qsCqVrFO1QqVa1OvSsEeFUuUbFCzPtHuVIuTbU23MuG6lLuSrkq7L6Vm1buVb1e/XwGHFTyWcFnDZxGnVbyWcVvHbyHHlTyXcl3LdzHnZWo1KufOVDWXxDtatM3PoFmiBk36tMfUoVd3bg2Sdk7TtXHflr2Xd1/ff4EHFj6YeGHjh5EnVr6YeWPnj6FHlj6ZemXrl7Fn1r75NWzV3mHb8+apmzz30uddZ/wOfv338Rfh/0yfm/7u8KnlCy0fn/98/Kz5t5995gE4m4AR6Zcggk4R2J+D/7knHmYFVGjhhRhiCFOGHHIoUIcgWrhhiCB+SGKHI56YoYkqapiQAAMQMIAACrW4IgA2ukjAjjwSkFCOF7IIZAA9FhkAkBYKmWORTCJZoZI2MlmkkwVA2aKUPVJppYpY8qgljk52ueOXVBKJ5ZFObnliQlL+mCaYSCoEo4w0uomkmlTmqeeeJcLJJ594/pljoIK2SGihJx6KaIiKLtpho47eGCmZk97pZ6WGXoppoppuyminnj4KaqiSknpiQAAsDAGsADQAjwCC////yphlnoyhiIbAgYTLAAAAAAAAAAAACP8AAQgcSLCgwQAIEyoMYLChw4cQASycGLGixYITF17cWDGjQo4gHXpMGLIkwZEITapEyVBlSZYuX6KMGRImTY42b17MqbPjzJ4WeQJ9KHRow6JGMf5MKnIp04NOn56MKlUgUqlXn2ZlujVpV6Nfh4YFOrZnWZ1nb6aluTZmW5dvV1KtGtdkXZkjq0LNq3cq375W52IVrJUwV8NeEYNVLJYxWcdmIaOVrJYyW8tuMcPVLPcv4Ls1OdsVjdcj4IGgQabGSTq0576rN8be2Vp1bdav9c4Oelt2b9q56f7mHXxw8cLHDydPvHxx88bPH0ePPH1y9crXL2fPvH1z986mT0voHO7z+2jzpTOKH4/edfjTu8u//0w+Ynz79SHe15+faP+m7dkWIG7zwfbfUQfuVaBuCSo1oG8PArfgRgVUaOGFGGLIUoYccghAhyBauGGIIH5IYocjnpihiSpqiJAAAxAwgAAJtbiijS4SoOOOBCCE44Us/hgAj0QG8KOFQeJI5JJHVpikjUsS2WQBT7YYJY9TVqnilTtmOSWXOnrZ5JBXGtmkliciFKWPZ06ZEIwy0sjmkWhOaeedeHZYZ54/7smnjX7+qWKggpJIaKElInrnoYre2Gibj9IZqaST4shopZdOmmmkmz4aEAAsDQGsADQAjwCC////yphlnoyhiIbAgYTLAAAAAAAAAAAACP8AAQgcSLCgwQAIEyoMYLChw4cQASycGLGixYITF17cWDGjQo4gHXpMGLIkwZEITapEyVBlSZYuX6KMGRImTY42b17MqbPjzJ4WeQJ9KHRow6JGMf5MKnIp04NOn56MKlUgUqlXn2ZlujVpV6Nfh4YFOrZnWZ1nb6aluTZmW5dvV1KtGtdkXZkjq0LNq3cq375W52IVrJUwV8NeEYNVLJYxWcdmIaOVrJYyW8tuMcPVLPcv4Ls1OdsVjdcj4IGgQabGSTq0576rN8be2Vp1bdav9c4Oelt2b9q56f7mHXxw8cLHDydPvHxx88bPH0ePPH1y9crXL2fPvH1z986mT0voHO7z+2jzpTOKH4/edfjTu8u//0w+Ynz79SHe15+faP+m7dkWIG7zwfbfUQfuVaBuCSo1oG8PArfgRgVUaOGFGGLIUoYccghAhyBauGGIIH5IYocjnpihiSpqiJAAAxAwgAAJtbiijS4SoOOOBCCE44Us/hgAj0QG8KOFQeJI5JJHVpikjUsS2WQBT7YYJY9TVqnilTtmOSWXOnrZ5JBXGtmkliciFKWPZ06ZEIwy0sjmkWhOaeedeHZYZ54/7smnjX7+qWKggpJIaKElInrnoYre2Gibj9IZqaST4shopZdOmmmkmz4aEAAsIgGsAAwAfACG/////v7+/v39/fz7/fz6/fv5/Pr4/Pn3+/j1+/j0+/fz+vby+vXx+fTv+fTu+PPt+PLs+PHr9/Dp9/Do9+/o9u/n9u7m9u7l9e3k9ezj9evi9Org9Orf8+ne8+jd8ufc8uba8ubZ8eXY8eTX8OPW8OLU8OLT7+HS7+DR7t/Q7t7O7t7N7d3N7d3M7dzL7NvK7NvJ7NrI69nH69jF6tfE6tfD6tbC6dXB6dS/6NO+6NO96NK859G759C55s+45s+35c625c215cyz5MyzyphlnoyhiIbAgYTLEw4JEg0JEAwIDgsHDQoGCwgFCgcFCAYEBwUDBQQCAwIBAgEBAAAAAAAAAAAAAAAAAAAAAAAAAAAAAAAAAAAAAAAAAAAAAAAAAAAAAAAAAAAAAAAAAAAAAAAAAAAAAAAAAAAAAAAAAAAAAAAAAAAAAAAAAAAAAAAAAAAAAAAAAAAAAAAAAAAAAAAAAAAAAAAAAAAAAAAAAAAAAAAAAAAAAAAAAAAAAAAACP8AARAZSLAgkQAGEwpIaHAAw4IEHhIsIHGggYpEDmBEgDEBRgUYF2BkgLEBRgcYH2CEgDECRgkYKWC0gPECRgwYM2DUgHEDRg4YO2D0gPEDRhAYQ2AUgXEERhIYS2A0gfEERhQYU2BUgZEFRhcYX2CEgTEGRhkYZ2CkgbEGRhsYb2DEgTEHRh0Yd2DkgbEHRh8Yf2AEgjEIxiEYMQopPDjw3757896tOzfu27Zr054tOzYsxhYYV2zNerXq1KhPmy5NerTo0KA/e+7MeXMmxgoYJ7xsuTLlSYxIMCbBqIRgESNHjBQhuGTgkefQjwxkQiS6dSJNrGt3ot36k+7RoYAMhx5l/HMp1cETmRIQACwOAa0ANACOAIL////KmGWejKGIhsCBhMsAAAAAAAAAAAAI/wABCBxIsKDBAAgTKgxgsKHDhxABLJwYsaLFghMXXtxYMaNCjiAdekwYsiTBkQhNqkTJUGVJli5foowZEiZNjjZvXsyps+PMnhZ5An0odGjDokYx/kwqcinTg06fnowqVSBSqVefZmW6NWlXo1+HhgU6tmdZnWdvpqW5NmZbl29XUq0a12RdmSOrQs2rdyrfvlbnYhWslTBXw14Rg1UsljFZx2Yho5WsljJby24xw9Us9y/guzU52xWN1yPggaBBpsZJOrTnvqs3xt7ZWnVt1q/1zg56W3Zv2rnp/uYdfHDxwscPJ0+8fHHzxs8fR488fXL1ytcvZ8+8fXP3zqZPS+Qc7vP7aPOlM4ofj951+NO7y7//TD5ifPv1Id7Xn59o/6bt2RYgbvPB9t9RB+5VoG4JKjWgb98VIOGEFFZYIUsWZpghABp2OCGGHnbIYYgagkiihSOeeCFCAgxAwAACJKQiijOuSMCNOBKAUI0UpshjADkGGQCPE/pYY5BIEimhkTMiGaSSBTCpopM5QinliVTiaCWUWd64pZJAUjmkkleSiJCTO5IJZUItvhhjmkSWCeWcdNapoZx28ohnnjPuyeeJfv4ZYqCCilgonYQeSqOiajIap6OPQlpjopJSCqmljmLKaEAALA8BrAA0AI8Agv///8qYZZ6MoYiGwIGEywAAAAAAAAAAAAj/AAEIHEiwoMEACBMqDGCwocOHEAEsnBixosWCExde3Fgxo0KOIB16TBiyJMGRCE2qRMlQZUmWLl+ijBkSJk2ONm9ezKmz48yeFnkCfSh0aMOiRjH+TCpyKdODTp+ejCpVIFKpV59mZbo1aVejX4eGBTq2Z1mdZ2+mpbk2ZluXb1dSrRrXZF2ZI6tCzat3Kt++VudiFayVMFfDXhGDVSyWMVnHZiGjlayWMlvLbjHD1Sz3L+C7NTnbFY3XI+CBoEGmxkk6tOe+qzfG3tladW3Wr/XODnpbdm/auen+5h18cPHCxw8nT7x8cfPGzx9Hjzx9cvXK1y9nz7x9c/fOpk9L6Bzu8/to86Uzih+P3nX407vLv/9MPmJ8+/Uh3tefn2j/pu3ZFiBu88H231EH7lWgbgkqNaBvDwK34EYFVGjhhRhiyFKGHHIIQIcgWrhhiCB+SGKHI56YoYkqaoiQAAMQMIAACbW4oo0uEqDjjgQghOOFLP4YAI9EBvCjhUHiSOSSR1aYpI1LEtlkAU+2GCWPU1ap4pU7Zjkllzp62eSQVxrZpJYnIhSlj2dOmRCMMtLI5pFoTmnnnXh2WGeeP+7Jp41+/qlioIKSSGihJSJ656GK3thom4/SGamkk+LIaKWXTppppJs+GhAALCQBrAAMAHwAhv////7+/v79/f38+/38+v37+fz6+Pz59/v49fv49Pv38/r28vr18fn07/n07vjz7fjy7Pjx6/fw6ffw6Pfv6Pbv5/bu5vbu5fXt5PXs4/Xr4vTq4PTq3/Pp3vPo3fLn3PLm2vLm2fHl2PHk1/Dj1vDi1PDi0+/h0u/g0e7f0O7ezu7eze3dze3dzO3cy+zbyuzbyezayOvZx+vYxerXxOrXw+rWwunVwenUv+jTvujTvejSvOfRu+fQuebPuObPt+XOtuXNteXMs+TMs8qYZZ6MoYiGwIGEyxMOCRINCRAMCA4LBw0KBgsIBQoHBQgGBAcFAwUEAgMCAQIBAQAAAAAAAAAAAAAAAAAAAAAAAAAAAAAAAAAAAAAAAAAAAAAAAAAAAAAAAAAAAAAAAAAAAAAAAAAAAAAAAAAAAAAAAAAAAAAAAAAAAAAAAAAAAAAAAAAAAAAAAAAAAAAAAAAAAAAAAAAAAAAAAAAAAAAAAAAAAAAAAAAAAAAAAAAAAAAAAAj/AAEQGUiwIJEABhMKSGhwAMOCBB4SLCBxoIGKRA5gRIAxAUYFGBdgZICxAUYHGB9ghIAxAkYJGClgtIDxAkYMGDNg1IBxA0YOGDtg9IDxA0YQGENgFIFxBEYSGEtgNIHxBEYUGFNgVIGRBUYXGF9ghIExBkYZGGdgpIGxBkYbGG9gxIExB0YdGHdg5IGxB0YfGH9gBIIxCMYhGDEKKTw48N++e/PerTs37tu2a9OeLTs2LMYWGFdszXq16tSoT5suTXq06NCgP3vuzHlzJsYKGCe8bLky5UmMSDAmwaiEYBEjR4wUIbhk4JHn0I8MZEIkunUiTaxrd6Ld+pPu0aGADIceZfxzKdXBE5kSEAAsEAGtADQAjgCC////yphlnoyhiIbAgYTLAAAAAAAAAAAACP8AAQgcSLCgwQAIEyoMYLChw4cQASycGLGixYITF17cWDGjQo4gHXpMGLIkwZEITapEyVBlSZYuX6KMGRImTY42b17MqbPjzJ4WeQJ9KHRow6JGMf5MKnIp04NOn56MKlUgUqlXn2ZlujVpV6Nfh4YFOrZnWZ1nb6aluTZmW5dvV1KtGtdkXZkjq0LNq3cq375W52IVrJUwV8NeEYNVLJYxWcdmIaOVrJYyW8tuMcPVLPcv4Ls1OdsVjdcj4IGgQabGSTq0576rN8be2Vp1bdav9c4Oelt2b9q56f7mHXxw8cLHDydPvHxx88bPH0ePPH1y9crXL2fPvH1z986mT0vkHO7z+2jzpTOKH4/edfjTu8u//0w+Ynz79SHe15+faP+m7dkWIG7zwfbfUQfuVaBuCSo1oG/fFSDhhBRWWCFLFmaYIQAadjghhh52yGGIGoJIooUjnnghQgIMQMAAAiSkIoozrkjAjTgSgFCNFKbIYwA5BhkAjxP6WGOQSBIpoZEzIhmkkgUwqaKTOUIp5YlU4mgllFneuKWSQFI5pJJXkoiQkzuSCWVCLb4YY5pElgnlnHTWqaGcdvKIZ54z7snniX7+GWKggopYKJ2EHkqjomoyGqejj0JaY6KSUgqppY5iymhAACwlAawADAB8AIb////+/v7+/f39/Pv9/Pr9+/n8+vj8+ff7+PX7+PT79/P69vL69fH59O/59O748+348uz48ev38On38Oj37+j27+f27ub27uX17eT17OP16+L06uD06t/z6d7z6N3y59zy5try5tnx5djx5Nfw49bw4tTw4tPv4dLv4NHu39Du3s7u3s3t3c3t3czt3Mvs28rs28ns2sjr2cfr2MXq18Tq18Pq1sLp1cHp1L/o077o073o0rzn0bvn0Lnmz7jmz7flzrblzbXlzLPkzLPKmGWejKGIhsCBhMsTDgkSDQkQDAgOCwcNCgYLCAUKBwUIBgQHBQMFBAIDAgECAQEAAAAAAAAAAAAAAAAAAAAAAAAAAAAAAAAAAAAAAAAAAAAAAAAAAAAAAAAAAAAAAAAAAAAAAAAAAAAAAAAAAAAAAAAAAAAAAAAAAAAAAAAAAAAAAAAAAAAAAAAAAAAAAAAAAAAAAAAAAAAAAAAAAAAAAAAAAAAAAAAAAAAAAAAAAAAAAAAI/wABEBlIsCCRAAYTCkhocADDggQeEiwgcaCBikQOYESAMQFGBRgXYGSAsQFGBxgfYISAMQJGCRgpYLSA8QJGDBgzYNSAcQNGDhg7YPSA8QNGEBhDYBSBcQRGEhhLYDSB8QRGFBhTYFSBkQVGFxhfYISBMQZGGRhnYKSBsQZGGxhvYMSBMQdGHRh3YOSBsQdGHxh/YASCMQjGIRgxCik8OPDfvnvz3q07N+7btmvTni07NizGFhhXbM16terUqE+bLk16tOjQoD977sx5cybGChgnvGy5MuVJjEgwJsGohGARI0eMFCG4ZOCR59CPDGRCJLp1Ik2sa3ei3fqT7tGhgAyHHmX8cynVwROZEhAALBEBrQA0AI4Agv///8qYZZ6MoYiGwIGEywAAAAAAAAAAAAj/AAEIHEiwoMEACBMqDGCwocOHEAEsnBixosWCExde3Fgxo0KOIB16TBiyJMGRCE2qRMlQZUmWLl+ijBkSJk2ONm9ezKmz48yeFnkCfSh0aMOiRjH+TCpyKdODTp+ejCpVIFKpV59mZbo1aVejX4eGBTq2Z1mdZ2+mpbk2ZluXb1dSrRrXZF2ZI6tCzat3Kt++VudiFayVMFfDXhGDVSyWMVnHZiGjlayWMlvLbjHD1Sz3L+C7NTnbFY3XI+CBoEGmxkk6tOe+qzfG3tladW3Wr/XODnpbdm/auen+5h18cPHCxw8nT7x8cfPGzx9Hjzx9cvXK1y9nz7x9c/fOpk9L5Bzu8/to86Uzih+P3nX407vLv/9MPmJ8+/Uh3tefn2j/pu3ZFiBu88H231EH7lWgbgkqNaBv3xUg4YQUVlghSxZmmCEAGnY4IYYedshhiBqCSKKFI554IUICDEDAAAIkpCKKM65IwI04EoBQjRSmyGMAOQYZAI8T+lhjkEgSKaGRMyIZpJIFMKmikzlCKeWJVOJoJZRZ3rilkkBSOaSSV5KIkJM7kgllQi2+GGOaRJYJ5Zx01qmhnHbyiGeeM+7J54l+/hlioIKKWCidhB5Ko6JqMhqno49CWmOiklIKqaWOYspoQAAsEgGtADQAjgCG/////v7+/v39/fz7/fz6/fv5/Pr4/Pn3+/j1+/j0+/fz+vby+vXx+fTv+fTu+PPt+PLs+PHr9/Dp9/Do9+/o9u/n9u7m9u7l9e3k9ezj9evi9Org9Orf8+ne8+jd8ufc8uba8ubZ8eXY8eTX8OPW8OLU8OLT7+HS7+DR7t/Q7t7O7t7N7d3N7d3M7dzL7NvK7NvJ7NrI69nH69jF6tfE6tfD6tbC6dXB6dS/6NO+6NO96NK859G759C55s+45s+35c625c215cyz5MyzyphlnoyhiIbAgYTLEw4JEg0JEAwIDgsHDQoGCwgFCgcFCAYEBwUDBQQCAwIBAgEBAAAAAAAAAAAAAAAAAAAAAAAAAAAAAAAAAAAAAAAAAAAAAAAAAAAAAAAAAAAAAAAAAAAAAAAAAAAAAAAAAAAAAAAAAAAAAAAAAAAAAAAAAAAAAAAAAAAAAAAAAAAAAAAAAAAAAAAAAAAAAAAAAAAAAAAAAAAAAAAAAAAAAAAAAAAAAAAACP8AAQgcSLBgQSIIEyokEsCgw4cQIy6cKCCixYsOJy4cgLEjRo0KCXgcCRFkwgIkUx40ScSAypcAWBI5AFOlTAQ1U8pMkJOkTAU9R8pcENSjTAZFO8pskPQjSwdNL8p8ENWiTAhVJbKMkLUkSwldH8qkEDYjSwtlDcq8kHalSQxtCcrMEHegTA11BcrckDcmSw59ZXYIzNIDYZMfDoMEoVhjiMYTRUBeOGKyQhKWE5bIjNAEZyInPqP4nOKzis8sPrv4/OIzjM8xPsv4POMzjc81Ptv4fOMzjs85Puv4vOMzj889Pvv4/OMzkM9BPg/pK0Rm3yDW8wLJXvcH97g+vrf/7SE+LY/yZXegD6tjfdcc7rPiiF/1Bv2oNu43raE/KY3+Rc0AYFAyDNhTDAbmBEOCNb3AIEwtPPjSChKqpEKFKaWAIUkobDjSCR56ZEKIHZVAIkYknHjRCCpaJEKLEYUAI0QgzPjQBzY65EGOBnXAY0Ec/EjQBkIOpEGRAmWAJAAYLGnBkhUsOcGSEiwZwZIQLPnAkg5ISMWXYIYpZphIyDTmmWcCgOaaXyZhJptrqgnnmUq8OeeYct4Z5hIJFWHEEUYUkZCeeBIaJhMIHaHookcgZGiYeRraBBGMVkrEo2BGSqgTlXaK6Zea6vlEp5V+SkWod0JBKqOmojpnFKsuU9rqp1LEquismE5B6aqXfurqnIl26qivpvb5Z6CDEmvqssw2a+ivzmIKbbTPUhvttNbeiW22cG7LbZzfLuttuIWSK62556JbrbqEjsuuu+rCi25AACwSAa0ANACOAIL////KmGWejKGIhsCBhMsAAAAAAAAAAAAI/wABCBxIsGDBAAgTKgxgsKHDhxABLJwYsaLFgxMVXtxYMaNGjiAbekwYsiTBkQhNqkTJUGVJli5foowZEiZNjjZvXsyps+PMnhZ5An0odKjIn0aJIk16dCRTpU6fNvUodWrGqgaLVtUqletTr0zBJhVrlOxQs0DR9lSrk+1NtzThxpTrku7KpVgl4sVq12RfmVHzCvxbc+9Ww10Rf1UclvFYx2Uhn5WclvJay20xv9Ucl/Ncz3VB3w0smDBI0zhF+1UNmKrgwawLk86LemPtnbFP5049m+9u279x9z48PHHxxccbJ3+8PHLzyc8rR788PXP1zdc7Z/+8PXT30a5f3+YOGpz899XnW199rTe97PCly/t0r5s+b/i05UccPx+/b/vAASicf8QRaJyByCGonILMMeicgw8VIOGEFFZYIUsWZpghABp2OCGGHnbIYYgagkiihSOeeCFCAgxAwAACJKQiijOuSMCNOBKAUI0UpshjADkGGQCPE/pYY5BIEimhkTMiGaSSBTCpopM5QinliVTiaCWUWd64pZJAUjmkkleSiJCTO5IJZUItvhhjmkSWCeWcUdJp5514ipgnnnLuqWKffpIIaKAeDkqohoYeSqOicTLaqKM1JgppnZP+WamllwqaqaABAQAsJgGsAAwAfACG/////v7+/v39/fz7/fz6/fv5/Pr4/Pn3+/j1+/j0+/fz+vby+vXx+fTv+fTu+PPt+PLs+PHr9/Dp9/Do9+/o9u/n9u7m9u7l9e3k9ezj9evi9Org9Orf8+ne8+jd8ufc8uba8ubZ8eXY8eTX8OPW8OLU8OLT7+HS7+DR7t/Q7t7O7t7N7d3N7d3M7dzL7NvK7NvJ7NrI69nH69jF6tfE6tfD6tbC6dXB6dS/6NO+6NO96NK859G759C55s+45s+35c625c215cyz5MyzyphlnoyhiIbAgYTLEw4JEg0JEAwIDgsHDQoGCwgFCgcFCAYEBwUDBQQCAwIBAgEBAAAAAAAAAAAAAAAAAAAAAAAAAAAAAAAAAAAAAAAAAAAAAAAAAAAAAAAAAAAAAAAAAAAAAAAAAAAAAAAAAAAAAAAAAAAAAAAAAAAAAAAAAAAAAAAAAAAAAAAAAAAAAAAAAAAAAAAAAAAAAAAAAAAAAAAAAAAAAAAAAAAAAAAAAAAAAAAACP8AARAZSLAgkQAGEwpIaHAAw4IEHhIsIHGggYpEDmBEgDEBRgUYF2BkgLEBRgcYH2CEgDECRgkYKWC0gPECRgwYM2DUgHEDRg4YO2D0gPEDRhAYQ2AUgXEERhIYS2A0gfEERhQYU2BUgZEFRhcYX2CEgTEGRhkYZ2CkgbEGRhsYb2DEgTEHRh0Yd2DkgbEHRh8Yf2AEgjEIxiEYMQopPDjw3757896tOzfu27Zr054tOzYsxhYYV2zNerXq1KhPmy5NerTo0KA/e+7MeXMmxgoYJ7xsuTLlSYxIMCbBqIRgESNHjBQhuGTgkefQjwxkQiS6dSJNrGt3ot36k+7RoYAMhx5l/HMp1cETmRIQACwSAawANACPAIb////+/v7+/f39/Pv9/Pr9+/n8+vj8+ff7+PX7+PT79/P69vL69fH59O/59O748+348uz48ev38On38Oj37+j27+f27ub27uX17eT17OP16+L06uD06t/z6d7z6N3y59zy5try5tnx5djx5Nfw49bw4tTw4tPv4dLv4NHu39Du3s7u3s3t3c3t3czt3Mvs28rs28ns2sjr2cfr2MXq18Tq18Pq1sLp1cHp1L/o077o073o0rzn0bvn0Lnmz7jmz7flzrblzbXlzLPkzLPKmGWejKGIhsCBhMsTDgkSDQkQDAgOCwcNCgYLCAUKBwUIBgQHBQMFBAIDAgECAQEAAAAAAAAAAAAAAAAAAAAAAAAAAAAAAAAAAAAAAAAAAAAAAAAAAAAAAAAAAAAAAAAAAAAAAAAAAAAAAAAAAAAAAAAAAAAAAAAAAAAAAAAAAAAAAAAAAAAAAAAAAAAAAAAAAAAAAAAAAAAAAAAAAAAAAAAAAAAAAAAAAAAAAAAAAAAAAAAI/wABCBxIsGBBIggTKiRisKHDhxABLJwYIKLFiwQnLhSAsWNEjQoHeBzZEGRCAiRTDjSJsIBKlSyJGHiZMuYBmiRjIsA5MmYCnh5jKgDaMeYCohhjMkB6MWYDphZjOoD6keUDqhBjQsD6MGYErg5jSgBbkiUFsgZjWkB7kOUFthlZYoC7kmUGugJjasArkeUGvjE5AGbZYbBJD4ZBfkisEQTjiSEeLxQhWeGIyglJYEZYYjMRE55PeEbhOYVnFZ5ZeHbh+YVnGJ5jeJbheYZnGp5reLbh+YZnHJ5zeNbheYdnHp57ePbh+YdnIJ6DeB7CV0hMvkGu4wWine6P7nB9gP9n22M8Wh7mye5ID1YHe6453mPFIZ/qjfpQbeBnWmM/Uhr+ETVDgEDJQCBPMRyIEwwK0vRCgy+1AKFKK0yYkgoWkpRChiOhwKFHJ3zYkQkiYlRCiReRgKJFI6wYkQguQhRCjA+BQKNDH9zYkAc6GtRBjwVxACRBGww5kAZGCpRBkgBgwKQFTFbA5ARMSsBkBExCwOQDTDowIRVghinmmGIiEROZaKIJQJpsgpnEmW2yuWacaCoBJ51kzomnmEskVIQRRxhRREJ75lmomEwgdMSijB6B0KFi6nloE0Q0aikRkIYpaaFOWOpppmBuuucTnloKKhWi4glFqY2emiqdUbBVyqiroEoh66K0ZjpFpaxiCuqrdCrq6aO/nuonoIISWuypzDbr7KHAPptptNJCW6201F6LZ7baxsltt3KCy+y34hpa7rTnopuutesWSm67764bb7oBAQAsEgGsADQAjwCG/////v7+/v39/fz7/fz6/fv5/Pr4/Pn3+/j1+/j0+/fz+vby+vXx+fTv+fTu+PPt+PLs+PHr9/Dp9/Do9+/o9u/n9u7m9u7l9e3k9ezj9evi9Org9Orf8+ne8+jd8ufc8uba8ubZ8eXY8eTX8OPW8OLU8OLT7+HS7+DR7t/Q7t7O7t7N7d3N7d3M7dzL7NvK7NvJ7NrI69nH69jF6tfE6tfD6tbC6dXB6dS/6NO+6NO96NK859G759C55s+45s+35c625c215cyz5MyzyphlnoyhiIbAgYTLEw4JEg0JEAwIDgsHDQoGCwgFCgcFCAYEBwUDBQQCAwIBAgEBAAAAAAAAAAAAAAAAAAAAAAAAAAAAAAAAAAAAAAAAAAAAAAAAAAAAAAAAAAAAAAAAAAAAAAAAAAAAAAAAAAAAAAAAAAAAAAAAAAAAAAAAAAAAAAAAAAAAAAAAAAAAAAAAAAAAAAAAAAAAAAAAAAAAAAAAAAAAAAAAAAAAAAAAAAAAAAAACP8AAQgcSLCgQSIIEyokYrChw4cQAyycCLGixYYCJi68yPHiAI0KO4p8SABkwpEoCxYwiTClSwAGWDJ8ifKATJooEdzEKTLBTp4cFfwEanHBUKIQGRxF6rDBUqYGHTyFSvDBVKoCIVzFGmErVQleoVIIy9QCWaQXzhLFoBZohrY8NcDFuWEuTQ52X3bI69ID35Qf/qIEIXhkiMIiRSDuOGIxRxKOL5aIbNEE5YonLkNEoflhis4OVYBuyGK0QRemC75ITRAG64ExXguUIRvAjNo0ateobaP2jdo4aueoraP2jto8aveo7aP2j9pAagepPaS2TCFYH8oMkt2hTCDdG8r//BH+IEsf5QvK7JGeoEwe7QfK3BFfoEwd9QHIzJFfJo7+LN0AoEk2DAhSDQZqREOCE83A4EIyPKhQDBImBEOFCL2AIREtbLjChipsmMKGKGx4woYmbFjChiRsOMKGImwYwoYgbPjBhh5s2MGGHGy4wYYabJjBhhhsaMGGFWw4wYYSbBjBhhBs+MCGDrhExZVYZqmlljIhseWXWwIA5phYypQEmWOKiSaYMimx5pdqvsklQkUYcYQRRSS0hJxaxsnnlQgdIeigRyDExJ9Y+vknEYQ2SkQTiF6pKJ+NVupEpFRMKmeljT6BqaZvckooFJ9iSoWog0ZRKqaoCirFqpEyTSoqEVPAimiglSJkKqhrJlTnnXnqaqupxIZZ7LHIJpumssnyyiyfzj77ZrTSoklttctiO6y2cl7LbZ/fIuptuJKSC6253aI7rbprAhAQACH5BAABAAAALBIBrQA0AI4Agv///8qYZZ6MoYiGwIGEywAAAAAAAAAAAAj/AAEIHEiwoMEACBMqDGCwocOHEAEsnBixosWCExde3Fgxo0KOIB16TBiyJMGRCE2qRMlQZUmWLl+ijBkSJk2ONm9ezKmz48yeFnkCfSh0aMOiRjH+TCpyKdODTp+ejCpVIFKpV59mZbo1aVejX4eGBTq2Z1mdZ2+mpbk2ZluXb1dSrRrXZF2ZI6tCzat3Kt++VudiFayVMFfDXhGDVSyWMVnHZiGjlayWMlvLbjHD1Sz3L+C7NTnbFY3XI+CBoEGmxkk6tOe+qzfG3tladW3Wr/XODnpbdm/auen+5h18cPHCxw8nT7x8cfPGzx9Hjzx9cvXK1y9nz7x9c/fOpk9L5Bzu8/to86Uzih+P3nX407vLv/9MPmJ8+/Uh3tefn2j/pu3ZFiBu88H231EH7lWgbgkqNaBv3xUg4YQUVlghSxZmmCEAGnY4IYYedshhiBqCSKKFI554IUICDEDAAAIkpCKKM65IwI04EoBQjRSmyGMAOQYZAI8T+lhjkEgSKaGRMyIZpJIFMKmikzlCKeWJVOJoJZRZ3rilkkBSOaSSV5KIkJM7kgllQi2+GGOaRJYJ5Zx01qmhnHbyiGeeM+7J54l+/hlioIKKWCidhB5Ko6JqMhqno49CWmOiklIKqaWOYspoQAA7\"/>"
      ]
     },
     "metadata": {},
     "execution_count": 14
    }
   ],
   "metadata": {
    "execution": {
     "iopub.execute_input": "2022-10-28T01:27:55.734945Z",
     "iopub.status.busy": "2022-10-28T01:27:55.734695Z",
     "iopub.status.idle": "2022-10-28T01:27:55.918622Z",
     "shell.execute_reply": "2022-10-28T01:27:55.918013Z"
    },
    "id": "TLd720SejKmf"
   }
  },
  {
   "cell_type": "markdown",
   "source": [
    "## Next steps\n",
    "\n",
    "This tutorial demonstrated how to implement the Actor-Critic method using Tensorflow.\n",
    "\n",
    "As a next step, you could try training a model on a different environment in Gym. \n",
    "\n",
    "For additional information regarding Actor-Critic methods and the Cartpole-v0 problem, you may refer to the following resources:\n",
    "\n",
    "- [The Actor-Critic method](https://hal.inria.fr/hal-00840470/document)\n",
    "- [The Actor-Critic lecture (CAL)](https://www.youtube.com/watch?v=EKqxumCuAAY&list=PLkFD6_40KJIwhWJpGazJ9VSj9CFMkb79A&index=7&t=0s)\n",
    "- [Cart Pole learning control problem \\[Barto, et al. 1983\\]](http://www.derongliu.org/adp/adp-cdrom/Barto1983.pdf) \n",
    "\n",
    "For more reinforcement learning examples in TensorFlow, you can check the following resources:\n",
    "- [Reinforcement learning code examples (keras.io)](https://keras.io/examples/rl/)\n",
    "- [TF-Agents reinforcement learning library](https://www.tensorflow.org/agents)\n"
   ],
   "metadata": {
    "id": "lnq9Hzo1Po6X"
   }
  }
 ],
 "metadata": {
  "colab": {
   "collapsed_sections": [
    "_jQ1tEQCxwRx"
   ],
   "name": "actor_critic.ipynb",
   "toc_visible": true
  },
  "kernelspec": {
   "name": "python3",
   "display_name": "Python 3.9.12 64-bit ('base': conda)"
  },
  "language_info": {
   "codemirror_mode": {
    "name": "ipython",
    "version": 3
   },
   "file_extension": ".py",
   "mimetype": "text/x-python",
   "name": "python",
   "nbconvert_exporter": "python",
   "pygments_lexer": "ipython3",
   "version": "3.9.12"
  },
  "interpreter": {
   "hash": "5764c666131615a43c4cfe0609f5f1838e9dd5d10e9382dea6cb1ef2c7e1931b"
  }
 },
 "nbformat": 4,
 "nbformat_minor": 2
}