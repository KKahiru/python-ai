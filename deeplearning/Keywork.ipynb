{
 "cells": [
  {
   "cell_type": "markdown",
   "id": "99737299",
   "metadata": {},
   "source": [
    "# MacKind"
   ]
  },
  {
   "cell_type": "markdown",
   "id": "a89479f2",
   "metadata": {},
   "source": [
    "## Imports"
   ]
  },
  {
   "cell_type": "code",
   "execution_count": 1,
   "id": "a117f6c7",
   "metadata": {},
   "outputs": [],
   "source": [
    "from keras.models import Sequential"
   ]
  },
  {
   "cell_type": "code",
   "execution_count": 2,
   "id": "f571f767",
   "metadata": {},
   "outputs": [],
   "source": [
    "from keras.layers import Activation, Dense"
   ]
  },
  {
   "cell_type": "code",
   "execution_count": 3,
   "id": "1c986f58",
   "metadata": {},
   "outputs": [],
   "source": [
    "from keras.layers import Conv2D, MaxPooling2D, Flatten"
   ]
  },
  {
   "cell_type": "code",
   "execution_count": 4,
   "id": "08c8fd0f",
   "metadata": {},
   "outputs": [],
   "source": [
    "from keras.preprocessing.image import ImageDataGenerator"
   ]
  },
  {
   "cell_type": "code",
   "execution_count": 5,
   "id": "a345d015",
   "metadata": {},
   "outputs": [],
   "source": [
    "import sys"
   ]
  },
  {
   "cell_type": "code",
   "execution_count": 6,
   "id": "c65e779a",
   "metadata": {},
   "outputs": [],
   "source": [
    "from PIL import Image"
   ]
  },
  {
   "cell_type": "code",
   "execution_count": 7,
   "id": "2ec1ec4b",
   "metadata": {},
   "outputs": [],
   "source": [
    "import numpy as np"
   ]
  },
  {
   "cell_type": "code",
   "execution_count": 8,
   "id": "685fbb96",
   "metadata": {},
   "outputs": [
    {
     "ename": "ModuleNotFoundError",
     "evalue": "No module named 'cv2'",
     "output_type": "error",
     "traceback": [
      "\u001b[0;31m---------------------------------------------------------------------------\u001b[0m",
      "\u001b[0;31mModuleNotFoundError\u001b[0m                       Traceback (most recent call last)",
      "Cell \u001b[0;32mIn [8], line 1\u001b[0m\n\u001b[0;32m----> 1\u001b[0m \u001b[38;5;28;01mimport\u001b[39;00m \u001b[38;5;21;01mcv2\u001b[39;00m\n",
      "\u001b[0;31mModuleNotFoundError\u001b[0m: No module named 'cv2'"
     ]
    }
   ],
   "source": [
    "import cv2"
   ]
  },
  {
   "cell_type": "markdown",
   "id": "34d54687",
   "metadata": {},
   "source": [
    "## Make model"
   ]
  },
  {
   "cell_type": "code",
   "execution_count": null,
   "id": "784e7428",
   "metadata": {},
   "outputs": [],
   "source": [
    "model = Sequential()\n",
    "model.add(Conv2D(64, (3, 3), input_shape=(64, 64, 3)))\n",
    "model.add(Activation(\"relu\"))\n",
    "model.add(MaxPooling2D(pool_size=(2, 2)))\n",
    "model.add(Conv2D(64, (3, 3)))\n",
    "model.add(Activation(\"relu\"))\n",
    "model.add(MaxPooling2D(pool_size=(2, 2)))\n",
    "model.add(Flatten())\n",
    "model.add(Dense(256))\n",
    "model.add(Activation(\"relu\"))\n",
    "model.add(Dense(2))\n",
    "model.add(Activation(\"softmax\"))\n",
    "# model.summary()"
   ]
  },
  {
   "cell_type": "markdown",
   "id": "2ff0e47e",
   "metadata": {},
   "source": [
    "## Train"
   ]
  },
  {
   "cell_type": "code",
   "execution_count": null,
   "id": "655c814b",
   "metadata": {},
   "outputs": [],
   "source": [
    "model.compile(\n",
    "        optimizer=\"adam\",\n",
    "        loss=\"categorical_crossentropy\",\n",
    "        metrics=[\"accuracy\"])\n",
    "train_datagen = ImageDataGenerator(rescale=1./255)\n",
    "test_datagen = ImageDataGenerator(rescale=1./255)\n",
    "train_generator = train_datagen.flow_from_directory(\"data/train/keywork\", target_size=(64, 64), batch_size=10)\n",
    "validation_generator= test_datagen.flow_from_directory(\"data/validation/keywork\", target_size=(64, 64), batch_size=10)\n",
    "model.fit(train_generator,\n",
    "        epochs=50,\n",
    "        steps_per_epoch=10,\n",
    "        validation_data=validation_generator,\n",
    "        validation_steps=10)"
   ]
  },
  {
   "cell_type": "markdown",
   "id": "403fcdb2",
   "metadata": {},
   "source": [
    "## Save"
   ]
  },
  {
   "cell_type": "code",
   "execution_count": null,
   "id": "6f918ddd",
   "metadata": {},
   "outputs": [],
   "source": [
    "model.save('Keywork.h5')"
   ]
  },
  {
   "cell_type": "markdown",
   "id": "07f42a54",
   "metadata": {},
   "source": [
    "## Judge"
   ]
  },
  {
   "cell_type": "code",
   "execution_count": null,
   "id": "005c7892",
   "metadata": {},
   "outputs": [],
   "source": [
    "input_image = Image.open(\"/Users/12710037/Downloads/images-3.jpeg\")\n",
    "input_image = input_image.resize((64, 64))\n",
    "np_image = np.array(input_image)\n",
    "np_image = np_image / 255\n",
    "np_image = np_image[np.newaxis, :, :, :]\n",
    "result = model.predict(np_image)\n",
    "print(result)\n",
    "if result[0][0] > result[0][1]:\n",
    "    print(\"これはiMac\")\n",
    "else:\n",
    "    print(\"これはMacBook Air\")"
   ]
  }
 ],
 "metadata": {
  "interpreter": {
   "hash": "5764c666131615a43c4cfe0609f5f1838e9dd5d10e9382dea6cb1ef2c7e1931b"
  },
  "kernelspec": {
   "display_name": "Python 3 (ipykernel)",
   "language": "python",
   "name": "python3"
  },
  "language_info": {
   "codemirror_mode": {
    "name": "ipython",
    "version": 3
   },
   "file_extension": ".py",
   "mimetype": "text/x-python",
   "name": "python",
   "nbconvert_exporter": "python",
   "pygments_lexer": "ipython3",
   "version": "3.9.12"
  }
 },
 "nbformat": 4,
 "nbformat_minor": 5
}
